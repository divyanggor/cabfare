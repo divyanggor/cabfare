{
 "cells": [
  {
   "cell_type": "code",
   "execution_count": 1,
   "metadata": {
    "colab": {
     "base_uri": "https://localhost:8080/",
     "height": 170
    },
    "colab_type": "code",
    "id": "e1M2SCYsWqOb",
    "outputId": "f2797901-586e-4928-f8de-47df4fe3efb3"
   },
   "outputs": [
    {
     "name": "stderr",
     "output_type": "stream",
     "text": [
      "Using TensorFlow backend.\n",
      "/Users/divyanggor/anaconda3/lib/python3.7/site-packages/sklearn/externals/joblib/__init__.py:15: DeprecationWarning: sklearn.externals.joblib is deprecated in 0.21 and will be removed in 0.23. Please import this functionality directly from joblib, which can be installed with: pip install joblib. If this warning is raised when loading pickled models, you may need to re-serialize those models with scikit-learn 0.21+.\n",
      "  warnings.warn(msg, category=DeprecationWarning)\n"
     ]
    }
   ],
   "source": [
    "#!pip install pyforest\n",
    "from pyforest import *\n",
    "from geopy.distance import geodesic \n",
    "from scipy.stats import chi2_contingency\n",
    "from statsmodels.formula.api import ols\n",
    "import statsmodels.api as sm\n",
    "from fancyimpute import KNN\n",
    "from patsy import dmatrices\n",
    "from statsmodels.stats.outliers_influence import variance_inflation_factor\n",
    "import scipy.stats as stats\n",
    "from sklearn.linear_model import LinearRegression,Ridge,Lasso\n",
    "from sklearn.model_selection import GridSearchCV\n",
    "from sklearn.model_selection import RandomizedSearchCV\n",
    "from sklearn.model_selection import cross_val_score\n",
    "from sklearn.metrics import mean_squared_error\n",
    "from sklearn import metrics\n",
    "from sklearn.ensemble import RandomForestRegressor\n",
    "from sklearn.tree import DecisionTreeRegressor\n",
    "from xgboost import XGBRegressor\n",
    "import xgboost as xgb\n",
    "from sklearn.externals import joblib \n",
    "from sklearn.model_selection import StratifiedKFold\n",
    "from sklearn.model_selection import cross_val_score"
   ]
  },
  {
   "cell_type": "code",
   "execution_count": 2,
   "metadata": {
    "colab": {
     "base_uri": "https://localhost:8080/",
     "height": 34
    },
    "colab_type": "code",
    "id": "NgOJcCeKWqOm",
    "outputId": "f89c6a3f-85e7-4d33-84b1-3fc4d540265d"
   },
   "outputs": [
    {
     "data": {
      "text/plain": [
       "'/Users/divyanggor/Documents/Study/Online_Course/Edwisor/Project'"
      ]
     },
     "execution_count": 2,
     "metadata": {},
     "output_type": "execute_result"
    }
   ],
   "source": [
    "#Working Directory\n",
    "os.getcwd()"
   ]
  },
  {
   "cell_type": "code",
   "execution_count": 3,
   "metadata": {
    "colab": {},
    "colab_type": "code",
    "id": "6dzXCJXpWqOs"
   },
   "outputs": [],
   "source": [
    "#Read data as data frame from CSV\n",
    "train_cab = pd.read_csv(\"https://s3-ap-southeast-1.amazonaws.com/edwisor-india-bucket/projects/data/DataN0104/train_cab.zip\")\n",
    "test_cab = pd.read_csv(\"https://s3-ap-southeast-1.amazonaws.com/edwisor-india-bucket/projects/data/DataN0104/test.zip\")"
   ]
  },
  {
   "cell_type": "code",
   "execution_count": 4,
   "metadata": {
    "colab": {
     "base_uri": "https://localhost:8080/",
     "height": 204
    },
    "colab_type": "code",
    "id": "z8BObyCLWqOx",
    "outputId": "0f68697c-c557-433c-baf6-ab06b31bd854"
   },
   "outputs": [
    {
     "data": {
      "text/html": [
       "<div>\n",
       "<style scoped>\n",
       "    .dataframe tbody tr th:only-of-type {\n",
       "        vertical-align: middle;\n",
       "    }\n",
       "\n",
       "    .dataframe tbody tr th {\n",
       "        vertical-align: top;\n",
       "    }\n",
       "\n",
       "    .dataframe thead th {\n",
       "        text-align: right;\n",
       "    }\n",
       "</style>\n",
       "<table border=\"1\" class=\"dataframe\">\n",
       "  <thead>\n",
       "    <tr style=\"text-align: right;\">\n",
       "      <th></th>\n",
       "      <th>fare_amount</th>\n",
       "      <th>pickup_datetime</th>\n",
       "      <th>pickup_longitude</th>\n",
       "      <th>pickup_latitude</th>\n",
       "      <th>dropoff_longitude</th>\n",
       "      <th>dropoff_latitude</th>\n",
       "      <th>passenger_count</th>\n",
       "    </tr>\n",
       "  </thead>\n",
       "  <tbody>\n",
       "    <tr>\n",
       "      <th>0</th>\n",
       "      <td>4.5</td>\n",
       "      <td>2009-06-15 17:26:21 UTC</td>\n",
       "      <td>-73.844311</td>\n",
       "      <td>40.721319</td>\n",
       "      <td>-73.841610</td>\n",
       "      <td>40.712278</td>\n",
       "      <td>1.0</td>\n",
       "    </tr>\n",
       "    <tr>\n",
       "      <th>1</th>\n",
       "      <td>16.9</td>\n",
       "      <td>2010-01-05 16:52:16 UTC</td>\n",
       "      <td>-74.016048</td>\n",
       "      <td>40.711303</td>\n",
       "      <td>-73.979268</td>\n",
       "      <td>40.782004</td>\n",
       "      <td>1.0</td>\n",
       "    </tr>\n",
       "    <tr>\n",
       "      <th>2</th>\n",
       "      <td>5.7</td>\n",
       "      <td>2011-08-18 00:35:00 UTC</td>\n",
       "      <td>-73.982738</td>\n",
       "      <td>40.761270</td>\n",
       "      <td>-73.991242</td>\n",
       "      <td>40.750562</td>\n",
       "      <td>2.0</td>\n",
       "    </tr>\n",
       "    <tr>\n",
       "      <th>3</th>\n",
       "      <td>7.7</td>\n",
       "      <td>2012-04-21 04:30:42 UTC</td>\n",
       "      <td>-73.987130</td>\n",
       "      <td>40.733143</td>\n",
       "      <td>-73.991567</td>\n",
       "      <td>40.758092</td>\n",
       "      <td>1.0</td>\n",
       "    </tr>\n",
       "    <tr>\n",
       "      <th>4</th>\n",
       "      <td>5.3</td>\n",
       "      <td>2010-03-09 07:51:00 UTC</td>\n",
       "      <td>-73.968095</td>\n",
       "      <td>40.768008</td>\n",
       "      <td>-73.956655</td>\n",
       "      <td>40.783762</td>\n",
       "      <td>1.0</td>\n",
       "    </tr>\n",
       "  </tbody>\n",
       "</table>\n",
       "</div>"
      ],
      "text/plain": [
       "  fare_amount          pickup_datetime  pickup_longitude  pickup_latitude  \\\n",
       "0         4.5  2009-06-15 17:26:21 UTC        -73.844311        40.721319   \n",
       "1        16.9  2010-01-05 16:52:16 UTC        -74.016048        40.711303   \n",
       "2         5.7  2011-08-18 00:35:00 UTC        -73.982738        40.761270   \n",
       "3         7.7  2012-04-21 04:30:42 UTC        -73.987130        40.733143   \n",
       "4         5.3  2010-03-09 07:51:00 UTC        -73.968095        40.768008   \n",
       "\n",
       "   dropoff_longitude  dropoff_latitude  passenger_count  \n",
       "0         -73.841610         40.712278              1.0  \n",
       "1         -73.979268         40.782004              1.0  \n",
       "2         -73.991242         40.750562              2.0  \n",
       "3         -73.991567         40.758092              1.0  \n",
       "4         -73.956655         40.783762              1.0  "
      ]
     },
     "execution_count": 4,
     "metadata": {},
     "output_type": "execute_result"
    }
   ],
   "source": [
    "#View top 5 rows of data\n",
    "train_cab.head()"
   ]
  },
  {
   "cell_type": "code",
   "execution_count": 5,
   "metadata": {},
   "outputs": [
    {
     "data": {
      "text/html": [
       "<div>\n",
       "<style scoped>\n",
       "    .dataframe tbody tr th:only-of-type {\n",
       "        vertical-align: middle;\n",
       "    }\n",
       "\n",
       "    .dataframe tbody tr th {\n",
       "        vertical-align: top;\n",
       "    }\n",
       "\n",
       "    .dataframe thead th {\n",
       "        text-align: right;\n",
       "    }\n",
       "</style>\n",
       "<table border=\"1\" class=\"dataframe\">\n",
       "  <thead>\n",
       "    <tr style=\"text-align: right;\">\n",
       "      <th></th>\n",
       "      <th>pickup_datetime</th>\n",
       "      <th>pickup_longitude</th>\n",
       "      <th>pickup_latitude</th>\n",
       "      <th>dropoff_longitude</th>\n",
       "      <th>dropoff_latitude</th>\n",
       "      <th>passenger_count</th>\n",
       "    </tr>\n",
       "  </thead>\n",
       "  <tbody>\n",
       "    <tr>\n",
       "      <th>0</th>\n",
       "      <td>2015-01-27 13:08:24 UTC</td>\n",
       "      <td>-73.973320</td>\n",
       "      <td>40.763805</td>\n",
       "      <td>-73.981430</td>\n",
       "      <td>40.743835</td>\n",
       "      <td>1</td>\n",
       "    </tr>\n",
       "    <tr>\n",
       "      <th>1</th>\n",
       "      <td>2015-01-27 13:08:24 UTC</td>\n",
       "      <td>-73.986862</td>\n",
       "      <td>40.719383</td>\n",
       "      <td>-73.998886</td>\n",
       "      <td>40.739201</td>\n",
       "      <td>1</td>\n",
       "    </tr>\n",
       "    <tr>\n",
       "      <th>2</th>\n",
       "      <td>2011-10-08 11:53:44 UTC</td>\n",
       "      <td>-73.982524</td>\n",
       "      <td>40.751260</td>\n",
       "      <td>-73.979654</td>\n",
       "      <td>40.746139</td>\n",
       "      <td>1</td>\n",
       "    </tr>\n",
       "    <tr>\n",
       "      <th>3</th>\n",
       "      <td>2012-12-01 21:12:12 UTC</td>\n",
       "      <td>-73.981160</td>\n",
       "      <td>40.767807</td>\n",
       "      <td>-73.990448</td>\n",
       "      <td>40.751635</td>\n",
       "      <td>1</td>\n",
       "    </tr>\n",
       "    <tr>\n",
       "      <th>4</th>\n",
       "      <td>2012-12-01 21:12:12 UTC</td>\n",
       "      <td>-73.966046</td>\n",
       "      <td>40.789775</td>\n",
       "      <td>-73.988565</td>\n",
       "      <td>40.744427</td>\n",
       "      <td>1</td>\n",
       "    </tr>\n",
       "  </tbody>\n",
       "</table>\n",
       "</div>"
      ],
      "text/plain": [
       "           pickup_datetime  pickup_longitude  pickup_latitude  \\\n",
       "0  2015-01-27 13:08:24 UTC        -73.973320        40.763805   \n",
       "1  2015-01-27 13:08:24 UTC        -73.986862        40.719383   \n",
       "2  2011-10-08 11:53:44 UTC        -73.982524        40.751260   \n",
       "3  2012-12-01 21:12:12 UTC        -73.981160        40.767807   \n",
       "4  2012-12-01 21:12:12 UTC        -73.966046        40.789775   \n",
       "\n",
       "   dropoff_longitude  dropoff_latitude  passenger_count  \n",
       "0         -73.981430         40.743835                1  \n",
       "1         -73.998886         40.739201                1  \n",
       "2         -73.979654         40.746139                1  \n",
       "3         -73.990448         40.751635                1  \n",
       "4         -73.988565         40.744427                1  "
      ]
     },
     "execution_count": 5,
     "metadata": {},
     "output_type": "execute_result"
    }
   ],
   "source": [
    "test_cab.head()"
   ]
  },
  {
   "cell_type": "code",
   "execution_count": 6,
   "metadata": {
    "colab": {
     "base_uri": "https://localhost:8080/",
     "height": 221
    },
    "colab_type": "code",
    "id": "g-I4LdxRWqO1",
    "outputId": "6920666a-9de7-466d-fdeb-650297b44a4f"
   },
   "outputs": [
    {
     "name": "stdout",
     "output_type": "stream",
     "text": [
      "<class 'pandas.core.frame.DataFrame'>\n",
      "RangeIndex: 16067 entries, 0 to 16066\n",
      "Data columns (total 7 columns):\n",
      "fare_amount          16043 non-null object\n",
      "pickup_datetime      16067 non-null object\n",
      "pickup_longitude     16067 non-null float64\n",
      "pickup_latitude      16067 non-null float64\n",
      "dropoff_longitude    16067 non-null float64\n",
      "dropoff_latitude     16067 non-null float64\n",
      "passenger_count      16012 non-null float64\n",
      "dtypes: float64(5), object(2)\n",
      "memory usage: 878.7+ KB\n"
     ]
    }
   ],
   "source": [
    "#Data Information\n",
    "train_cab.info()"
   ]
  },
  {
   "cell_type": "code",
   "execution_count": 7,
   "metadata": {},
   "outputs": [
    {
     "name": "stdout",
     "output_type": "stream",
     "text": [
      "<class 'pandas.core.frame.DataFrame'>\n",
      "RangeIndex: 9914 entries, 0 to 9913\n",
      "Data columns (total 6 columns):\n",
      "pickup_datetime      9914 non-null object\n",
      "pickup_longitude     9914 non-null float64\n",
      "pickup_latitude      9914 non-null float64\n",
      "dropoff_longitude    9914 non-null float64\n",
      "dropoff_latitude     9914 non-null float64\n",
      "passenger_count      9914 non-null int64\n",
      "dtypes: float64(4), int64(1), object(1)\n",
      "memory usage: 464.8+ KB\n"
     ]
    }
   ],
   "source": [
    "test_cab.info()"
   ]
  },
  {
   "cell_type": "markdown",
   "metadata": {},
   "source": [
    "## Data Type"
   ]
  },
  {
   "cell_type": "code",
   "execution_count": 8,
   "metadata": {
    "colab": {
     "base_uri": "https://localhost:8080/",
     "height": 153
    },
    "colab_type": "code",
    "id": "B3v_zYboWqO5",
    "outputId": "4b1a1877-8342-48a8-928d-769ffe051e59"
   },
   "outputs": [
    {
     "data": {
      "text/plain": [
       "fare_amount           object\n",
       "pickup_datetime       object\n",
       "pickup_longitude     float64\n",
       "pickup_latitude      float64\n",
       "dropoff_longitude    float64\n",
       "dropoff_latitude     float64\n",
       "passenger_count      float64\n",
       "dtype: object"
      ]
     },
     "execution_count": 8,
     "metadata": {},
     "output_type": "execute_result"
    }
   ],
   "source": [
    "train_cab.dtypes"
   ]
  },
  {
   "cell_type": "code",
   "execution_count": 9,
   "metadata": {
    "scrolled": true
   },
   "outputs": [
    {
     "data": {
      "text/plain": [
       "pickup_datetime       object\n",
       "pickup_longitude     float64\n",
       "pickup_latitude      float64\n",
       "dropoff_longitude    float64\n",
       "dropoff_latitude     float64\n",
       "passenger_count        int64\n",
       "dtype: object"
      ]
     },
     "execution_count": 9,
     "metadata": {},
     "output_type": "execute_result"
    }
   ],
   "source": [
    "test_cab.dtypes"
   ]
  },
  {
   "cell_type": "code",
   "execution_count": 10,
   "metadata": {
    "colab": {},
    "colab_type": "code",
    "id": "pkxUptI_WqO-"
   },
   "outputs": [],
   "source": [
    "#Change data type from object to datetime /float64\n",
    "train_cab[\"pickup_datetime\"] = pd.to_datetime(train_cab.pickup_datetime, errors = 'coerce')\n",
    "train_cab[\"fare_amount\"] = pd.to_numeric(train_cab.fare_amount, errors = 'coerce')\n",
    "test_cab[\"pickup_datetime\"] = pd.to_datetime(test_cab.pickup_datetime, errors = 'coerce')"
   ]
  },
  {
   "cell_type": "code",
   "execution_count": 11,
   "metadata": {},
   "outputs": [
    {
     "data": {
      "text/plain": [
       "fare_amount                      float64\n",
       "pickup_datetime      datetime64[ns, UTC]\n",
       "pickup_longitude                 float64\n",
       "pickup_latitude                  float64\n",
       "dropoff_longitude                float64\n",
       "dropoff_latitude                 float64\n",
       "passenger_count                  float64\n",
       "dtype: object"
      ]
     },
     "execution_count": 11,
     "metadata": {},
     "output_type": "execute_result"
    }
   ],
   "source": [
    "train_cab.dtypes"
   ]
  },
  {
   "cell_type": "code",
   "execution_count": 12,
   "metadata": {
    "colab": {
     "base_uri": "https://localhost:8080/",
     "height": 153
    },
    "colab_type": "code",
    "id": "rbF9DX5BWqPC",
    "outputId": "d15a12db-8cd0-4a90-e828-97b739724929",
    "scrolled": true
   },
   "outputs": [
    {
     "data": {
      "text/plain": [
       "pickup_datetime      datetime64[ns, UTC]\n",
       "pickup_longitude                 float64\n",
       "pickup_latitude                  float64\n",
       "dropoff_longitude                float64\n",
       "dropoff_latitude                 float64\n",
       "passenger_count                    int64\n",
       "dtype: object"
      ]
     },
     "execution_count": 12,
     "metadata": {},
     "output_type": "execute_result"
    }
   ],
   "source": [
    "test_cab.dtypes"
   ]
  },
  {
   "cell_type": "code",
   "execution_count": 13,
   "metadata": {
    "colab": {
     "base_uri": "https://localhost:8080/",
     "height": 297
    },
    "colab_type": "code",
    "id": "Y7wVTBtfWqPK",
    "outputId": "0f76eefc-6a27-4142-b0b5-293c44dae383"
   },
   "outputs": [
    {
     "data": {
      "text/html": [
       "<div>\n",
       "<style scoped>\n",
       "    .dataframe tbody tr th:only-of-type {\n",
       "        vertical-align: middle;\n",
       "    }\n",
       "\n",
       "    .dataframe tbody tr th {\n",
       "        vertical-align: top;\n",
       "    }\n",
       "\n",
       "    .dataframe thead th {\n",
       "        text-align: right;\n",
       "    }\n",
       "</style>\n",
       "<table border=\"1\" class=\"dataframe\">\n",
       "  <thead>\n",
       "    <tr style=\"text-align: right;\">\n",
       "      <th></th>\n",
       "      <th>fare_amount</th>\n",
       "      <th>pickup_longitude</th>\n",
       "      <th>pickup_latitude</th>\n",
       "      <th>dropoff_longitude</th>\n",
       "      <th>dropoff_latitude</th>\n",
       "      <th>passenger_count</th>\n",
       "    </tr>\n",
       "  </thead>\n",
       "  <tbody>\n",
       "    <tr>\n",
       "      <th>count</th>\n",
       "      <td>16042.000000</td>\n",
       "      <td>16067.000000</td>\n",
       "      <td>16067.000000</td>\n",
       "      <td>16067.000000</td>\n",
       "      <td>16067.000000</td>\n",
       "      <td>16012.000000</td>\n",
       "    </tr>\n",
       "    <tr>\n",
       "      <th>mean</th>\n",
       "      <td>15.015004</td>\n",
       "      <td>-72.462787</td>\n",
       "      <td>39.914725</td>\n",
       "      <td>-72.462328</td>\n",
       "      <td>39.897906</td>\n",
       "      <td>2.625070</td>\n",
       "    </tr>\n",
       "    <tr>\n",
       "      <th>std</th>\n",
       "      <td>430.460945</td>\n",
       "      <td>10.578384</td>\n",
       "      <td>6.826587</td>\n",
       "      <td>10.575062</td>\n",
       "      <td>6.187087</td>\n",
       "      <td>60.844122</td>\n",
       "    </tr>\n",
       "    <tr>\n",
       "      <th>min</th>\n",
       "      <td>-3.000000</td>\n",
       "      <td>-74.438233</td>\n",
       "      <td>-74.006893</td>\n",
       "      <td>-74.429332</td>\n",
       "      <td>-74.006377</td>\n",
       "      <td>0.000000</td>\n",
       "    </tr>\n",
       "    <tr>\n",
       "      <th>25%</th>\n",
       "      <td>6.000000</td>\n",
       "      <td>-73.992156</td>\n",
       "      <td>40.734927</td>\n",
       "      <td>-73.991182</td>\n",
       "      <td>40.734651</td>\n",
       "      <td>1.000000</td>\n",
       "    </tr>\n",
       "    <tr>\n",
       "      <th>50%</th>\n",
       "      <td>8.500000</td>\n",
       "      <td>-73.981698</td>\n",
       "      <td>40.752603</td>\n",
       "      <td>-73.980172</td>\n",
       "      <td>40.753567</td>\n",
       "      <td>1.000000</td>\n",
       "    </tr>\n",
       "    <tr>\n",
       "      <th>75%</th>\n",
       "      <td>12.500000</td>\n",
       "      <td>-73.966838</td>\n",
       "      <td>40.767381</td>\n",
       "      <td>-73.963643</td>\n",
       "      <td>40.768013</td>\n",
       "      <td>2.000000</td>\n",
       "    </tr>\n",
       "    <tr>\n",
       "      <th>max</th>\n",
       "      <td>54343.000000</td>\n",
       "      <td>40.766125</td>\n",
       "      <td>401.083332</td>\n",
       "      <td>40.802437</td>\n",
       "      <td>41.366138</td>\n",
       "      <td>5345.000000</td>\n",
       "    </tr>\n",
       "  </tbody>\n",
       "</table>\n",
       "</div>"
      ],
      "text/plain": [
       "        fare_amount  pickup_longitude  pickup_latitude  dropoff_longitude  \\\n",
       "count  16042.000000      16067.000000     16067.000000       16067.000000   \n",
       "mean      15.015004        -72.462787        39.914725         -72.462328   \n",
       "std      430.460945         10.578384         6.826587          10.575062   \n",
       "min       -3.000000        -74.438233       -74.006893         -74.429332   \n",
       "25%        6.000000        -73.992156        40.734927         -73.991182   \n",
       "50%        8.500000        -73.981698        40.752603         -73.980172   \n",
       "75%       12.500000        -73.966838        40.767381         -73.963643   \n",
       "max    54343.000000         40.766125       401.083332          40.802437   \n",
       "\n",
       "       dropoff_latitude  passenger_count  \n",
       "count      16067.000000     16012.000000  \n",
       "mean          39.897906         2.625070  \n",
       "std            6.187087        60.844122  \n",
       "min          -74.006377         0.000000  \n",
       "25%           40.734651         1.000000  \n",
       "50%           40.753567         1.000000  \n",
       "75%           40.768013         2.000000  \n",
       "max           41.366138      5345.000000  "
      ]
     },
     "execution_count": 13,
     "metadata": {},
     "output_type": "execute_result"
    }
   ],
   "source": [
    "train_cab.describe()"
   ]
  },
  {
   "cell_type": "code",
   "execution_count": 14,
   "metadata": {
    "colab": {},
    "colab_type": "code",
    "id": "VSv0l1FiWqPO",
    "scrolled": false
   },
   "outputs": [],
   "source": [
    "#Fare amount can't be negative/zero \n",
    "train_cab = train_cab.drop(train_cab[train_cab['fare_amount']<=0].index, axis = 0)\n",
    "# Passenger_count must be positive integer 1, 2, 3, 4, 5 or 6\n",
    "train_cab = train_cab.drop(train_cab[train_cab['passenger_count']>6].index, axis =0)\n",
    "train_cab = train_cab.drop(train_cab[train_cab['passenger_count']<1].index, axis =0)\n",
    "train_cab['passenger_count'] = train_cab['passenger_count'].round(0)\n",
    "#latitude can never be more than 180\n",
    "train_cab = train_cab.drop(train_cab[train_cab['pickup_latitude']>180].index, axis =0)"
   ]
  },
  {
   "cell_type": "code",
   "execution_count": 15,
   "metadata": {
    "colab": {
     "base_uri": "https://localhost:8080/",
     "height": 297
    },
    "colab_type": "code",
    "id": "WCMUDsCLWqPS",
    "outputId": "57a5ea3e-50a9-4993-8462-bb64d4cc6635"
   },
   "outputs": [
    {
     "data": {
      "text/html": [
       "<div>\n",
       "<style scoped>\n",
       "    .dataframe tbody tr th:only-of-type {\n",
       "        vertical-align: middle;\n",
       "    }\n",
       "\n",
       "    .dataframe tbody tr th {\n",
       "        vertical-align: top;\n",
       "    }\n",
       "\n",
       "    .dataframe thead th {\n",
       "        text-align: right;\n",
       "    }\n",
       "</style>\n",
       "<table border=\"1\" class=\"dataframe\">\n",
       "  <thead>\n",
       "    <tr style=\"text-align: right;\">\n",
       "      <th></th>\n",
       "      <th>fare_amount</th>\n",
       "      <th>pickup_longitude</th>\n",
       "      <th>pickup_latitude</th>\n",
       "      <th>dropoff_longitude</th>\n",
       "      <th>dropoff_latitude</th>\n",
       "      <th>passenger_count</th>\n",
       "    </tr>\n",
       "  </thead>\n",
       "  <tbody>\n",
       "    <tr>\n",
       "      <th>count</th>\n",
       "      <td>15960.000000</td>\n",
       "      <td>15984.000000</td>\n",
       "      <td>15984.000000</td>\n",
       "      <td>15984.000000</td>\n",
       "      <td>15984.000000</td>\n",
       "      <td>15929.000000</td>\n",
       "    </tr>\n",
       "    <tr>\n",
       "      <th>mean</th>\n",
       "      <td>15.049085</td>\n",
       "      <td>-72.473455</td>\n",
       "      <td>39.898063</td>\n",
       "      <td>-72.463744</td>\n",
       "      <td>39.898594</td>\n",
       "      <td>1.649633</td>\n",
       "    </tr>\n",
       "    <tr>\n",
       "      <th>std</th>\n",
       "      <td>431.564950</td>\n",
       "      <td>10.543141</td>\n",
       "      <td>6.187131</td>\n",
       "      <td>10.570907</td>\n",
       "      <td>6.186759</td>\n",
       "      <td>1.265923</td>\n",
       "    </tr>\n",
       "    <tr>\n",
       "      <th>min</th>\n",
       "      <td>0.010000</td>\n",
       "      <td>-74.438233</td>\n",
       "      <td>-74.006893</td>\n",
       "      <td>-74.429332</td>\n",
       "      <td>-74.006377</td>\n",
       "      <td>1.000000</td>\n",
       "    </tr>\n",
       "    <tr>\n",
       "      <th>25%</th>\n",
       "      <td>6.000000</td>\n",
       "      <td>-73.992157</td>\n",
       "      <td>40.734941</td>\n",
       "      <td>-73.991181</td>\n",
       "      <td>40.734711</td>\n",
       "      <td>1.000000</td>\n",
       "    </tr>\n",
       "    <tr>\n",
       "      <th>50%</th>\n",
       "      <td>8.500000</td>\n",
       "      <td>-73.981697</td>\n",
       "      <td>40.752633</td>\n",
       "      <td>-73.980166</td>\n",
       "      <td>40.753583</td>\n",
       "      <td>1.000000</td>\n",
       "    </tr>\n",
       "    <tr>\n",
       "      <th>75%</th>\n",
       "      <td>12.500000</td>\n",
       "      <td>-73.966834</td>\n",
       "      <td>40.767395</td>\n",
       "      <td>-73.963643</td>\n",
       "      <td>40.768027</td>\n",
       "      <td>2.000000</td>\n",
       "    </tr>\n",
       "    <tr>\n",
       "      <th>max</th>\n",
       "      <td>54343.000000</td>\n",
       "      <td>40.766125</td>\n",
       "      <td>41.366138</td>\n",
       "      <td>40.802437</td>\n",
       "      <td>41.366138</td>\n",
       "      <td>6.000000</td>\n",
       "    </tr>\n",
       "  </tbody>\n",
       "</table>\n",
       "</div>"
      ],
      "text/plain": [
       "        fare_amount  pickup_longitude  pickup_latitude  dropoff_longitude  \\\n",
       "count  15960.000000      15984.000000     15984.000000       15984.000000   \n",
       "mean      15.049085        -72.473455        39.898063         -72.463744   \n",
       "std      431.564950         10.543141         6.187131          10.570907   \n",
       "min        0.010000        -74.438233       -74.006893         -74.429332   \n",
       "25%        6.000000        -73.992157        40.734941         -73.991181   \n",
       "50%        8.500000        -73.981697        40.752633         -73.980166   \n",
       "75%       12.500000        -73.966834        40.767395         -73.963643   \n",
       "max    54343.000000         40.766125        41.366138          40.802437   \n",
       "\n",
       "       dropoff_latitude  passenger_count  \n",
       "count      15984.000000     15929.000000  \n",
       "mean          39.898594         1.649633  \n",
       "std            6.186759         1.265923  \n",
       "min          -74.006377         1.000000  \n",
       "25%           40.734711         1.000000  \n",
       "50%           40.753583         1.000000  \n",
       "75%           40.768027         2.000000  \n",
       "max           41.366138         6.000000  "
      ]
     },
     "execution_count": 15,
     "metadata": {},
     "output_type": "execute_result"
    }
   ],
   "source": [
    "train_cab.describe()"
   ]
  },
  {
   "cell_type": "markdown",
   "metadata": {},
   "source": [
    "# Missing Value Analysis"
   ]
  },
  {
   "cell_type": "code",
   "execution_count": 16,
   "metadata": {
    "scrolled": true
   },
   "outputs": [
    {
     "data": {
      "text/plain": [
       "fare_amount          24\n",
       "pickup_datetime       1\n",
       "pickup_longitude      0\n",
       "pickup_latitude       0\n",
       "dropoff_longitude     0\n",
       "dropoff_latitude      0\n",
       "passenger_count      55\n",
       "dtype: int64"
      ]
     },
     "execution_count": 16,
     "metadata": {},
     "output_type": "execute_result"
    }
   ],
   "source": [
    "train_cab.isnull().sum()"
   ]
  },
  {
   "cell_type": "code",
   "execution_count": 17,
   "metadata": {},
   "outputs": [
    {
     "data": {
      "text/plain": [
       "pickup_datetime      0\n",
       "pickup_longitude     0\n",
       "pickup_latitude      0\n",
       "dropoff_longitude    0\n",
       "dropoff_latitude     0\n",
       "passenger_count      0\n",
       "dtype: int64"
      ]
     },
     "execution_count": 17,
     "metadata": {},
     "output_type": "execute_result"
    }
   ],
   "source": [
    "test_cab.isnull().sum()"
   ]
  },
  {
   "cell_type": "code",
   "execution_count": 18,
   "metadata": {
    "colab": {
     "base_uri": "https://localhost:8080/",
     "height": 266
    },
    "colab_type": "code",
    "id": "Wk-1LwHzWqPm",
    "outputId": "e7409e38-f2f1-46a6-c0e3-27840406743e"
   },
   "outputs": [
    {
     "data": {
      "text/html": [
       "<div>\n",
       "<style scoped>\n",
       "    .dataframe tbody tr th:only-of-type {\n",
       "        vertical-align: middle;\n",
       "    }\n",
       "\n",
       "    .dataframe tbody tr th {\n",
       "        vertical-align: top;\n",
       "    }\n",
       "\n",
       "    .dataframe thead th {\n",
       "        text-align: right;\n",
       "    }\n",
       "</style>\n",
       "<table border=\"1\" class=\"dataframe\">\n",
       "  <thead>\n",
       "    <tr style=\"text-align: right;\">\n",
       "      <th></th>\n",
       "      <th>variables</th>\n",
       "      <th>missing_percentage</th>\n",
       "    </tr>\n",
       "  </thead>\n",
       "  <tbody>\n",
       "    <tr>\n",
       "      <th>6</th>\n",
       "      <td>passenger_count</td>\n",
       "      <td>0.344094</td>\n",
       "    </tr>\n",
       "    <tr>\n",
       "      <th>0</th>\n",
       "      <td>fare_amount</td>\n",
       "      <td>0.150150</td>\n",
       "    </tr>\n",
       "    <tr>\n",
       "      <th>1</th>\n",
       "      <td>pickup_datetime</td>\n",
       "      <td>0.006256</td>\n",
       "    </tr>\n",
       "    <tr>\n",
       "      <th>2</th>\n",
       "      <td>pickup_longitude</td>\n",
       "      <td>0.000000</td>\n",
       "    </tr>\n",
       "    <tr>\n",
       "      <th>3</th>\n",
       "      <td>pickup_latitude</td>\n",
       "      <td>0.000000</td>\n",
       "    </tr>\n",
       "    <tr>\n",
       "      <th>4</th>\n",
       "      <td>dropoff_longitude</td>\n",
       "      <td>0.000000</td>\n",
       "    </tr>\n",
       "    <tr>\n",
       "      <th>5</th>\n",
       "      <td>dropoff_latitude</td>\n",
       "      <td>0.000000</td>\n",
       "    </tr>\n",
       "  </tbody>\n",
       "</table>\n",
       "</div>"
      ],
      "text/plain": [
       "           variables  missing_percentage\n",
       "6    passenger_count            0.344094\n",
       "0        fare_amount            0.150150\n",
       "1    pickup_datetime            0.006256\n",
       "2   pickup_longitude            0.000000\n",
       "3    pickup_latitude            0.000000\n",
       "4  dropoff_longitude            0.000000\n",
       "5   dropoff_latitude            0.000000"
      ]
     },
     "execution_count": 18,
     "metadata": {},
     "output_type": "execute_result"
    }
   ],
   "source": [
    "#Missing Value Analysis\n",
    "missing_value = pd.DataFrame(train_cab.isnull().sum())\n",
    "missing_value = missing_value.reset_index()\n",
    "missing_value = missing_value.rename(columns = {'index':'variables',0:'missing_percentage'})\n",
    "missing_value['missing_percentage']=(missing_value['missing_percentage']/len(train_cab))*100\n",
    "missing_value = missing_value.sort_values('missing_percentage', ascending= False)\n",
    "missing_value"
   ]
  },
  {
   "cell_type": "code",
   "execution_count": 19,
   "metadata": {
    "colab": {
     "base_uri": "https://localhost:8080/",
     "height": 119
    },
    "colab_type": "code",
    "id": "KyzgYDjrWqPq",
    "outputId": "d89c9c34-86d3-4666-cd90-3e3bf31c49d2"
   },
   "outputs": [
    {
     "name": "stderr",
     "output_type": "stream",
     "text": [
      "/Users/divyanggor/anaconda3/lib/python3.7/site-packages/pandas/core/indexing.py:190: SettingWithCopyWarning: \n",
      "A value is trying to be set on a copy of a slice from a DataFrame\n",
      "\n",
      "See the caveats in the documentation: http://pandas.pydata.org/pandas-docs/stable/indexing.html#indexing-view-versus-copy\n",
      "  self._setitem_with_indexer(indexer, value)\n"
     ]
    },
    {
     "data": {
      "text/plain": [
       "nan"
      ]
     },
     "execution_count": 19,
     "metadata": {},
     "output_type": "execute_result"
    }
   ],
   "source": [
    "#imputation_passenger_count\n",
    "#Original Value = 1\n",
    "#Mean = 1.3142578044948425\n",
    "#Median = 1.0\n",
    "#Mode = 1.0\n",
    "#KNN = 1.38\n",
    "train_cab['passenger_count'].loc[100] = np.nan\n",
    "train_cab['passenger_count'].loc[100]\n",
    "#We will impute passenger_count by KNN Imputation"
   ]
  },
  {
   "cell_type": "code",
   "execution_count": 20,
   "metadata": {
    "colab": {
     "base_uri": "https://localhost:8080/",
     "height": 34
    },
    "colab_type": "code",
    "id": "luq26_C_WqPu",
    "outputId": "1573c99a-f0ff-4efb-89cc-2401607d1389"
   },
   "outputs": [
    {
     "name": "stdout",
     "output_type": "stream",
     "text": [
      "Mean:  1.6496735308890005\n",
      "Median: 1.0\n",
      "Mode: 0    1.0\n",
      "dtype: float64\n"
     ]
    }
   ],
   "source": [
    "print('Mean: ',train_cab['passenger_count'].mean())\n",
    "print('Median:',train_cab['passenger_count'].median())\n",
    "print('Mode:', train_cab['passenger_count'].mode())"
   ]
  },
  {
   "cell_type": "code",
   "execution_count": 21,
   "metadata": {
    "colab": {
     "base_uri": "https://localhost:8080/",
     "height": 266
    },
    "colab_type": "code",
    "id": "p5q3IOi3WqQD",
    "outputId": "5401e369-d439-4c3b-e3e7-7d47c4deb58f"
   },
   "outputs": [
    {
     "data": {
      "text/html": [
       "<div>\n",
       "<style scoped>\n",
       "    .dataframe tbody tr th:only-of-type {\n",
       "        vertical-align: middle;\n",
       "    }\n",
       "\n",
       "    .dataframe tbody tr th {\n",
       "        vertical-align: top;\n",
       "    }\n",
       "\n",
       "    .dataframe thead th {\n",
       "        text-align: right;\n",
       "    }\n",
       "</style>\n",
       "<table border=\"1\" class=\"dataframe\">\n",
       "  <thead>\n",
       "    <tr style=\"text-align: right;\">\n",
       "      <th></th>\n",
       "      <th>0</th>\n",
       "    </tr>\n",
       "  </thead>\n",
       "  <tbody>\n",
       "    <tr>\n",
       "      <th>fare_amount</th>\n",
       "      <td>24</td>\n",
       "    </tr>\n",
       "    <tr>\n",
       "      <th>pickup_datetime</th>\n",
       "      <td>1</td>\n",
       "    </tr>\n",
       "    <tr>\n",
       "      <th>pickup_longitude</th>\n",
       "      <td>0</td>\n",
       "    </tr>\n",
       "    <tr>\n",
       "      <th>pickup_latitude</th>\n",
       "      <td>0</td>\n",
       "    </tr>\n",
       "    <tr>\n",
       "      <th>dropoff_longitude</th>\n",
       "      <td>0</td>\n",
       "    </tr>\n",
       "    <tr>\n",
       "      <th>dropoff_latitude</th>\n",
       "      <td>0</td>\n",
       "    </tr>\n",
       "    <tr>\n",
       "      <th>passenger_count</th>\n",
       "      <td>56</td>\n",
       "    </tr>\n",
       "  </tbody>\n",
       "</table>\n",
       "</div>"
      ],
      "text/plain": [
       "                    0\n",
       "fare_amount        24\n",
       "pickup_datetime     1\n",
       "pickup_longitude    0\n",
       "pickup_latitude     0\n",
       "dropoff_longitude   0\n",
       "dropoff_latitude    0\n",
       "passenger_count    56"
      ]
     },
     "execution_count": 21,
     "metadata": {},
     "output_type": "execute_result"
    }
   ],
   "source": [
    "#Null Values Count\n",
    "pd.DataFrame(train_cab.isnull().sum())"
   ]
  },
  {
   "cell_type": "code",
   "execution_count": 22,
   "metadata": {
    "colab": {
     "base_uri": "https://localhost:8080/",
     "height": 266
    },
    "colab_type": "code",
    "id": "qtt-JH-TWqQP",
    "outputId": "9c4197d7-c565-42c1-89ae-cdca4d7ed8a1"
   },
   "outputs": [
    {
     "data": {
      "text/html": [
       "<div>\n",
       "<style scoped>\n",
       "    .dataframe tbody tr th:only-of-type {\n",
       "        vertical-align: middle;\n",
       "    }\n",
       "\n",
       "    .dataframe tbody tr th {\n",
       "        vertical-align: top;\n",
       "    }\n",
       "\n",
       "    .dataframe thead th {\n",
       "        text-align: right;\n",
       "    }\n",
       "</style>\n",
       "<table border=\"1\" class=\"dataframe\">\n",
       "  <thead>\n",
       "    <tr style=\"text-align: right;\">\n",
       "      <th></th>\n",
       "      <th>0</th>\n",
       "    </tr>\n",
       "  </thead>\n",
       "  <tbody>\n",
       "    <tr>\n",
       "      <th>fare_amount</th>\n",
       "      <td>24</td>\n",
       "    </tr>\n",
       "    <tr>\n",
       "      <th>pickup_datetime</th>\n",
       "      <td>0</td>\n",
       "    </tr>\n",
       "    <tr>\n",
       "      <th>pickup_longitude</th>\n",
       "      <td>0</td>\n",
       "    </tr>\n",
       "    <tr>\n",
       "      <th>pickup_latitude</th>\n",
       "      <td>0</td>\n",
       "    </tr>\n",
       "    <tr>\n",
       "      <th>dropoff_longitude</th>\n",
       "      <td>0</td>\n",
       "    </tr>\n",
       "    <tr>\n",
       "      <th>dropoff_latitude</th>\n",
       "      <td>0</td>\n",
       "    </tr>\n",
       "    <tr>\n",
       "      <th>passenger_count</th>\n",
       "      <td>56</td>\n",
       "    </tr>\n",
       "  </tbody>\n",
       "</table>\n",
       "</div>"
      ],
      "text/plain": [
       "                    0\n",
       "fare_amount        24\n",
       "pickup_datetime     0\n",
       "pickup_longitude    0\n",
       "pickup_latitude     0\n",
       "dropoff_longitude   0\n",
       "dropoff_latitude    0\n",
       "passenger_count    56"
      ]
     },
     "execution_count": 22,
     "metadata": {},
     "output_type": "execute_result"
    }
   ],
   "source": [
    "train_cab = train_cab.dropna(subset = ['pickup_datetime'])\n",
    "pd.DataFrame(train_cab.isnull().sum())"
   ]
  },
  {
   "cell_type": "code",
   "execution_count": 23,
   "metadata": {
    "colab": {
     "base_uri": "https://localhost:8080/",
     "height": 221
    },
    "colab_type": "code",
    "id": "XBpBHG6-WqQT",
    "outputId": "64fc63a5-20b5-45e4-d5bb-8797fdae186d"
   },
   "outputs": [
    {
     "name": "stdout",
     "output_type": "stream",
     "text": [
      "10.0\n"
     ]
    },
    {
     "data": {
      "text/plain": [
       "nan"
      ]
     },
     "execution_count": 23,
     "metadata": {},
     "output_type": "execute_result"
    }
   ],
   "source": [
    "#Imputation fare_amount\n",
    "#actual = 10.0\n",
    "#Mean = 15.409399247348453\n",
    "#Median = 8.5\n",
    "#Mode = 6.5\n",
    "#KNN = 10.068677622209403\n",
    "print(train_cab['fare_amount'].loc[100] )\n",
    "train_cab['fare_amount'].loc[100]=np.nan\n",
    "train_cab['fare_amount'].loc[100] "
   ]
  },
  {
   "cell_type": "code",
   "execution_count": 24,
   "metadata": {
    "colab": {
     "base_uri": "https://localhost:8080/",
     "height": 34
    },
    "colab_type": "code",
    "id": "9je0jSdiWqQX",
    "outputId": "f8f6fbf7-efb7-42a1-d662-74453d074fd4"
   },
   "outputs": [
    {
     "name": "stdout",
     "output_type": "stream",
     "text": [
      "Mean:  15.049624013034057\n",
      "Median:  8.5\n",
      "Mode 0    6.5\n",
      "dtype: float64\n"
     ]
    }
   ],
   "source": [
    "print('Mean: ',train_cab['fare_amount'].mean())\n",
    "print('Median: ', train_cab['fare_amount'].median())\n",
    "print('Mode', train_cab['fare_amount'].mode())"
   ]
  },
  {
   "cell_type": "code",
   "execution_count": 25,
   "metadata": {
    "colab": {},
    "colab_type": "code",
    "id": "I3E5EqqwWqQj"
   },
   "outputs": [],
   "source": [
    "train_cab_pickup_datetime = train_cab['pickup_datetime']"
   ]
  },
  {
   "cell_type": "code",
   "execution_count": 26,
   "metadata": {
    "colab": {
     "base_uri": "https://localhost:8080/",
     "height": 1000
    },
    "colab_type": "code",
    "id": "1iLr85FIWqQo",
    "outputId": "71c71f25-2bc9-4c9f-a14b-aeb9290666fc"
   },
   "outputs": [
    {
     "name": "stdout",
     "output_type": "stream",
     "text": [
      "Imputing row 1/15983 with 0 missing, elapsed time: 141.803\n",
      "Imputing row 101/15983 with 2 missing, elapsed time: 144.831\n",
      "Imputing row 201/15983 with 0 missing, elapsed time: 145.443\n",
      "Imputing row 301/15983 with 0 missing, elapsed time: 145.591\n",
      "Imputing row 401/15983 with 0 missing, elapsed time: 145.718\n",
      "Imputing row 501/15983 with 0 missing, elapsed time: 145.848\n",
      "Imputing row 601/15983 with 0 missing, elapsed time: 145.894\n",
      "Imputing row 701/15983 with 0 missing, elapsed time: 146.038\n",
      "Imputing row 801/15983 with 0 missing, elapsed time: 146.156\n",
      "Imputing row 901/15983 with 0 missing, elapsed time: 146.257\n",
      "Imputing row 1001/15983 with 0 missing, elapsed time: 146.286\n",
      "Imputing row 1101/15983 with 0 missing, elapsed time: 146.286\n",
      "Imputing row 1201/15983 with 0 missing, elapsed time: 146.316\n",
      "Imputing row 1301/15983 with 0 missing, elapsed time: 146.317\n",
      "Imputing row 1401/15983 with 0 missing, elapsed time: 146.386\n",
      "Imputing row 1501/15983 with 0 missing, elapsed time: 146.399\n",
      "Imputing row 1601/15983 with 0 missing, elapsed time: 146.411\n",
      "Imputing row 1701/15983 with 0 missing, elapsed time: 146.441\n",
      "Imputing row 1801/15983 with 0 missing, elapsed time: 146.481\n",
      "Imputing row 1901/15983 with 0 missing, elapsed time: 146.505\n",
      "Imputing row 2001/15983 with 0 missing, elapsed time: 146.555\n",
      "Imputing row 2101/15983 with 0 missing, elapsed time: 146.572\n",
      "Imputing row 2201/15983 with 0 missing, elapsed time: 146.574\n",
      "Imputing row 2301/15983 with 0 missing, elapsed time: 146.601\n",
      "Imputing row 2401/15983 with 0 missing, elapsed time: 146.675\n",
      "Imputing row 2501/15983 with 0 missing, elapsed time: 146.715\n",
      "Imputing row 2601/15983 with 0 missing, elapsed time: 146.716\n",
      "Imputing row 2701/15983 with 0 missing, elapsed time: 146.716\n",
      "Imputing row 2801/15983 with 0 missing, elapsed time: 146.716\n",
      "Imputing row 2901/15983 with 0 missing, elapsed time: 146.717\n",
      "Imputing row 3001/15983 with 0 missing, elapsed time: 146.717\n",
      "Imputing row 3101/15983 with 0 missing, elapsed time: 146.718\n",
      "Imputing row 3201/15983 with 0 missing, elapsed time: 146.719\n",
      "Imputing row 3301/15983 with 0 missing, elapsed time: 146.720\n",
      "Imputing row 3401/15983 with 0 missing, elapsed time: 146.720\n",
      "Imputing row 3501/15983 with 0 missing, elapsed time: 146.721\n",
      "Imputing row 3601/15983 with 0 missing, elapsed time: 146.721\n",
      "Imputing row 3701/15983 with 0 missing, elapsed time: 146.721\n",
      "Imputing row 3801/15983 with 0 missing, elapsed time: 146.722\n",
      "Imputing row 3901/15983 with 0 missing, elapsed time: 146.723\n",
      "Imputing row 4001/15983 with 0 missing, elapsed time: 146.723\n",
      "Imputing row 4101/15983 with 0 missing, elapsed time: 146.732\n",
      "Imputing row 4201/15983 with 0 missing, elapsed time: 146.732\n",
      "Imputing row 4301/15983 with 0 missing, elapsed time: 146.733\n",
      "Imputing row 4401/15983 with 0 missing, elapsed time: 146.733\n",
      "Imputing row 4501/15983 with 0 missing, elapsed time: 146.735\n",
      "Imputing row 4601/15983 with 0 missing, elapsed time: 146.736\n",
      "Imputing row 4701/15983 with 0 missing, elapsed time: 146.737\n",
      "Imputing row 4801/15983 with 0 missing, elapsed time: 146.737\n",
      "Imputing row 4901/15983 with 0 missing, elapsed time: 146.737\n",
      "Imputing row 5001/15983 with 0 missing, elapsed time: 146.738\n",
      "Imputing row 5101/15983 with 0 missing, elapsed time: 146.738\n",
      "Imputing row 5201/15983 with 0 missing, elapsed time: 146.739\n",
      "Imputing row 5301/15983 with 0 missing, elapsed time: 146.739\n",
      "Imputing row 5401/15983 with 0 missing, elapsed time: 146.740\n",
      "Imputing row 5501/15983 with 0 missing, elapsed time: 146.740\n",
      "Imputing row 5601/15983 with 0 missing, elapsed time: 146.741\n",
      "Imputing row 5701/15983 with 0 missing, elapsed time: 146.741\n",
      "Imputing row 5801/15983 with 0 missing, elapsed time: 146.742\n",
      "Imputing row 5901/15983 with 0 missing, elapsed time: 146.742\n",
      "Imputing row 6001/15983 with 0 missing, elapsed time: 147.501\n",
      "Imputing row 6101/15983 with 0 missing, elapsed time: 147.501\n",
      "Imputing row 6201/15983 with 0 missing, elapsed time: 147.502\n",
      "Imputing row 6301/15983 with 0 missing, elapsed time: 147.502\n",
      "Imputing row 6401/15983 with 0 missing, elapsed time: 147.503\n",
      "Imputing row 6501/15983 with 0 missing, elapsed time: 147.504\n",
      "Imputing row 6601/15983 with 0 missing, elapsed time: 147.504\n",
      "Imputing row 6701/15983 with 0 missing, elapsed time: 147.504\n",
      "Imputing row 6801/15983 with 0 missing, elapsed time: 147.505\n",
      "Imputing row 6901/15983 with 0 missing, elapsed time: 147.505\n",
      "Imputing row 7001/15983 with 0 missing, elapsed time: 147.506\n",
      "Imputing row 7101/15983 with 0 missing, elapsed time: 147.509\n",
      "Imputing row 7201/15983 with 0 missing, elapsed time: 147.510\n",
      "Imputing row 7301/15983 with 0 missing, elapsed time: 147.510\n",
      "Imputing row 7401/15983 with 0 missing, elapsed time: 147.510\n",
      "Imputing row 7501/15983 with 0 missing, elapsed time: 147.511\n",
      "Imputing row 7601/15983 with 0 missing, elapsed time: 147.511\n",
      "Imputing row 7701/15983 with 0 missing, elapsed time: 147.511\n",
      "Imputing row 7801/15983 with 0 missing, elapsed time: 147.594\n",
      "Imputing row 7901/15983 with 0 missing, elapsed time: 147.627\n",
      "Imputing row 8001/15983 with 0 missing, elapsed time: 147.633\n",
      "Imputing row 8101/15983 with 0 missing, elapsed time: 147.643\n",
      "Imputing row 8201/15983 with 0 missing, elapsed time: 147.688\n",
      "Imputing row 8301/15983 with 0 missing, elapsed time: 147.791\n",
      "Imputing row 8401/15983 with 0 missing, elapsed time: 147.792\n",
      "Imputing row 8501/15983 with 0 missing, elapsed time: 147.793\n",
      "Imputing row 8601/15983 with 0 missing, elapsed time: 147.793\n",
      "Imputing row 8701/15983 with 0 missing, elapsed time: 147.794\n",
      "Imputing row 8801/15983 with 0 missing, elapsed time: 147.794\n",
      "Imputing row 8901/15983 with 0 missing, elapsed time: 147.795\n",
      "Imputing row 9001/15983 with 0 missing, elapsed time: 147.796\n",
      "Imputing row 9101/15983 with 0 missing, elapsed time: 147.799\n",
      "Imputing row 9201/15983 with 0 missing, elapsed time: 147.800\n",
      "Imputing row 9301/15983 with 0 missing, elapsed time: 147.801\n",
      "Imputing row 9401/15983 with 0 missing, elapsed time: 147.802\n",
      "Imputing row 9501/15983 with 0 missing, elapsed time: 147.802\n",
      "Imputing row 9601/15983 with 0 missing, elapsed time: 147.802\n",
      "Imputing row 9701/15983 with 0 missing, elapsed time: 147.807\n",
      "Imputing row 9801/15983 with 0 missing, elapsed time: 147.808\n",
      "Imputing row 9901/15983 with 0 missing, elapsed time: 147.809\n",
      "Imputing row 10001/15983 with 0 missing, elapsed time: 147.809\n",
      "Imputing row 10101/15983 with 0 missing, elapsed time: 147.809\n",
      "Imputing row 10201/15983 with 0 missing, elapsed time: 147.810\n",
      "Imputing row 10301/15983 with 0 missing, elapsed time: 147.810\n",
      "Imputing row 10401/15983 with 0 missing, elapsed time: 147.810\n",
      "Imputing row 10501/15983 with 0 missing, elapsed time: 147.811\n",
      "Imputing row 10601/15983 with 0 missing, elapsed time: 147.811\n",
      "Imputing row 10701/15983 with 0 missing, elapsed time: 147.813\n",
      "Imputing row 10801/15983 with 0 missing, elapsed time: 147.816\n",
      "Imputing row 10901/15983 with 0 missing, elapsed time: 147.817\n",
      "Imputing row 11001/15983 with 0 missing, elapsed time: 147.817\n",
      "Imputing row 11101/15983 with 0 missing, elapsed time: 147.817\n",
      "Imputing row 11201/15983 with 0 missing, elapsed time: 147.820\n",
      "Imputing row 11301/15983 with 0 missing, elapsed time: 147.820\n",
      "Imputing row 11401/15983 with 0 missing, elapsed time: 147.821\n",
      "Imputing row 11501/15983 with 0 missing, elapsed time: 147.821\n",
      "Imputing row 11601/15983 with 0 missing, elapsed time: 147.821\n",
      "Imputing row 11701/15983 with 0 missing, elapsed time: 147.822\n",
      "Imputing row 11801/15983 with 0 missing, elapsed time: 147.822\n",
      "Imputing row 11901/15983 with 0 missing, elapsed time: 147.822\n",
      "Imputing row 12001/15983 with 0 missing, elapsed time: 147.823\n",
      "Imputing row 12101/15983 with 0 missing, elapsed time: 147.823\n",
      "Imputing row 12201/15983 with 0 missing, elapsed time: 147.825\n",
      "Imputing row 12301/15983 with 0 missing, elapsed time: 147.829\n",
      "Imputing row 12401/15983 with 0 missing, elapsed time: 147.830\n",
      "Imputing row 12501/15983 with 0 missing, elapsed time: 147.830\n",
      "Imputing row 12601/15983 with 0 missing, elapsed time: 147.830\n",
      "Imputing row 12701/15983 with 0 missing, elapsed time: 147.831\n",
      "Imputing row 12801/15983 with 0 missing, elapsed time: 147.831\n",
      "Imputing row 12901/15983 with 0 missing, elapsed time: 147.831\n",
      "Imputing row 13001/15983 with 0 missing, elapsed time: 147.832\n",
      "Imputing row 13101/15983 with 0 missing, elapsed time: 147.832\n",
      "Imputing row 13201/15983 with 0 missing, elapsed time: 147.833\n",
      "Imputing row 13301/15983 with 0 missing, elapsed time: 147.835\n",
      "Imputing row 13401/15983 with 0 missing, elapsed time: 147.836\n",
      "Imputing row 13501/15983 with 0 missing, elapsed time: 147.837\n",
      "Imputing row 13601/15983 with 0 missing, elapsed time: 147.838\n",
      "Imputing row 13701/15983 with 0 missing, elapsed time: 147.838\n",
      "Imputing row 13801/15983 with 0 missing, elapsed time: 147.838\n",
      "Imputing row 13901/15983 with 0 missing, elapsed time: 147.839\n",
      "Imputing row 14001/15983 with 0 missing, elapsed time: 147.841\n",
      "Imputing row 14101/15983 with 0 missing, elapsed time: 147.841\n",
      "Imputing row 14201/15983 with 0 missing, elapsed time: 147.842\n",
      "Imputing row 14301/15983 with 0 missing, elapsed time: 147.842\n",
      "Imputing row 14401/15983 with 0 missing, elapsed time: 147.842\n",
      "Imputing row 14501/15983 with 0 missing, elapsed time: 147.843\n",
      "Imputing row 14601/15983 with 0 missing, elapsed time: 147.843\n",
      "Imputing row 14701/15983 with 0 missing, elapsed time: 147.844\n",
      "Imputing row 14801/15983 with 0 missing, elapsed time: 147.844\n",
      "Imputing row 14901/15983 with 0 missing, elapsed time: 147.844\n",
      "Imputing row 15001/15983 with 0 missing, elapsed time: 147.844\n",
      "Imputing row 15101/15983 with 0 missing, elapsed time: 147.846\n",
      "Imputing row 15201/15983 with 0 missing, elapsed time: 147.848\n",
      "Imputing row 15301/15983 with 0 missing, elapsed time: 147.848\n",
      "Imputing row 15401/15983 with 0 missing, elapsed time: 147.852\n",
      "Imputing row 15501/15983 with 0 missing, elapsed time: 147.853\n",
      "Imputing row 15601/15983 with 0 missing, elapsed time: 147.853\n",
      "Imputing row 15701/15983 with 0 missing, elapsed time: 147.854\n",
      "Imputing row 15801/15983 with 0 missing, elapsed time: 147.855\n",
      "Imputing row 15901/15983 with 0 missing, elapsed time: 147.857\n"
     ]
    }
   ],
   "source": [
    "columns=['fare_amount', 'pickup_longitude', 'pickup_latitude','dropoff_longitude', 'dropoff_latitude', 'passenger_count']\n",
    "train_cab = pd.DataFrame(KNN(k = 3).fit_transform(train_cab.drop('pickup_datetime',axis = 1)),columns = columns, index = train_cab.index)"
   ]
  },
  {
   "cell_type": "code",
   "execution_count": 27,
   "metadata": {
    "colab": {
     "base_uri": "https://localhost:8080/",
     "height": 34
    },
    "colab_type": "code",
    "id": "plmXkdBwWqQu",
    "outputId": "2341a249-a72c-4ed8-ab52-b162bfd894df"
   },
   "outputs": [
    {
     "data": {
      "text/plain": [
       "11.494300428658434"
      ]
     },
     "execution_count": 27,
     "metadata": {},
     "output_type": "execute_result"
    }
   ],
   "source": [
    "train_cab['fare_amount'].loc[100] "
   ]
  },
  {
   "cell_type": "code",
   "execution_count": 28,
   "metadata": {},
   "outputs": [
    {
     "data": {
      "text/plain": [
       "1.3891588624109557"
      ]
     },
     "execution_count": 28,
     "metadata": {},
     "output_type": "execute_result"
    }
   ],
   "source": [
    "train_cab['passenger_count'].loc[100] "
   ]
  },
  {
   "cell_type": "code",
   "execution_count": 29,
   "metadata": {},
   "outputs": [],
   "source": [
    "train_cab['passenger_count'] = train_cab['passenger_count'].round(0)"
   ]
  },
  {
   "cell_type": "code",
   "execution_count": 30,
   "metadata": {
    "colab": {
     "base_uri": "https://localhost:8080/",
     "height": 266
    },
    "colab_type": "code",
    "id": "U6rgjK8fWqQz",
    "outputId": "546adf48-0ff3-46b9-beac-ad788f9b7879",
    "scrolled": true
   },
   "outputs": [
    {
     "data": {
      "text/html": [
       "<div>\n",
       "<style scoped>\n",
       "    .dataframe tbody tr th:only-of-type {\n",
       "        vertical-align: middle;\n",
       "    }\n",
       "\n",
       "    .dataframe tbody tr th {\n",
       "        vertical-align: top;\n",
       "    }\n",
       "\n",
       "    .dataframe thead th {\n",
       "        text-align: right;\n",
       "    }\n",
       "</style>\n",
       "<table border=\"1\" class=\"dataframe\">\n",
       "  <thead>\n",
       "    <tr style=\"text-align: right;\">\n",
       "      <th></th>\n",
       "      <th>0</th>\n",
       "    </tr>\n",
       "  </thead>\n",
       "  <tbody>\n",
       "    <tr>\n",
       "      <th>fare_amount</th>\n",
       "      <td>0</td>\n",
       "    </tr>\n",
       "    <tr>\n",
       "      <th>pickup_longitude</th>\n",
       "      <td>0</td>\n",
       "    </tr>\n",
       "    <tr>\n",
       "      <th>pickup_latitude</th>\n",
       "      <td>0</td>\n",
       "    </tr>\n",
       "    <tr>\n",
       "      <th>dropoff_longitude</th>\n",
       "      <td>0</td>\n",
       "    </tr>\n",
       "    <tr>\n",
       "      <th>dropoff_latitude</th>\n",
       "      <td>0</td>\n",
       "    </tr>\n",
       "    <tr>\n",
       "      <th>passenger_count</th>\n",
       "      <td>0</td>\n",
       "    </tr>\n",
       "    <tr>\n",
       "      <th>pickup_datetime</th>\n",
       "      <td>0</td>\n",
       "    </tr>\n",
       "  </tbody>\n",
       "</table>\n",
       "</div>"
      ],
      "text/plain": [
       "                   0\n",
       "fare_amount        0\n",
       "pickup_longitude   0\n",
       "pickup_latitude    0\n",
       "dropoff_longitude  0\n",
       "dropoff_latitude   0\n",
       "passenger_count    0\n",
       "pickup_datetime    0"
      ]
     },
     "execution_count": 30,
     "metadata": {},
     "output_type": "execute_result"
    }
   ],
   "source": [
    "train_cab['pickup_datetime'] = train_cab_pickup_datetime\n",
    "pd.DataFrame(train_cab.isnull().sum())"
   ]
  },
  {
   "cell_type": "markdown",
   "metadata": {},
   "source": [
    "# Outliner Analysis"
   ]
  },
  {
   "cell_type": "code",
   "execution_count": 31,
   "metadata": {
    "colab": {
     "base_uri": "https://localhost:8080/",
     "height": 339
    },
    "colab_type": "code",
    "id": "M0v8CdPDWqQ_",
    "outputId": "c14dfd29-1b5d-4c23-d861-4fb853b8f38e"
   },
   "outputs": [
    {
     "data": {
      "text/plain": [
       "<matplotlib.axes._subplots.AxesSubplot at 0x1317de1ba8>"
      ]
     },
     "execution_count": 31,
     "metadata": {},
     "output_type": "execute_result"
    },
    {
     "data": {
      "image/png": "[encoded data removed]",
      "text/plain": [
       "<Figure size 1440x360 with 1 Axes>"
      ]
     },
     "metadata": {
      "needs_background": "light"
     },
     "output_type": "display_data"
    }
   ],
   "source": [
    "sns.set(style=\"whitegrid\")\n",
    "%matplotlib inline\n",
    "plt.figure(figsize = (20,5))\n",
    "sns.boxplot(data=train_cab['fare_amount'],orient='h')"
   ]
  },
  {
   "cell_type": "code",
   "execution_count": 32,
   "metadata": {
    "colab": {
     "base_uri": "https://localhost:8080/",
     "height": 356
    },
    "colab_type": "code",
    "id": "YLcLDKNlWqRE",
    "outputId": "12f80b77-74d0-43fe-827f-8f8fd2281cdc"
   },
   "outputs": [
    {
     "data": {
      "text/plain": [
       "<matplotlib.axes._subplots.AxesSubplot at 0x1c3175fda0>"
      ]
     },
     "execution_count": 32,
     "metadata": {},
     "output_type": "execute_result"
    },
    {
     "data": {
      "image/png": "[encoded data removed]",
      "text/plain": [
       "<Figure size 1440x360 with 1 Axes>"
      ]
     },
     "metadata": {
      "needs_background": "light"
     },
     "output_type": "display_data"
    }
   ],
   "source": [
    "plt.figure(figsize = (20,5))\n",
    "sns.boxplot(x=train_cab['fare_amount'],y=train_cab['passenger_count'],data=train_cab,orient='h')\n",
    "#sns.boxplot(data=temp,x=train['fare_amount'],y=train['passenger_count'],orient = 'h', palette=\"colorblind\",width=0.9)"
   ]
  },
  {
   "cell_type": "code",
   "execution_count": 33,
   "metadata": {
    "colab": {
     "base_uri": "https://localhost:8080/",
     "height": 355
    },
    "colab_type": "code",
    "id": "ryN06okdWqTI",
    "outputId": "cf866ccc-1943-493a-8239-2506254845f0",
    "scrolled": true
   },
   "outputs": [
    {
     "data": {
      "image/png": "[encoded data removed]",
      "text/plain": [
       "<Figure size 1440x360 with 1 Axes>"
      ]
     },
     "metadata": {
      "needs_background": "light"
     },
     "output_type": "display_data"
    }
   ],
   "source": [
    "plt.figure(figsize=(20,5))\n",
    "plt.xlim(0,100) \n",
    "sns.boxplot(x=train_cab['fare_amount'],data=train_cab,orient='h') \n",
    "plt.title('Boxplot of fare_amount')\n",
    "# plt.savefig('bp of fare_amount.png')\n",
    "plt.show()"
   ]
  },
  {
   "cell_type": "code",
   "execution_count": 34,
   "metadata": {
    "colab": {
     "base_uri": "https://localhost:8080/",
     "height": 266
    },
    "colab_type": "code",
    "id": "te6sXFGjWqTT",
    "outputId": "fc6eb3da-dbff-4401-fdf7-c37447ac43f5"
   },
   "outputs": [
    {
     "name": "stderr",
     "output_type": "stream",
     "text": [
      "/Users/divyanggor/anaconda3/lib/python3.7/site-packages/ipykernel_launcher.py:13: SettingWithCopyWarning: \n",
      "A value is trying to be set on a copy of a slice from a DataFrame\n",
      "\n",
      "See the caveats in the documentation: http://pandas.pydata.org/pandas-docs/stable/indexing.html#indexing-view-versus-copy\n",
      "  del sys.path[0]\n",
      "/Users/divyanggor/anaconda3/lib/python3.7/site-packages/ipykernel_launcher.py:14: SettingWithCopyWarning: \n",
      "A value is trying to be set on a copy of a slice from a DataFrame\n",
      "\n",
      "See the caveats in the documentation: http://pandas.pydata.org/pandas-docs/stable/indexing.html#indexing-view-versus-copy\n",
      "  \n"
     ]
    },
    {
     "data": {
      "text/html": [
       "<div>\n",
       "<style scoped>\n",
       "    .dataframe tbody tr th:only-of-type {\n",
       "        vertical-align: middle;\n",
       "    }\n",
       "\n",
       "    .dataframe tbody tr th {\n",
       "        vertical-align: top;\n",
       "    }\n",
       "\n",
       "    .dataframe thead th {\n",
       "        text-align: right;\n",
       "    }\n",
       "</style>\n",
       "<table border=\"1\" class=\"dataframe\">\n",
       "  <thead>\n",
       "    <tr style=\"text-align: right;\">\n",
       "      <th></th>\n",
       "      <th>0</th>\n",
       "    </tr>\n",
       "  </thead>\n",
       "  <tbody>\n",
       "    <tr>\n",
       "      <th>fare_amount</th>\n",
       "      <td>1396</td>\n",
       "    </tr>\n",
       "    <tr>\n",
       "      <th>pickup_longitude</th>\n",
       "      <td>0</td>\n",
       "    </tr>\n",
       "    <tr>\n",
       "      <th>pickup_latitude</th>\n",
       "      <td>0</td>\n",
       "    </tr>\n",
       "    <tr>\n",
       "      <th>dropoff_longitude</th>\n",
       "      <td>0</td>\n",
       "    </tr>\n",
       "    <tr>\n",
       "      <th>dropoff_latitude</th>\n",
       "      <td>0</td>\n",
       "    </tr>\n",
       "    <tr>\n",
       "      <th>passenger_count</th>\n",
       "      <td>0</td>\n",
       "    </tr>\n",
       "    <tr>\n",
       "      <th>pickup_datetime</th>\n",
       "      <td>0</td>\n",
       "    </tr>\n",
       "  </tbody>\n",
       "</table>\n",
       "</div>"
      ],
      "text/plain": [
       "                      0\n",
       "fare_amount        1396\n",
       "pickup_longitude      0\n",
       "pickup_latitude       0\n",
       "dropoff_longitude     0\n",
       "dropoff_latitude      0\n",
       "passenger_count       0\n",
       "pickup_datetime       0"
      ]
     },
     "execution_count": 34,
     "metadata": {},
     "output_type": "execute_result"
    }
   ],
   "source": [
    "#Outliner Analysis\n",
    "q75, q25 = np.percentile(train_cab['fare_amount'], [75 ,25])\n",
    "\n",
    "#Calculate IQR\n",
    "iqr = q75 - q25\n",
    "\n",
    "#Calculate inner and outer fence\n",
    "minimum = q25 - (iqr*1.5)\n",
    "maximum = q75 + (iqr*1.5)\n",
    "\n",
    "\n",
    "#Replace with NA\n",
    "train_cab.fare_amount[train_cab.fare_amount < minimum] = np.nan\n",
    "train_cab.fare_amount[train_cab.fare_amount > maximum] = np.nan\n",
    "pd.DataFrame(train_cab.isnull().sum())"
   ]
  },
  {
   "cell_type": "code",
   "execution_count": 35,
   "metadata": {
    "colab": {
     "base_uri": "https://localhost:8080/",
     "height": 102
    },
    "colab_type": "code",
    "id": "ZNWYPsQmWqTZ",
    "outputId": "5ac2a1f4-c8c8-4ede-f7e1-e0d53b2b9536"
   },
   "outputs": [
    {
     "name": "stderr",
     "output_type": "stream",
     "text": [
      "/Users/divyanggor/anaconda3/lib/python3.7/site-packages/pandas/core/indexing.py:190: SettingWithCopyWarning: \n",
      "A value is trying to be set on a copy of a slice from a DataFrame\n",
      "\n",
      "See the caveats in the documentation: http://pandas.pydata.org/pandas-docs/stable/indexing.html#indexing-view-versus-copy\n",
      "  self._setitem_with_indexer(indexer, value)\n"
     ]
    }
   ],
   "source": [
    "train_cab_pickup_datetime = train_cab['pickup_datetime']\n",
    "#temp_cab = train_cab\n",
    "#actual 17.3\n",
    "train_cab['fare_amount'].loc[150]=np.nan"
   ]
  },
  {
   "cell_type": "code",
   "execution_count": 36,
   "metadata": {
    "colab": {
     "base_uri": "https://localhost:8080/",
     "height": 1000
    },
    "colab_type": "code",
    "id": "W5IVOyL8WqTf",
    "outputId": "6207e5a4-0c43-4639-b0e7-804823a2ae7d"
   },
   "outputs": [
    {
     "name": "stdout",
     "output_type": "stream",
     "text": [
      "Imputing row 1/15983 with 0 missing, elapsed time: 104.580\n",
      "Imputing row 101/15983 with 0 missing, elapsed time: 105.375\n",
      "Imputing row 201/15983 with 0 missing, elapsed time: 106.137\n",
      "Imputing row 301/15983 with 0 missing, elapsed time: 106.532\n",
      "Imputing row 401/15983 with 0 missing, elapsed time: 106.793\n",
      "Imputing row 501/15983 with 0 missing, elapsed time: 107.137\n",
      "Imputing row 601/15983 with 0 missing, elapsed time: 107.648\n",
      "Imputing row 701/15983 with 1 missing, elapsed time: 107.980\n",
      "Imputing row 801/15983 with 1 missing, elapsed time: 108.625\n",
      "Imputing row 901/15983 with 0 missing, elapsed time: 108.855\n",
      "Imputing row 1001/15983 with 1 missing, elapsed time: 109.033\n",
      "Imputing row 1101/15983 with 0 missing, elapsed time: 109.928\n",
      "Imputing row 1201/15983 with 0 missing, elapsed time: 110.845\n",
      "Imputing row 1301/15983 with 0 missing, elapsed time: 111.723\n",
      "Imputing row 1401/15983 with 0 missing, elapsed time: 112.565\n",
      "Imputing row 1501/15983 with 0 missing, elapsed time: 113.839\n",
      "Imputing row 1601/15983 with 0 missing, elapsed time: 115.018\n",
      "Imputing row 1701/15983 with 0 missing, elapsed time: 117.624\n",
      "Imputing row 1801/15983 with 0 missing, elapsed time: 118.511\n",
      "Imputing row 1901/15983 with 0 missing, elapsed time: 118.901\n",
      "Imputing row 2001/15983 with 0 missing, elapsed time: 119.914\n",
      "Imputing row 2101/15983 with 0 missing, elapsed time: 120.086\n",
      "Imputing row 2201/15983 with 0 missing, elapsed time: 121.212\n",
      "Imputing row 2301/15983 with 0 missing, elapsed time: 121.524\n",
      "Imputing row 2401/15983 with 0 missing, elapsed time: 121.841\n",
      "Imputing row 2501/15983 with 0 missing, elapsed time: 121.962\n",
      "Imputing row 2601/15983 with 0 missing, elapsed time: 122.171\n",
      "Imputing row 2701/15983 with 0 missing, elapsed time: 122.350\n",
      "Imputing row 2801/15983 with 0 missing, elapsed time: 122.607\n",
      "Imputing row 2901/15983 with 1 missing, elapsed time: 123.380\n",
      "Imputing row 3001/15983 with 0 missing, elapsed time: 123.563\n",
      "Imputing row 3101/15983 with 0 missing, elapsed time: 123.638\n",
      "Imputing row 3201/15983 with 0 missing, elapsed time: 124.458\n",
      "Imputing row 3301/15983 with 0 missing, elapsed time: 124.762\n",
      "Imputing row 3401/15983 with 0 missing, elapsed time: 124.832\n",
      "Imputing row 3501/15983 with 0 missing, elapsed time: 124.870\n",
      "Imputing row 3601/15983 with 0 missing, elapsed time: 124.906\n",
      "Imputing row 3701/15983 with 0 missing, elapsed time: 124.947\n",
      "Imputing row 3801/15983 with 0 missing, elapsed time: 124.987\n",
      "Imputing row 3901/15983 with 0 missing, elapsed time: 125.113\n",
      "Imputing row 4001/15983 with 0 missing, elapsed time: 125.148\n",
      "Imputing row 4101/15983 with 0 missing, elapsed time: 125.183\n",
      "Imputing row 4201/15983 with 1 missing, elapsed time: 125.224\n",
      "Imputing row 4301/15983 with 0 missing, elapsed time: 125.359\n",
      "Imputing row 4401/15983 with 1 missing, elapsed time: 125.510\n",
      "Imputing row 4501/15983 with 0 missing, elapsed time: 125.587\n",
      "Imputing row 4601/15983 with 0 missing, elapsed time: 125.692\n",
      "Imputing row 4701/15983 with 0 missing, elapsed time: 125.838\n",
      "Imputing row 4801/15983 with 0 missing, elapsed time: 125.923\n",
      "Imputing row 4901/15983 with 0 missing, elapsed time: 125.956\n",
      "Imputing row 5001/15983 with 0 missing, elapsed time: 126.443\n",
      "Imputing row 5101/15983 with 0 missing, elapsed time: 127.145\n",
      "Imputing row 5201/15983 with 0 missing, elapsed time: 128.005\n",
      "Imputing row 5301/15983 with 0 missing, elapsed time: 128.149\n",
      "Imputing row 5401/15983 with 0 missing, elapsed time: 128.358\n",
      "Imputing row 5501/15983 with 0 missing, elapsed time: 128.455\n",
      "Imputing row 5601/15983 with 1 missing, elapsed time: 128.856\n",
      "Imputing row 5701/15983 with 0 missing, elapsed time: 129.554\n",
      "Imputing row 5801/15983 with 0 missing, elapsed time: 130.422\n",
      "Imputing row 5901/15983 with 0 missing, elapsed time: 131.336\n",
      "Imputing row 6001/15983 with 0 missing, elapsed time: 131.628\n",
      "Imputing row 6101/15983 with 0 missing, elapsed time: 133.744\n",
      "Imputing row 6201/15983 with 1 missing, elapsed time: 135.126\n",
      "Imputing row 6301/15983 with 0 missing, elapsed time: 137.196\n",
      "Imputing row 6401/15983 with 0 missing, elapsed time: 137.400\n",
      "Imputing row 6501/15983 with 0 missing, elapsed time: 139.199\n",
      "Imputing row 6601/15983 with 0 missing, elapsed time: 139.628\n",
      "Imputing row 6701/15983 with 0 missing, elapsed time: 140.198\n",
      "Imputing row 6801/15983 with 0 missing, elapsed time: 141.015\n",
      "Imputing row 6901/15983 with 1 missing, elapsed time: 141.667\n",
      "Imputing row 7001/15983 with 0 missing, elapsed time: 142.087\n",
      "Imputing row 7101/15983 with 0 missing, elapsed time: 142.254\n",
      "Imputing row 7201/15983 with 0 missing, elapsed time: 142.915\n",
      "Imputing row 7301/15983 with 1 missing, elapsed time: 143.342\n",
      "Imputing row 7401/15983 with 0 missing, elapsed time: 143.675\n",
      "Imputing row 7501/15983 with 0 missing, elapsed time: 144.051\n",
      "Imputing row 7601/15983 with 0 missing, elapsed time: 144.357\n",
      "Imputing row 7701/15983 with 0 missing, elapsed time: 144.413\n",
      "Imputing row 7801/15983 with 0 missing, elapsed time: 144.457\n",
      "Imputing row 7901/15983 with 0 missing, elapsed time: 144.642\n",
      "Imputing row 8001/15983 with 1 missing, elapsed time: 144.721\n",
      "Imputing row 8101/15983 with 0 missing, elapsed time: 144.777\n",
      "Imputing row 8201/15983 with 0 missing, elapsed time: 144.838\n",
      "Imputing row 8301/15983 with 0 missing, elapsed time: 144.914\n",
      "Imputing row 8401/15983 with 0 missing, elapsed time: 144.967\n",
      "Imputing row 8501/15983 with 0 missing, elapsed time: 145.187\n",
      "Imputing row 8601/15983 with 0 missing, elapsed time: 145.221\n",
      "Imputing row 8701/15983 with 0 missing, elapsed time: 145.285\n",
      "Imputing row 8801/15983 with 0 missing, elapsed time: 145.931\n",
      "Imputing row 8901/15983 with 0 missing, elapsed time: 147.226\n",
      "Imputing row 9001/15983 with 0 missing, elapsed time: 147.654\n",
      "Imputing row 9101/15983 with 0 missing, elapsed time: 148.102\n",
      "Imputing row 9201/15983 with 1 missing, elapsed time: 148.147\n",
      "Imputing row 9301/15983 with 0 missing, elapsed time: 148.190\n",
      "Imputing row 9401/15983 with 0 missing, elapsed time: 148.314\n",
      "Imputing row 9501/15983 with 0 missing, elapsed time: 148.327\n",
      "Imputing row 9601/15983 with 0 missing, elapsed time: 148.338\n",
      "Imputing row 9701/15983 with 0 missing, elapsed time: 148.371\n",
      "Imputing row 9801/15983 with 0 missing, elapsed time: 148.411\n",
      "Imputing row 9901/15983 with 0 missing, elapsed time: 148.436\n",
      "Imputing row 10001/15983 with 0 missing, elapsed time: 148.457\n",
      "Imputing row 10101/15983 with 0 missing, elapsed time: 148.477\n",
      "Imputing row 10201/15983 with 0 missing, elapsed time: 148.508\n",
      "Imputing row 10301/15983 with 0 missing, elapsed time: 148.602\n",
      "Imputing row 10401/15983 with 0 missing, elapsed time: 148.681\n",
      "Imputing row 10501/15983 with 0 missing, elapsed time: 148.743\n",
      "Imputing row 10601/15983 with 0 missing, elapsed time: 148.820\n",
      "Imputing row 10701/15983 with 0 missing, elapsed time: 148.923\n",
      "Imputing row 10801/15983 with 0 missing, elapsed time: 149.036\n",
      "Imputing row 10901/15983 with 0 missing, elapsed time: 149.240\n",
      "Imputing row 11001/15983 with 0 missing, elapsed time: 149.486\n",
      "Imputing row 11101/15983 with 0 missing, elapsed time: 149.519\n",
      "Imputing row 11201/15983 with 0 missing, elapsed time: 149.576\n",
      "Imputing row 11301/15983 with 0 missing, elapsed time: 149.685\n",
      "Imputing row 11401/15983 with 1 missing, elapsed time: 150.197\n",
      "Imputing row 11501/15983 with 0 missing, elapsed time: 150.527\n",
      "Imputing row 11601/15983 with 0 missing, elapsed time: 150.680\n",
      "Imputing row 11701/15983 with 0 missing, elapsed time: 151.308\n",
      "Imputing row 11801/15983 with 0 missing, elapsed time: 151.747\n",
      "Imputing row 11901/15983 with 1 missing, elapsed time: 151.958\n",
      "Imputing row 12001/15983 with 0 missing, elapsed time: 152.569\n",
      "Imputing row 12101/15983 with 0 missing, elapsed time: 153.085\n",
      "Imputing row 12201/15983 with 0 missing, elapsed time: 153.110\n",
      "Imputing row 12301/15983 with 0 missing, elapsed time: 153.142\n",
      "Imputing row 12401/15983 with 1 missing, elapsed time: 153.169\n",
      "Imputing row 12501/15983 with 0 missing, elapsed time: 153.176\n",
      "Imputing row 12601/15983 with 0 missing, elapsed time: 153.439\n",
      "Imputing row 12701/15983 with 0 missing, elapsed time: 153.454\n",
      "Imputing row 12801/15983 with 0 missing, elapsed time: 153.482\n",
      "Imputing row 12901/15983 with 0 missing, elapsed time: 153.503\n",
      "Imputing row 13001/15983 with 0 missing, elapsed time: 153.540\n",
      "Imputing row 13101/15983 with 0 missing, elapsed time: 153.561\n",
      "Imputing row 13201/15983 with 0 missing, elapsed time: 153.581\n",
      "Imputing row 13301/15983 with 0 missing, elapsed time: 153.609\n",
      "Imputing row 13401/15983 with 0 missing, elapsed time: 153.630\n"
     ]
    },
    {
     "name": "stdout",
     "output_type": "stream",
     "text": [
      "Imputing row 13501/15983 with 0 missing, elapsed time: 153.648\n",
      "Imputing row 13601/15983 with 0 missing, elapsed time: 153.684\n",
      "Imputing row 13701/15983 with 0 missing, elapsed time: 153.701\n",
      "Imputing row 13801/15983 with 0 missing, elapsed time: 153.762\n",
      "Imputing row 13901/15983 with 0 missing, elapsed time: 153.780\n",
      "Imputing row 14001/15983 with 0 missing, elapsed time: 153.811\n",
      "Imputing row 14101/15983 with 0 missing, elapsed time: 153.830\n",
      "Imputing row 14201/15983 with 0 missing, elapsed time: 153.857\n",
      "Imputing row 14301/15983 with 0 missing, elapsed time: 154.039\n",
      "Imputing row 14401/15983 with 0 missing, elapsed time: 154.112\n",
      "Imputing row 14501/15983 with 0 missing, elapsed time: 154.455\n",
      "Imputing row 14601/15983 with 0 missing, elapsed time: 154.500\n",
      "Imputing row 14701/15983 with 0 missing, elapsed time: 154.521\n",
      "Imputing row 14801/15983 with 1 missing, elapsed time: 154.530\n",
      "Imputing row 14901/15983 with 0 missing, elapsed time: 154.554\n",
      "Imputing row 15001/15983 with 0 missing, elapsed time: 154.585\n",
      "Imputing row 15101/15983 with 0 missing, elapsed time: 154.607\n",
      "Imputing row 15201/15983 with 0 missing, elapsed time: 154.624\n",
      "Imputing row 15301/15983 with 0 missing, elapsed time: 154.647\n",
      "Imputing row 15401/15983 with 0 missing, elapsed time: 154.677\n",
      "Imputing row 15501/15983 with 0 missing, elapsed time: 154.787\n",
      "Imputing row 15601/15983 with 0 missing, elapsed time: 154.810\n",
      "Imputing row 15701/15983 with 1 missing, elapsed time: 154.863\n",
      "Imputing row 15801/15983 with 1 missing, elapsed time: 154.912\n",
      "Imputing row 15901/15983 with 0 missing, elapsed time: 154.944\n"
     ]
    }
   ],
   "source": [
    "#KNN for NA values\n",
    "columns=['fare_amount', 'pickup_longitude', 'pickup_latitude','dropoff_longitude', 'dropoff_latitude', 'passenger_count']\n",
    "train_cab = pd.DataFrame(KNN(k = 50).fit_transform(train_cab.drop('pickup_datetime',axis = 1)),columns = columns, index = train_cab.index);"
   ]
  },
  {
   "cell_type": "code",
   "execution_count": 37,
   "metadata": {
    "colab": {
     "base_uri": "https://localhost:8080/",
     "height": 34
    },
    "colab_type": "code",
    "id": "z56ypt6OWqTk",
    "outputId": "fcef8d5e-996b-41cf-83a5-f1db44d66f63"
   },
   "outputs": [
    {
     "data": {
      "text/plain": [
       "16.16393742083369"
      ]
     },
     "execution_count": 37,
     "metadata": {},
     "output_type": "execute_result"
    }
   ],
   "source": [
    "train_cab['fare_amount'].loc[150]"
   ]
  },
  {
   "cell_type": "code",
   "execution_count": 38,
   "metadata": {
    "colab": {},
    "colab_type": "code",
    "id": "JeixgVIFNP8A"
   },
   "outputs": [],
   "source": [
    "train_cab['pickup_datetime']=train_cab_pickup_datetime"
   ]
  },
  {
   "cell_type": "code",
   "execution_count": 39,
   "metadata": {},
   "outputs": [
    {
     "data": {
      "text/html": [
       "<div>\n",
       "<style scoped>\n",
       "    .dataframe tbody tr th:only-of-type {\n",
       "        vertical-align: middle;\n",
       "    }\n",
       "\n",
       "    .dataframe tbody tr th {\n",
       "        vertical-align: top;\n",
       "    }\n",
       "\n",
       "    .dataframe thead th {\n",
       "        text-align: right;\n",
       "    }\n",
       "</style>\n",
       "<table border=\"1\" class=\"dataframe\">\n",
       "  <thead>\n",
       "    <tr style=\"text-align: right;\">\n",
       "      <th></th>\n",
       "      <th>fare_amount</th>\n",
       "      <th>pickup_longitude</th>\n",
       "      <th>pickup_latitude</th>\n",
       "      <th>dropoff_longitude</th>\n",
       "      <th>dropoff_latitude</th>\n",
       "      <th>passenger_count</th>\n",
       "      <th>pickup_datetime</th>\n",
       "    </tr>\n",
       "  </thead>\n",
       "  <tbody>\n",
       "    <tr>\n",
       "      <th>0</th>\n",
       "      <td>4.5</td>\n",
       "      <td>-73.844311</td>\n",
       "      <td>40.721319</td>\n",
       "      <td>-73.841610</td>\n",
       "      <td>40.712278</td>\n",
       "      <td>1.0</td>\n",
       "      <td>2009-06-15 17:26:21+00:00</td>\n",
       "    </tr>\n",
       "    <tr>\n",
       "      <th>1</th>\n",
       "      <td>16.9</td>\n",
       "      <td>-74.016048</td>\n",
       "      <td>40.711303</td>\n",
       "      <td>-73.979268</td>\n",
       "      <td>40.782004</td>\n",
       "      <td>1.0</td>\n",
       "      <td>2010-01-05 16:52:16+00:00</td>\n",
       "    </tr>\n",
       "    <tr>\n",
       "      <th>2</th>\n",
       "      <td>5.7</td>\n",
       "      <td>-73.982738</td>\n",
       "      <td>40.761270</td>\n",
       "      <td>-73.991242</td>\n",
       "      <td>40.750562</td>\n",
       "      <td>2.0</td>\n",
       "      <td>2011-08-18 00:35:00+00:00</td>\n",
       "    </tr>\n",
       "    <tr>\n",
       "      <th>3</th>\n",
       "      <td>7.7</td>\n",
       "      <td>-73.987130</td>\n",
       "      <td>40.733143</td>\n",
       "      <td>-73.991567</td>\n",
       "      <td>40.758092</td>\n",
       "      <td>1.0</td>\n",
       "      <td>2012-04-21 04:30:42+00:00</td>\n",
       "    </tr>\n",
       "    <tr>\n",
       "      <th>4</th>\n",
       "      <td>5.3</td>\n",
       "      <td>-73.968095</td>\n",
       "      <td>40.768008</td>\n",
       "      <td>-73.956655</td>\n",
       "      <td>40.783762</td>\n",
       "      <td>1.0</td>\n",
       "      <td>2010-03-09 07:51:00+00:00</td>\n",
       "    </tr>\n",
       "  </tbody>\n",
       "</table>\n",
       "</div>"
      ],
      "text/plain": [
       "   fare_amount  pickup_longitude  pickup_latitude  dropoff_longitude  \\\n",
       "0          4.5        -73.844311        40.721319         -73.841610   \n",
       "1         16.9        -74.016048        40.711303         -73.979268   \n",
       "2          5.7        -73.982738        40.761270         -73.991242   \n",
       "3          7.7        -73.987130        40.733143         -73.991567   \n",
       "4          5.3        -73.968095        40.768008         -73.956655   \n",
       "\n",
       "   dropoff_latitude  passenger_count           pickup_datetime  \n",
       "0         40.712278              1.0 2009-06-15 17:26:21+00:00  \n",
       "1         40.782004              1.0 2010-01-05 16:52:16+00:00  \n",
       "2         40.750562              2.0 2011-08-18 00:35:00+00:00  \n",
       "3         40.758092              1.0 2012-04-21 04:30:42+00:00  \n",
       "4         40.783762              1.0 2010-03-09 07:51:00+00:00  "
      ]
     },
     "execution_count": 39,
     "metadata": {},
     "output_type": "execute_result"
    }
   ],
   "source": [
    "train_cab.head()"
   ]
  },
  {
   "cell_type": "code",
   "execution_count": 40,
   "metadata": {
    "colab": {
     "base_uri": "https://localhost:8080/",
     "height": 297
    },
    "colab_type": "code",
    "id": "lmnQ7xj3WqTr",
    "outputId": "04f7fc69-4cd6-4337-d100-1e47149804e3",
    "scrolled": false
   },
   "outputs": [
    {
     "data": {
      "text/html": [
       "<div>\n",
       "<style scoped>\n",
       "    .dataframe tbody tr th:only-of-type {\n",
       "        vertical-align: middle;\n",
       "    }\n",
       "\n",
       "    .dataframe tbody tr th {\n",
       "        vertical-align: top;\n",
       "    }\n",
       "\n",
       "    .dataframe thead th {\n",
       "        text-align: right;\n",
       "    }\n",
       "</style>\n",
       "<table border=\"1\" class=\"dataframe\">\n",
       "  <thead>\n",
       "    <tr style=\"text-align: right;\">\n",
       "      <th></th>\n",
       "      <th>0</th>\n",
       "    </tr>\n",
       "  </thead>\n",
       "  <tbody>\n",
       "    <tr>\n",
       "      <th>fare_amount</th>\n",
       "      <td>0</td>\n",
       "    </tr>\n",
       "    <tr>\n",
       "      <th>pickup_longitude</th>\n",
       "      <td>0</td>\n",
       "    </tr>\n",
       "    <tr>\n",
       "      <th>pickup_latitude</th>\n",
       "      <td>0</td>\n",
       "    </tr>\n",
       "    <tr>\n",
       "      <th>dropoff_longitude</th>\n",
       "      <td>0</td>\n",
       "    </tr>\n",
       "    <tr>\n",
       "      <th>dropoff_latitude</th>\n",
       "      <td>0</td>\n",
       "    </tr>\n",
       "    <tr>\n",
       "      <th>passenger_count</th>\n",
       "      <td>0</td>\n",
       "    </tr>\n",
       "    <tr>\n",
       "      <th>pickup_datetime</th>\n",
       "      <td>0</td>\n",
       "    </tr>\n",
       "  </tbody>\n",
       "</table>\n",
       "</div>"
      ],
      "text/plain": [
       "                   0\n",
       "fare_amount        0\n",
       "pickup_longitude   0\n",
       "pickup_latitude    0\n",
       "dropoff_longitude  0\n",
       "dropoff_latitude   0\n",
       "passenger_count    0\n",
       "pickup_datetime    0"
      ]
     },
     "execution_count": 40,
     "metadata": {},
     "output_type": "execute_result"
    }
   ],
   "source": [
    "pd.DataFrame(train_cab.isnull().sum())"
   ]
  },
  {
   "cell_type": "markdown",
   "metadata": {},
   "source": [
    "# Feature Engineering"
   ]
  },
  {
   "cell_type": "code",
   "execution_count": 41,
   "metadata": {
    "colab": {},
    "colab_type": "code",
    "id": "NHzgww7sWqTx"
   },
   "outputs": [],
   "source": [
    "train_cab['year'] = train_cab['pickup_datetime'].apply(lambda row: row.year)\n",
    "train_cab[\"month\"] = train_cab[\"pickup_datetime\"].apply(lambda row: row.month)\n",
    "train_cab[\"day_of_week\"] = train_cab[\"pickup_datetime\"].apply(lambda row: row.dayofweek)\n",
    "train_cab[\"hour\"] = train_cab[\"pickup_datetime\"].apply(lambda row: row.hour)"
   ]
  },
  {
   "cell_type": "code",
   "execution_count": 42,
   "metadata": {},
   "outputs": [],
   "source": [
    "test_cab['year'] = test_cab['pickup_datetime'].apply(lambda row: row.year)\n",
    "test_cab[\"month\"] = test_cab[\"pickup_datetime\"].apply(lambda row: row.month)\n",
    "test_cab[\"day_of_week\"] = test_cab[\"pickup_datetime\"].apply(lambda row: row.dayofweek)\n",
    "test_cab[\"hour\"] = test_cab[\"pickup_datetime\"].apply(lambda row: row.hour)\n"
   ]
  },
  {
   "cell_type": "code",
   "execution_count": 43,
   "metadata": {},
   "outputs": [
    {
     "data": {
      "text/html": [
       "<div>\n",
       "<style scoped>\n",
       "    .dataframe tbody tr th:only-of-type {\n",
       "        vertical-align: middle;\n",
       "    }\n",
       "\n",
       "    .dataframe tbody tr th {\n",
       "        vertical-align: top;\n",
       "    }\n",
       "\n",
       "    .dataframe thead th {\n",
       "        text-align: right;\n",
       "    }\n",
       "</style>\n",
       "<table border=\"1\" class=\"dataframe\">\n",
       "  <thead>\n",
       "    <tr style=\"text-align: right;\">\n",
       "      <th></th>\n",
       "      <th>pickup_datetime</th>\n",
       "      <th>pickup_longitude</th>\n",
       "      <th>pickup_latitude</th>\n",
       "      <th>dropoff_longitude</th>\n",
       "      <th>dropoff_latitude</th>\n",
       "      <th>passenger_count</th>\n",
       "      <th>year</th>\n",
       "      <th>month</th>\n",
       "      <th>day_of_week</th>\n",
       "      <th>hour</th>\n",
       "    </tr>\n",
       "  </thead>\n",
       "  <tbody>\n",
       "    <tr>\n",
       "      <th>0</th>\n",
       "      <td>2015-01-27 13:08:24+00:00</td>\n",
       "      <td>-73.973320</td>\n",
       "      <td>40.763805</td>\n",
       "      <td>-73.981430</td>\n",
       "      <td>40.743835</td>\n",
       "      <td>1</td>\n",
       "      <td>2015</td>\n",
       "      <td>1</td>\n",
       "      <td>1</td>\n",
       "      <td>13</td>\n",
       "    </tr>\n",
       "    <tr>\n",
       "      <th>1</th>\n",
       "      <td>2015-01-27 13:08:24+00:00</td>\n",
       "      <td>-73.986862</td>\n",
       "      <td>40.719383</td>\n",
       "      <td>-73.998886</td>\n",
       "      <td>40.739201</td>\n",
       "      <td>1</td>\n",
       "      <td>2015</td>\n",
       "      <td>1</td>\n",
       "      <td>1</td>\n",
       "      <td>13</td>\n",
       "    </tr>\n",
       "    <tr>\n",
       "      <th>2</th>\n",
       "      <td>2011-10-08 11:53:44+00:00</td>\n",
       "      <td>-73.982524</td>\n",
       "      <td>40.751260</td>\n",
       "      <td>-73.979654</td>\n",
       "      <td>40.746139</td>\n",
       "      <td>1</td>\n",
       "      <td>2011</td>\n",
       "      <td>10</td>\n",
       "      <td>5</td>\n",
       "      <td>11</td>\n",
       "    </tr>\n",
       "    <tr>\n",
       "      <th>3</th>\n",
       "      <td>2012-12-01 21:12:12+00:00</td>\n",
       "      <td>-73.981160</td>\n",
       "      <td>40.767807</td>\n",
       "      <td>-73.990448</td>\n",
       "      <td>40.751635</td>\n",
       "      <td>1</td>\n",
       "      <td>2012</td>\n",
       "      <td>12</td>\n",
       "      <td>5</td>\n",
       "      <td>21</td>\n",
       "    </tr>\n",
       "    <tr>\n",
       "      <th>4</th>\n",
       "      <td>2012-12-01 21:12:12+00:00</td>\n",
       "      <td>-73.966046</td>\n",
       "      <td>40.789775</td>\n",
       "      <td>-73.988565</td>\n",
       "      <td>40.744427</td>\n",
       "      <td>1</td>\n",
       "      <td>2012</td>\n",
       "      <td>12</td>\n",
       "      <td>5</td>\n",
       "      <td>21</td>\n",
       "    </tr>\n",
       "  </tbody>\n",
       "</table>\n",
       "</div>"
      ],
      "text/plain": [
       "            pickup_datetime  pickup_longitude  pickup_latitude  \\\n",
       "0 2015-01-27 13:08:24+00:00        -73.973320        40.763805   \n",
       "1 2015-01-27 13:08:24+00:00        -73.986862        40.719383   \n",
       "2 2011-10-08 11:53:44+00:00        -73.982524        40.751260   \n",
       "3 2012-12-01 21:12:12+00:00        -73.981160        40.767807   \n",
       "4 2012-12-01 21:12:12+00:00        -73.966046        40.789775   \n",
       "\n",
       "   dropoff_longitude  dropoff_latitude  passenger_count  year  month  \\\n",
       "0         -73.981430         40.743835                1  2015      1   \n",
       "1         -73.998886         40.739201                1  2015      1   \n",
       "2         -73.979654         40.746139                1  2011     10   \n",
       "3         -73.990448         40.751635                1  2012     12   \n",
       "4         -73.988565         40.744427                1  2012     12   \n",
       "\n",
       "   day_of_week  hour  \n",
       "0            1    13  \n",
       "1            1    13  \n",
       "2            5    11  \n",
       "3            5    21  \n",
       "4            5    21  "
      ]
     },
     "execution_count": 43,
     "metadata": {},
     "output_type": "execute_result"
    }
   ],
   "source": [
    "test_cab.head()"
   ]
  },
  {
   "cell_type": "code",
   "execution_count": 44,
   "metadata": {
    "colab": {
     "base_uri": "https://localhost:8080/",
     "height": 419
    },
    "colab_type": "code",
    "id": "hbKz4PKpLXfu",
    "outputId": "666cd25a-a870-4c0a-ad0c-2a07a607c4f1",
    "scrolled": true
   },
   "outputs": [
    {
     "data": {
      "text/html": [
       "<div>\n",
       "<style scoped>\n",
       "    .dataframe tbody tr th:only-of-type {\n",
       "        vertical-align: middle;\n",
       "    }\n",
       "\n",
       "    .dataframe tbody tr th {\n",
       "        vertical-align: top;\n",
       "    }\n",
       "\n",
       "    .dataframe thead th {\n",
       "        text-align: right;\n",
       "    }\n",
       "</style>\n",
       "<table border=\"1\" class=\"dataframe\">\n",
       "  <thead>\n",
       "    <tr style=\"text-align: right;\">\n",
       "      <th></th>\n",
       "      <th>fare_amount</th>\n",
       "      <th>pickup_longitude</th>\n",
       "      <th>pickup_latitude</th>\n",
       "      <th>dropoff_longitude</th>\n",
       "      <th>dropoff_latitude</th>\n",
       "      <th>passenger_count</th>\n",
       "      <th>pickup_datetime</th>\n",
       "      <th>year</th>\n",
       "      <th>month</th>\n",
       "      <th>day_of_week</th>\n",
       "      <th>hour</th>\n",
       "    </tr>\n",
       "  </thead>\n",
       "  <tbody>\n",
       "    <tr>\n",
       "      <th>0</th>\n",
       "      <td>4.5</td>\n",
       "      <td>-73.844311</td>\n",
       "      <td>40.721319</td>\n",
       "      <td>-73.841610</td>\n",
       "      <td>40.712278</td>\n",
       "      <td>1.0</td>\n",
       "      <td>2009-06-15 17:26:21+00:00</td>\n",
       "      <td>2009</td>\n",
       "      <td>6</td>\n",
       "      <td>0</td>\n",
       "      <td>17</td>\n",
       "    </tr>\n",
       "    <tr>\n",
       "      <th>1</th>\n",
       "      <td>16.9</td>\n",
       "      <td>-74.016048</td>\n",
       "      <td>40.711303</td>\n",
       "      <td>-73.979268</td>\n",
       "      <td>40.782004</td>\n",
       "      <td>1.0</td>\n",
       "      <td>2010-01-05 16:52:16+00:00</td>\n",
       "      <td>2010</td>\n",
       "      <td>1</td>\n",
       "      <td>1</td>\n",
       "      <td>16</td>\n",
       "    </tr>\n",
       "    <tr>\n",
       "      <th>2</th>\n",
       "      <td>5.7</td>\n",
       "      <td>-73.982738</td>\n",
       "      <td>40.761270</td>\n",
       "      <td>-73.991242</td>\n",
       "      <td>40.750562</td>\n",
       "      <td>2.0</td>\n",
       "      <td>2011-08-18 00:35:00+00:00</td>\n",
       "      <td>2011</td>\n",
       "      <td>8</td>\n",
       "      <td>3</td>\n",
       "      <td>0</td>\n",
       "    </tr>\n",
       "    <tr>\n",
       "      <th>3</th>\n",
       "      <td>7.7</td>\n",
       "      <td>-73.987130</td>\n",
       "      <td>40.733143</td>\n",
       "      <td>-73.991567</td>\n",
       "      <td>40.758092</td>\n",
       "      <td>1.0</td>\n",
       "      <td>2012-04-21 04:30:42+00:00</td>\n",
       "      <td>2012</td>\n",
       "      <td>4</td>\n",
       "      <td>5</td>\n",
       "      <td>4</td>\n",
       "    </tr>\n",
       "    <tr>\n",
       "      <th>4</th>\n",
       "      <td>5.3</td>\n",
       "      <td>-73.968095</td>\n",
       "      <td>40.768008</td>\n",
       "      <td>-73.956655</td>\n",
       "      <td>40.783762</td>\n",
       "      <td>1.0</td>\n",
       "      <td>2010-03-09 07:51:00+00:00</td>\n",
       "      <td>2010</td>\n",
       "      <td>3</td>\n",
       "      <td>1</td>\n",
       "      <td>7</td>\n",
       "    </tr>\n",
       "  </tbody>\n",
       "</table>\n",
       "</div>"
      ],
      "text/plain": [
       "   fare_amount  pickup_longitude  pickup_latitude  dropoff_longitude  \\\n",
       "0          4.5        -73.844311        40.721319         -73.841610   \n",
       "1         16.9        -74.016048        40.711303         -73.979268   \n",
       "2          5.7        -73.982738        40.761270         -73.991242   \n",
       "3          7.7        -73.987130        40.733143         -73.991567   \n",
       "4          5.3        -73.968095        40.768008         -73.956655   \n",
       "\n",
       "   dropoff_latitude  passenger_count           pickup_datetime  year  month  \\\n",
       "0         40.712278              1.0 2009-06-15 17:26:21+00:00  2009      6   \n",
       "1         40.782004              1.0 2010-01-05 16:52:16+00:00  2010      1   \n",
       "2         40.750562              2.0 2011-08-18 00:35:00+00:00  2011      8   \n",
       "3         40.758092              1.0 2012-04-21 04:30:42+00:00  2012      4   \n",
       "4         40.783762              1.0 2010-03-09 07:51:00+00:00  2010      3   \n",
       "\n",
       "   day_of_week  hour  \n",
       "0            0    17  \n",
       "1            1    16  \n",
       "2            3     0  \n",
       "3            5     4  \n",
       "4            1     7  "
      ]
     },
     "execution_count": 44,
     "metadata": {},
     "output_type": "execute_result"
    }
   ],
   "source": [
    "train_cab.head()"
   ]
  },
  {
   "cell_type": "code",
   "execution_count": 45,
   "metadata": {},
   "outputs": [],
   "source": [
    "train_cab['geodesic']=train_cab.apply(lambda x: geodesic((x['pickup_latitude'],x['pickup_longitude']), (x['dropoff_latitude'], x['dropoff_longitude'])).km, axis=1)\n",
    "test_cab['geodesic']=test_cab.apply(lambda x: geodesic((x['pickup_latitude'],x['pickup_longitude']), (x['dropoff_latitude'], x['dropoff_longitude'])).km, axis=1)"
   ]
  },
  {
   "cell_type": "code",
   "execution_count": 46,
   "metadata": {},
   "outputs": [
    {
     "data": {
      "text/html": [
       "<div>\n",
       "<style scoped>\n",
       "    .dataframe tbody tr th:only-of-type {\n",
       "        vertical-align: middle;\n",
       "    }\n",
       "\n",
       "    .dataframe tbody tr th {\n",
       "        vertical-align: top;\n",
       "    }\n",
       "\n",
       "    .dataframe thead th {\n",
       "        text-align: right;\n",
       "    }\n",
       "</style>\n",
       "<table border=\"1\" class=\"dataframe\">\n",
       "  <thead>\n",
       "    <tr style=\"text-align: right;\">\n",
       "      <th></th>\n",
       "      <th>fare_amount</th>\n",
       "      <th>pickup_longitude</th>\n",
       "      <th>pickup_latitude</th>\n",
       "      <th>dropoff_longitude</th>\n",
       "      <th>dropoff_latitude</th>\n",
       "      <th>passenger_count</th>\n",
       "      <th>pickup_datetime</th>\n",
       "      <th>year</th>\n",
       "      <th>month</th>\n",
       "      <th>day_of_week</th>\n",
       "      <th>hour</th>\n",
       "      <th>geodesic</th>\n",
       "    </tr>\n",
       "  </thead>\n",
       "  <tbody>\n",
       "    <tr>\n",
       "      <th>0</th>\n",
       "      <td>4.5</td>\n",
       "      <td>-73.844311</td>\n",
       "      <td>40.721319</td>\n",
       "      <td>-73.841610</td>\n",
       "      <td>40.712278</td>\n",
       "      <td>1.0</td>\n",
       "      <td>2009-06-15 17:26:21+00:00</td>\n",
       "      <td>2009</td>\n",
       "      <td>6</td>\n",
       "      <td>0</td>\n",
       "      <td>17</td>\n",
       "      <td>1.029601</td>\n",
       "    </tr>\n",
       "    <tr>\n",
       "      <th>1</th>\n",
       "      <td>16.9</td>\n",
       "      <td>-74.016048</td>\n",
       "      <td>40.711303</td>\n",
       "      <td>-73.979268</td>\n",
       "      <td>40.782004</td>\n",
       "      <td>1.0</td>\n",
       "      <td>2010-01-05 16:52:16+00:00</td>\n",
       "      <td>2010</td>\n",
       "      <td>1</td>\n",
       "      <td>1</td>\n",
       "      <td>16</td>\n",
       "      <td>8.443441</td>\n",
       "    </tr>\n",
       "    <tr>\n",
       "      <th>2</th>\n",
       "      <td>5.7</td>\n",
       "      <td>-73.982738</td>\n",
       "      <td>40.761270</td>\n",
       "      <td>-73.991242</td>\n",
       "      <td>40.750562</td>\n",
       "      <td>2.0</td>\n",
       "      <td>2011-08-18 00:35:00+00:00</td>\n",
       "      <td>2011</td>\n",
       "      <td>8</td>\n",
       "      <td>3</td>\n",
       "      <td>0</td>\n",
       "      <td>1.389132</td>\n",
       "    </tr>\n",
       "    <tr>\n",
       "      <th>3</th>\n",
       "      <td>7.7</td>\n",
       "      <td>-73.987130</td>\n",
       "      <td>40.733143</td>\n",
       "      <td>-73.991567</td>\n",
       "      <td>40.758092</td>\n",
       "      <td>1.0</td>\n",
       "      <td>2012-04-21 04:30:42+00:00</td>\n",
       "      <td>2012</td>\n",
       "      <td>4</td>\n",
       "      <td>5</td>\n",
       "      <td>4</td>\n",
       "      <td>2.795790</td>\n",
       "    </tr>\n",
       "    <tr>\n",
       "      <th>4</th>\n",
       "      <td>5.3</td>\n",
       "      <td>-73.968095</td>\n",
       "      <td>40.768008</td>\n",
       "      <td>-73.956655</td>\n",
       "      <td>40.783762</td>\n",
       "      <td>1.0</td>\n",
       "      <td>2010-03-09 07:51:00+00:00</td>\n",
       "      <td>2010</td>\n",
       "      <td>3</td>\n",
       "      <td>1</td>\n",
       "      <td>7</td>\n",
       "      <td>1.998338</td>\n",
       "    </tr>\n",
       "  </tbody>\n",
       "</table>\n",
       "</div>"
      ],
      "text/plain": [
       "   fare_amount  pickup_longitude  pickup_latitude  dropoff_longitude  \\\n",
       "0          4.5        -73.844311        40.721319         -73.841610   \n",
       "1         16.9        -74.016048        40.711303         -73.979268   \n",
       "2          5.7        -73.982738        40.761270         -73.991242   \n",
       "3          7.7        -73.987130        40.733143         -73.991567   \n",
       "4          5.3        -73.968095        40.768008         -73.956655   \n",
       "\n",
       "   dropoff_latitude  passenger_count           pickup_datetime  year  month  \\\n",
       "0         40.712278              1.0 2009-06-15 17:26:21+00:00  2009      6   \n",
       "1         40.782004              1.0 2010-01-05 16:52:16+00:00  2010      1   \n",
       "2         40.750562              2.0 2011-08-18 00:35:00+00:00  2011      8   \n",
       "3         40.758092              1.0 2012-04-21 04:30:42+00:00  2012      4   \n",
       "4         40.783762              1.0 2010-03-09 07:51:00+00:00  2010      3   \n",
       "\n",
       "   day_of_week  hour  geodesic  \n",
       "0            0    17  1.029601  \n",
       "1            1    16  8.443441  \n",
       "2            3     0  1.389132  \n",
       "3            5     4  2.795790  \n",
       "4            1     7  1.998338  "
      ]
     },
     "execution_count": 46,
     "metadata": {},
     "output_type": "execute_result"
    }
   ],
   "source": [
    "train_cab.head()"
   ]
  },
  {
   "cell_type": "code",
   "execution_count": 47,
   "metadata": {
    "scrolled": true
   },
   "outputs": [
    {
     "data": {
      "text/html": [
       "<div>\n",
       "<style scoped>\n",
       "    .dataframe tbody tr th:only-of-type {\n",
       "        vertical-align: middle;\n",
       "    }\n",
       "\n",
       "    .dataframe tbody tr th {\n",
       "        vertical-align: top;\n",
       "    }\n",
       "\n",
       "    .dataframe thead th {\n",
       "        text-align: right;\n",
       "    }\n",
       "</style>\n",
       "<table border=\"1\" class=\"dataframe\">\n",
       "  <thead>\n",
       "    <tr style=\"text-align: right;\">\n",
       "      <th></th>\n",
       "      <th>fare_amount</th>\n",
       "      <th>pickup_longitude</th>\n",
       "      <th>pickup_latitude</th>\n",
       "      <th>dropoff_longitude</th>\n",
       "      <th>dropoff_latitude</th>\n",
       "      <th>passenger_count</th>\n",
       "      <th>pickup_datetime</th>\n",
       "      <th>year</th>\n",
       "      <th>month</th>\n",
       "      <th>day_of_week</th>\n",
       "      <th>hour</th>\n",
       "      <th>geodesic</th>\n",
       "    </tr>\n",
       "  </thead>\n",
       "  <tbody>\n",
       "    <tr>\n",
       "      <th>0</th>\n",
       "      <td>4.5</td>\n",
       "      <td>-73.844311</td>\n",
       "      <td>40.721319</td>\n",
       "      <td>-73.841610</td>\n",
       "      <td>40.712278</td>\n",
       "      <td>1.0</td>\n",
       "      <td>2009-06-15 17:26:21+00:00</td>\n",
       "      <td>2009</td>\n",
       "      <td>6</td>\n",
       "      <td>0</td>\n",
       "      <td>17</td>\n",
       "      <td>1.029601</td>\n",
       "    </tr>\n",
       "    <tr>\n",
       "      <th>1</th>\n",
       "      <td>16.9</td>\n",
       "      <td>-74.016048</td>\n",
       "      <td>40.711303</td>\n",
       "      <td>-73.979268</td>\n",
       "      <td>40.782004</td>\n",
       "      <td>1.0</td>\n",
       "      <td>2010-01-05 16:52:16+00:00</td>\n",
       "      <td>2010</td>\n",
       "      <td>1</td>\n",
       "      <td>1</td>\n",
       "      <td>16</td>\n",
       "      <td>8.443441</td>\n",
       "    </tr>\n",
       "    <tr>\n",
       "      <th>2</th>\n",
       "      <td>5.7</td>\n",
       "      <td>-73.982738</td>\n",
       "      <td>40.761270</td>\n",
       "      <td>-73.991242</td>\n",
       "      <td>40.750562</td>\n",
       "      <td>2.0</td>\n",
       "      <td>2011-08-18 00:35:00+00:00</td>\n",
       "      <td>2011</td>\n",
       "      <td>8</td>\n",
       "      <td>3</td>\n",
       "      <td>0</td>\n",
       "      <td>1.389132</td>\n",
       "    </tr>\n",
       "    <tr>\n",
       "      <th>3</th>\n",
       "      <td>7.7</td>\n",
       "      <td>-73.987130</td>\n",
       "      <td>40.733143</td>\n",
       "      <td>-73.991567</td>\n",
       "      <td>40.758092</td>\n",
       "      <td>1.0</td>\n",
       "      <td>2012-04-21 04:30:42+00:00</td>\n",
       "      <td>2012</td>\n",
       "      <td>4</td>\n",
       "      <td>5</td>\n",
       "      <td>4</td>\n",
       "      <td>2.795790</td>\n",
       "    </tr>\n",
       "    <tr>\n",
       "      <th>4</th>\n",
       "      <td>5.3</td>\n",
       "      <td>-73.968095</td>\n",
       "      <td>40.768008</td>\n",
       "      <td>-73.956655</td>\n",
       "      <td>40.783762</td>\n",
       "      <td>1.0</td>\n",
       "      <td>2010-03-09 07:51:00+00:00</td>\n",
       "      <td>2010</td>\n",
       "      <td>3</td>\n",
       "      <td>1</td>\n",
       "      <td>7</td>\n",
       "      <td>1.998338</td>\n",
       "    </tr>\n",
       "  </tbody>\n",
       "</table>\n",
       "</div>"
      ],
      "text/plain": [
       "   fare_amount  pickup_longitude  pickup_latitude  dropoff_longitude  \\\n",
       "0          4.5        -73.844311        40.721319         -73.841610   \n",
       "1         16.9        -74.016048        40.711303         -73.979268   \n",
       "2          5.7        -73.982738        40.761270         -73.991242   \n",
       "3          7.7        -73.987130        40.733143         -73.991567   \n",
       "4          5.3        -73.968095        40.768008         -73.956655   \n",
       "\n",
       "   dropoff_latitude  passenger_count           pickup_datetime  year  month  \\\n",
       "0         40.712278              1.0 2009-06-15 17:26:21+00:00  2009      6   \n",
       "1         40.782004              1.0 2010-01-05 16:52:16+00:00  2010      1   \n",
       "2         40.750562              2.0 2011-08-18 00:35:00+00:00  2011      8   \n",
       "3         40.758092              1.0 2012-04-21 04:30:42+00:00  2012      4   \n",
       "4         40.783762              1.0 2010-03-09 07:51:00+00:00  2010      3   \n",
       "\n",
       "   day_of_week  hour  geodesic  \n",
       "0            0    17  1.029601  \n",
       "1            1    16  8.443441  \n",
       "2            3     0  1.389132  \n",
       "3            5     4  2.795790  \n",
       "4            1     7  1.998338  "
      ]
     },
     "execution_count": 47,
     "metadata": {},
     "output_type": "execute_result"
    }
   ],
   "source": [
    "train_cab.head()"
   ]
  },
  {
   "cell_type": "code",
   "execution_count": 48,
   "metadata": {},
   "outputs": [
    {
     "data": {
      "text/plain": [
       "<matplotlib.axes._subplots.AxesSubplot at 0x1c32b9e9b0>"
      ]
     },
     "execution_count": 48,
     "metadata": {},
     "output_type": "execute_result"
    },
    {
     "data": {
      "image/png": "[encoded data removed]",
      "text/plain": [
       "<Figure size 1440x360 with 1 Axes>"
      ]
     },
     "metadata": {
      "needs_background": "light"
     },
     "output_type": "display_data"
    }
   ],
   "source": [
    "sns.set(style=\"whitegrid\")\n",
    "%matplotlib inline\n",
    "plt.figure(figsize = (20,5))\n",
    "sns.boxplot(data=train_cab['geodesic'],orient='h')"
   ]
  },
  {
   "cell_type": "code",
   "execution_count": 49,
   "metadata": {},
   "outputs": [
    {
     "data": {
      "text/html": [
       "<div>\n",
       "<style scoped>\n",
       "    .dataframe tbody tr th:only-of-type {\n",
       "        vertical-align: middle;\n",
       "    }\n",
       "\n",
       "    .dataframe tbody tr th {\n",
       "        vertical-align: top;\n",
       "    }\n",
       "\n",
       "    .dataframe thead th {\n",
       "        text-align: right;\n",
       "    }\n",
       "</style>\n",
       "<table border=\"1\" class=\"dataframe\">\n",
       "  <thead>\n",
       "    <tr style=\"text-align: right;\">\n",
       "      <th></th>\n",
       "      <th>fare_amount</th>\n",
       "      <th>pickup_longitude</th>\n",
       "      <th>pickup_latitude</th>\n",
       "      <th>dropoff_longitude</th>\n",
       "      <th>dropoff_latitude</th>\n",
       "      <th>passenger_count</th>\n",
       "      <th>year</th>\n",
       "      <th>month</th>\n",
       "      <th>day_of_week</th>\n",
       "      <th>hour</th>\n",
       "      <th>geodesic</th>\n",
       "    </tr>\n",
       "  </thead>\n",
       "  <tbody>\n",
       "    <tr>\n",
       "      <th>count</th>\n",
       "      <td>15983.000000</td>\n",
       "      <td>15983.000000</td>\n",
       "      <td>15983.000000</td>\n",
       "      <td>15983.000000</td>\n",
       "      <td>15983.000000</td>\n",
       "      <td>15983.000000</td>\n",
       "      <td>15983.000000</td>\n",
       "      <td>15983.000000</td>\n",
       "      <td>15983.000000</td>\n",
       "      <td>15983.000000</td>\n",
       "      <td>15983.000000</td>\n",
       "    </tr>\n",
       "    <tr>\n",
       "      <th>mean</th>\n",
       "      <td>9.318769</td>\n",
       "      <td>-72.473361</td>\n",
       "      <td>39.898011</td>\n",
       "      <td>-72.463649</td>\n",
       "      <td>39.898540</td>\n",
       "      <td>1.650441</td>\n",
       "      <td>2011.732779</td>\n",
       "      <td>6.262154</td>\n",
       "      <td>3.033035</td>\n",
       "      <td>13.494588</td>\n",
       "      <td>15.013334</td>\n",
       "    </tr>\n",
       "    <tr>\n",
       "      <th>std</th>\n",
       "      <td>4.293613</td>\n",
       "      <td>10.543464</td>\n",
       "      <td>6.187321</td>\n",
       "      <td>10.571230</td>\n",
       "      <td>6.186948</td>\n",
       "      <td>1.265426</td>\n",
       "      <td>1.867124</td>\n",
       "      <td>3.447368</td>\n",
       "      <td>1.968920</td>\n",
       "      <td>6.520768</td>\n",
       "      <td>310.989801</td>\n",
       "    </tr>\n",
       "    <tr>\n",
       "      <th>min</th>\n",
       "      <td>0.010000</td>\n",
       "      <td>-74.438233</td>\n",
       "      <td>-74.006893</td>\n",
       "      <td>-74.429332</td>\n",
       "      <td>-74.006377</td>\n",
       "      <td>1.000000</td>\n",
       "      <td>2009.000000</td>\n",
       "      <td>1.000000</td>\n",
       "      <td>0.000000</td>\n",
       "      <td>0.000000</td>\n",
       "      <td>0.000000</td>\n",
       "    </tr>\n",
       "    <tr>\n",
       "      <th>25%</th>\n",
       "      <td>6.000000</td>\n",
       "      <td>-73.992157</td>\n",
       "      <td>40.734943</td>\n",
       "      <td>-73.991182</td>\n",
       "      <td>40.734708</td>\n",
       "      <td>1.000000</td>\n",
       "      <td>2010.000000</td>\n",
       "      <td>3.000000</td>\n",
       "      <td>1.000000</td>\n",
       "      <td>9.000000</td>\n",
       "      <td>1.216312</td>\n",
       "    </tr>\n",
       "    <tr>\n",
       "      <th>50%</th>\n",
       "      <td>8.500000</td>\n",
       "      <td>-73.981696</td>\n",
       "      <td>40.752633</td>\n",
       "      <td>-73.980165</td>\n",
       "      <td>40.753582</td>\n",
       "      <td>1.000000</td>\n",
       "      <td>2012.000000</td>\n",
       "      <td>6.000000</td>\n",
       "      <td>3.000000</td>\n",
       "      <td>14.000000</td>\n",
       "      <td>2.125702</td>\n",
       "    </tr>\n",
       "    <tr>\n",
       "      <th>75%</th>\n",
       "      <td>12.000000</td>\n",
       "      <td>-73.966834</td>\n",
       "      <td>40.767398</td>\n",
       "      <td>-73.963643</td>\n",
       "      <td>40.768027</td>\n",
       "      <td>2.000000</td>\n",
       "      <td>2013.000000</td>\n",
       "      <td>9.000000</td>\n",
       "      <td>5.000000</td>\n",
       "      <td>19.000000</td>\n",
       "      <td>3.857545</td>\n",
       "    </tr>\n",
       "    <tr>\n",
       "      <th>max</th>\n",
       "      <td>22.100000</td>\n",
       "      <td>40.766125</td>\n",
       "      <td>41.366138</td>\n",
       "      <td>40.802437</td>\n",
       "      <td>41.366138</td>\n",
       "      <td>6.000000</td>\n",
       "      <td>2015.000000</td>\n",
       "      <td>12.000000</td>\n",
       "      <td>6.000000</td>\n",
       "      <td>23.000000</td>\n",
       "      <td>8667.884139</td>\n",
       "    </tr>\n",
       "  </tbody>\n",
       "</table>\n",
       "</div>"
      ],
      "text/plain": [
       "        fare_amount  pickup_longitude  pickup_latitude  dropoff_longitude  \\\n",
       "count  15983.000000      15983.000000     15983.000000       15983.000000   \n",
       "mean       9.318769        -72.473361        39.898011         -72.463649   \n",
       "std        4.293613         10.543464         6.187321          10.571230   \n",
       "min        0.010000        -74.438233       -74.006893         -74.429332   \n",
       "25%        6.000000        -73.992157        40.734943         -73.991182   \n",
       "50%        8.500000        -73.981696        40.752633         -73.980165   \n",
       "75%       12.000000        -73.966834        40.767398         -73.963643   \n",
       "max       22.100000         40.766125        41.366138          40.802437   \n",
       "\n",
       "       dropoff_latitude  passenger_count          year         month  \\\n",
       "count      15983.000000     15983.000000  15983.000000  15983.000000   \n",
       "mean          39.898540         1.650441   2011.732779      6.262154   \n",
       "std            6.186948         1.265426      1.867124      3.447368   \n",
       "min          -74.006377         1.000000   2009.000000      1.000000   \n",
       "25%           40.734708         1.000000   2010.000000      3.000000   \n",
       "50%           40.753582         1.000000   2012.000000      6.000000   \n",
       "75%           40.768027         2.000000   2013.000000      9.000000   \n",
       "max           41.366138         6.000000   2015.000000     12.000000   \n",
       "\n",
       "        day_of_week          hour      geodesic  \n",
       "count  15983.000000  15983.000000  15983.000000  \n",
       "mean       3.033035     13.494588     15.013334  \n",
       "std        1.968920      6.520768    310.989801  \n",
       "min        0.000000      0.000000      0.000000  \n",
       "25%        1.000000      9.000000      1.216312  \n",
       "50%        3.000000     14.000000      2.125702  \n",
       "75%        5.000000     19.000000      3.857545  \n",
       "max        6.000000     23.000000   8667.884139  "
      ]
     },
     "execution_count": 49,
     "metadata": {},
     "output_type": "execute_result"
    }
   ],
   "source": [
    "train_cab.describe()"
   ]
  },
  {
   "cell_type": "code",
   "execution_count": 50,
   "metadata": {},
   "outputs": [
    {
     "name": "stderr",
     "output_type": "stream",
     "text": [
      "/Users/divyanggor/anaconda3/lib/python3.7/site-packages/ipykernel_launcher.py:13: SettingWithCopyWarning: \n",
      "A value is trying to be set on a copy of a slice from a DataFrame\n",
      "\n",
      "See the caveats in the documentation: http://pandas.pydata.org/pandas-docs/stable/indexing.html#indexing-view-versus-copy\n",
      "  del sys.path[0]\n",
      "/Users/divyanggor/anaconda3/lib/python3.7/site-packages/ipykernel_launcher.py:14: SettingWithCopyWarning: \n",
      "A value is trying to be set on a copy of a slice from a DataFrame\n",
      "\n",
      "See the caveats in the documentation: http://pandas.pydata.org/pandas-docs/stable/indexing.html#indexing-view-versus-copy\n",
      "  \n"
     ]
    },
    {
     "data": {
      "text/html": [
       "<div>\n",
       "<style scoped>\n",
       "    .dataframe tbody tr th:only-of-type {\n",
       "        vertical-align: middle;\n",
       "    }\n",
       "\n",
       "    .dataframe tbody tr th {\n",
       "        vertical-align: top;\n",
       "    }\n",
       "\n",
       "    .dataframe thead th {\n",
       "        text-align: right;\n",
       "    }\n",
       "</style>\n",
       "<table border=\"1\" class=\"dataframe\">\n",
       "  <thead>\n",
       "    <tr style=\"text-align: right;\">\n",
       "      <th></th>\n",
       "      <th>0</th>\n",
       "    </tr>\n",
       "  </thead>\n",
       "  <tbody>\n",
       "    <tr>\n",
       "      <th>fare_amount</th>\n",
       "      <td>0</td>\n",
       "    </tr>\n",
       "    <tr>\n",
       "      <th>pickup_longitude</th>\n",
       "      <td>0</td>\n",
       "    </tr>\n",
       "    <tr>\n",
       "      <th>pickup_latitude</th>\n",
       "      <td>0</td>\n",
       "    </tr>\n",
       "    <tr>\n",
       "      <th>dropoff_longitude</th>\n",
       "      <td>0</td>\n",
       "    </tr>\n",
       "    <tr>\n",
       "      <th>dropoff_latitude</th>\n",
       "      <td>0</td>\n",
       "    </tr>\n",
       "    <tr>\n",
       "      <th>passenger_count</th>\n",
       "      <td>0</td>\n",
       "    </tr>\n",
       "    <tr>\n",
       "      <th>pickup_datetime</th>\n",
       "      <td>0</td>\n",
       "    </tr>\n",
       "    <tr>\n",
       "      <th>year</th>\n",
       "      <td>0</td>\n",
       "    </tr>\n",
       "    <tr>\n",
       "      <th>month</th>\n",
       "      <td>0</td>\n",
       "    </tr>\n",
       "    <tr>\n",
       "      <th>day_of_week</th>\n",
       "      <td>0</td>\n",
       "    </tr>\n",
       "    <tr>\n",
       "      <th>hour</th>\n",
       "      <td>0</td>\n",
       "    </tr>\n",
       "    <tr>\n",
       "      <th>geodesic</th>\n",
       "      <td>1383</td>\n",
       "    </tr>\n",
       "  </tbody>\n",
       "</table>\n",
       "</div>"
      ],
      "text/plain": [
       "                      0\n",
       "fare_amount           0\n",
       "pickup_longitude      0\n",
       "pickup_latitude       0\n",
       "dropoff_longitude     0\n",
       "dropoff_latitude      0\n",
       "passenger_count       0\n",
       "pickup_datetime       0\n",
       "year                  0\n",
       "month                 0\n",
       "day_of_week           0\n",
       "hour                  0\n",
       "geodesic           1383"
      ]
     },
     "execution_count": 50,
     "metadata": {},
     "output_type": "execute_result"
    }
   ],
   "source": [
    "#Outliner Analysis\n",
    "q75, q25 = np.percentile(train_cab['geodesic'], [75 ,25])\n",
    "\n",
    "#Calculate IQR\n",
    "iqr = q75 - q25\n",
    "\n",
    "#Calculate inner and outer fence\n",
    "minimum = q25 - (iqr*1.5)\n",
    "maximum = q75 + (iqr*1.5)\n",
    "\n",
    "\n",
    "#Replace with NA\n",
    "train_cab.geodesic[train_cab.geodesic < minimum] = np.nan\n",
    "train_cab.geodesic[train_cab.geodesic > maximum] = np.nan\n",
    "pd.DataFrame(train_cab.isnull().sum())"
   ]
  },
  {
   "cell_type": "code",
   "execution_count": 51,
   "metadata": {},
   "outputs": [
    {
     "name": "stderr",
     "output_type": "stream",
     "text": [
      "/Users/divyanggor/anaconda3/lib/python3.7/site-packages/pandas/core/indexing.py:190: SettingWithCopyWarning: \n",
      "A value is trying to be set on a copy of a slice from a DataFrame\n",
      "\n",
      "See the caveats in the documentation: http://pandas.pydata.org/pandas-docs/stable/indexing.html#indexing-view-versus-copy\n",
      "  self._setitem_with_indexer(indexer, value)\n"
     ]
    }
   ],
   "source": [
    "#outliner Analysis\n",
    "#Actual Value =1.1734217770759794\n",
    "#Mean = 2.3812342631431775\n",
    "#Median =1.9334082879643537\n",
    "#Mode = 0.0\n",
    "#KNN = \n",
    "train_cab['geodesic'].loc[200] = np.nan"
   ]
  },
  {
   "cell_type": "code",
   "execution_count": 52,
   "metadata": {},
   "outputs": [
    {
     "name": "stdout",
     "output_type": "stream",
     "text": [
      "Mean 2.3813169956923983\n",
      "Median 1.9335967065951096\n",
      "Mode 0.0\n"
     ]
    }
   ],
   "source": [
    "print(\"Mean\", train_cab['geodesic'].mean())\n",
    "print(\"Median\", train_cab['geodesic'].median())\n",
    "print(\"Mode\", train_cab['geodesic'].mode()[0])"
   ]
  },
  {
   "cell_type": "code",
   "execution_count": 53,
   "metadata": {},
   "outputs": [
    {
     "name": "stdout",
     "output_type": "stream",
     "text": [
      "Imputing row 1/15983 with 0 missing, elapsed time: 113.756\n",
      "Imputing row 101/15983 with 0 missing, elapsed time: 116.295\n",
      "Imputing row 201/15983 with 1 missing, elapsed time: 116.351\n",
      "Imputing row 301/15983 with 0 missing, elapsed time: 116.394\n",
      "Imputing row 401/15983 with 0 missing, elapsed time: 116.499\n",
      "Imputing row 501/15983 with 0 missing, elapsed time: 116.555\n",
      "Imputing row 601/15983 with 0 missing, elapsed time: 116.587\n",
      "Imputing row 701/15983 with 1 missing, elapsed time: 116.644\n",
      "Imputing row 801/15983 with 1 missing, elapsed time: 116.710\n",
      "Imputing row 901/15983 with 0 missing, elapsed time: 116.919\n",
      "Imputing row 1001/15983 with 1 missing, elapsed time: 116.951\n",
      "Imputing row 1101/15983 with 0 missing, elapsed time: 117.057\n",
      "Imputing row 1201/15983 with 0 missing, elapsed time: 117.130\n",
      "Imputing row 1301/15983 with 0 missing, elapsed time: 117.218\n",
      "Imputing row 1401/15983 with 0 missing, elapsed time: 117.357\n",
      "Imputing row 1501/15983 with 0 missing, elapsed time: 117.446\n",
      "Imputing row 1601/15983 with 0 missing, elapsed time: 117.518\n",
      "Imputing row 1701/15983 with 0 missing, elapsed time: 117.687\n",
      "Imputing row 1801/15983 with 0 missing, elapsed time: 117.754\n",
      "Imputing row 1901/15983 with 0 missing, elapsed time: 118.378\n",
      "Imputing row 2001/15983 with 0 missing, elapsed time: 120.542\n",
      "Imputing row 2101/15983 with 0 missing, elapsed time: 121.576\n",
      "Imputing row 2201/15983 with 0 missing, elapsed time: 124.054\n",
      "Imputing row 2301/15983 with 0 missing, elapsed time: 124.652\n",
      "Imputing row 2401/15983 with 0 missing, elapsed time: 126.167\n",
      "Imputing row 2501/15983 with 0 missing, elapsed time: 126.500\n",
      "Imputing row 2601/15983 with 0 missing, elapsed time: 126.557\n",
      "Imputing row 2701/15983 with 0 missing, elapsed time: 126.585\n",
      "Imputing row 2801/15983 with 0 missing, elapsed time: 126.632\n",
      "Imputing row 2901/15983 with 1 missing, elapsed time: 126.704\n",
      "Imputing row 3001/15983 with 0 missing, elapsed time: 126.848\n",
      "Imputing row 3101/15983 with 0 missing, elapsed time: 126.876\n",
      "Imputing row 3201/15983 with 0 missing, elapsed time: 126.928\n",
      "Imputing row 3301/15983 with 0 missing, elapsed time: 126.977\n",
      "Imputing row 3401/15983 with 0 missing, elapsed time: 127.054\n",
      "Imputing row 3501/15983 with 0 missing, elapsed time: 127.104\n",
      "Imputing row 3601/15983 with 0 missing, elapsed time: 127.165\n",
      "Imputing row 3701/15983 with 0 missing, elapsed time: 127.221\n",
      "Imputing row 3801/15983 with 0 missing, elapsed time: 127.271\n",
      "Imputing row 3901/15983 with 0 missing, elapsed time: 127.566\n",
      "Imputing row 4001/15983 with 0 missing, elapsed time: 127.624\n",
      "Imputing row 4101/15983 with 0 missing, elapsed time: 127.769\n",
      "Imputing row 4201/15983 with 1 missing, elapsed time: 127.801\n",
      "Imputing row 4301/15983 with 0 missing, elapsed time: 127.851\n",
      "Imputing row 4401/15983 with 0 missing, elapsed time: 127.885\n",
      "Imputing row 4501/15983 with 0 missing, elapsed time: 127.995\n",
      "Imputing row 4601/15983 with 0 missing, elapsed time: 128.051\n",
      "Imputing row 4701/15983 with 0 missing, elapsed time: 128.129\n",
      "Imputing row 4801/15983 with 0 missing, elapsed time: 129.873\n",
      "Imputing row 4901/15983 with 0 missing, elapsed time: 130.310\n",
      "Imputing row 5001/15983 with 0 missing, elapsed time: 130.705\n",
      "Imputing row 5101/15983 with 0 missing, elapsed time: 131.260\n",
      "Imputing row 5201/15983 with 0 missing, elapsed time: 131.496\n",
      "Imputing row 5301/15983 with 0 missing, elapsed time: 131.566\n",
      "Imputing row 5401/15983 with 0 missing, elapsed time: 131.625\n",
      "Imputing row 5501/15983 with 0 missing, elapsed time: 131.639\n",
      "Imputing row 5601/15983 with 1 missing, elapsed time: 131.676\n",
      "Imputing row 5701/15983 with 0 missing, elapsed time: 131.723\n",
      "Imputing row 5801/15983 with 0 missing, elapsed time: 131.755\n",
      "Imputing row 5901/15983 with 0 missing, elapsed time: 131.791\n",
      "Imputing row 6001/15983 with 0 missing, elapsed time: 131.895\n",
      "Imputing row 6101/15983 with 0 missing, elapsed time: 131.940\n",
      "Imputing row 6201/15983 with 1 missing, elapsed time: 132.006\n",
      "Imputing row 6301/15983 with 0 missing, elapsed time: 132.112\n",
      "Imputing row 6401/15983 with 0 missing, elapsed time: 132.367\n",
      "Imputing row 6501/15983 with 0 missing, elapsed time: 132.424\n",
      "Imputing row 6601/15983 with 0 missing, elapsed time: 132.475\n",
      "Imputing row 6701/15983 with 0 missing, elapsed time: 132.523\n",
      "Imputing row 6801/15983 with 0 missing, elapsed time: 132.581\n",
      "Imputing row 6901/15983 with 1 missing, elapsed time: 132.617\n",
      "Imputing row 7001/15983 with 0 missing, elapsed time: 132.665\n",
      "Imputing row 7101/15983 with 0 missing, elapsed time: 132.695\n",
      "Imputing row 7201/15983 with 0 missing, elapsed time: 132.706\n",
      "Imputing row 7301/15983 with 1 missing, elapsed time: 133.043\n",
      "Imputing row 7401/15983 with 0 missing, elapsed time: 133.710\n",
      "Imputing row 7501/15983 with 0 missing, elapsed time: 133.821\n",
      "Imputing row 7601/15983 with 0 missing, elapsed time: 133.897\n",
      "Imputing row 7701/15983 with 0 missing, elapsed time: 134.018\n",
      "Imputing row 7801/15983 with 0 missing, elapsed time: 134.120\n",
      "Imputing row 7901/15983 with 0 missing, elapsed time: 134.168\n",
      "Imputing row 8001/15983 with 1 missing, elapsed time: 134.259\n",
      "Imputing row 8101/15983 with 0 missing, elapsed time: 134.411\n",
      "Imputing row 8201/15983 with 0 missing, elapsed time: 134.690\n",
      "Imputing row 8301/15983 with 0 missing, elapsed time: 135.058\n",
      "Imputing row 8401/15983 with 0 missing, elapsed time: 135.404\n",
      "Imputing row 8501/15983 with 0 missing, elapsed time: 136.014\n",
      "Imputing row 8601/15983 with 0 missing, elapsed time: 136.209\n",
      "Imputing row 8701/15983 with 0 missing, elapsed time: 136.278\n",
      "Imputing row 8801/15983 with 0 missing, elapsed time: 136.330\n",
      "Imputing row 8901/15983 with 0 missing, elapsed time: 136.387\n",
      "Imputing row 9001/15983 with 0 missing, elapsed time: 136.415\n",
      "Imputing row 9101/15983 with 0 missing, elapsed time: 136.470\n",
      "Imputing row 9201/15983 with 1 missing, elapsed time: 136.487\n",
      "Imputing row 9301/15983 with 0 missing, elapsed time: 136.531\n",
      "Imputing row 9401/15983 with 0 missing, elapsed time: 136.608\n",
      "Imputing row 9501/15983 with 0 missing, elapsed time: 136.669\n",
      "Imputing row 9601/15983 with 0 missing, elapsed time: 136.702\n",
      "Imputing row 9701/15983 with 0 missing, elapsed time: 136.766\n",
      "Imputing row 9801/15983 with 0 missing, elapsed time: 136.932\n",
      "Imputing row 9901/15983 with 0 missing, elapsed time: 137.083\n",
      "Imputing row 10001/15983 with 0 missing, elapsed time: 137.124\n",
      "Imputing row 10101/15983 with 0 missing, elapsed time: 137.203\n",
      "Imputing row 10201/15983 with 0 missing, elapsed time: 137.245\n",
      "Imputing row 10301/15983 with 0 missing, elapsed time: 137.299\n",
      "Imputing row 10401/15983 with 0 missing, elapsed time: 137.322\n",
      "Imputing row 10501/15983 with 0 missing, elapsed time: 137.466\n",
      "Imputing row 10601/15983 with 0 missing, elapsed time: 137.506\n",
      "Imputing row 10701/15983 with 0 missing, elapsed time: 137.535\n",
      "Imputing row 10801/15983 with 0 missing, elapsed time: 137.553\n",
      "Imputing row 10901/15983 with 0 missing, elapsed time: 137.627\n",
      "Imputing row 11001/15983 with 0 missing, elapsed time: 137.746\n",
      "Imputing row 11101/15983 with 0 missing, elapsed time: 138.264\n",
      "Imputing row 11201/15983 with 0 missing, elapsed time: 138.462\n",
      "Imputing row 11301/15983 with 0 missing, elapsed time: 138.637\n",
      "Imputing row 11401/15983 with 0 missing, elapsed time: 138.751\n",
      "Imputing row 11501/15983 with 0 missing, elapsed time: 139.493\n",
      "Imputing row 11601/15983 with 0 missing, elapsed time: 139.626\n",
      "Imputing row 11701/15983 with 0 missing, elapsed time: 140.055\n",
      "Imputing row 11801/15983 with 0 missing, elapsed time: 140.423\n",
      "Imputing row 11901/15983 with 0 missing, elapsed time: 140.539\n",
      "Imputing row 12001/15983 with 0 missing, elapsed time: 140.769\n",
      "Imputing row 12101/15983 with 0 missing, elapsed time: 140.989\n",
      "Imputing row 12201/15983 with 0 missing, elapsed time: 141.150\n",
      "Imputing row 12301/15983 with 0 missing, elapsed time: 141.240\n",
      "Imputing row 12401/15983 with 1 missing, elapsed time: 141.636\n",
      "Imputing row 12501/15983 with 0 missing, elapsed time: 141.993\n",
      "Imputing row 12601/15983 with 0 missing, elapsed time: 142.085\n",
      "Imputing row 12701/15983 with 0 missing, elapsed time: 142.158\n",
      "Imputing row 12801/15983 with 0 missing, elapsed time: 142.435\n",
      "Imputing row 12901/15983 with 0 missing, elapsed time: 142.777\n",
      "Imputing row 13001/15983 with 0 missing, elapsed time: 143.038\n",
      "Imputing row 13101/15983 with 0 missing, elapsed time: 143.081\n",
      "Imputing row 13201/15983 with 0 missing, elapsed time: 143.134\n",
      "Imputing row 13301/15983 with 0 missing, elapsed time: 143.216\n"
     ]
    },
    {
     "name": "stdout",
     "output_type": "stream",
     "text": [
      "Imputing row 13401/15983 with 0 missing, elapsed time: 143.387\n",
      "Imputing row 13501/15983 with 0 missing, elapsed time: 143.632\n",
      "Imputing row 13601/15983 with 0 missing, elapsed time: 143.737\n",
      "Imputing row 13701/15983 with 0 missing, elapsed time: 143.836\n",
      "Imputing row 13801/15983 with 0 missing, elapsed time: 144.400\n",
      "Imputing row 13901/15983 with 0 missing, elapsed time: 144.482\n",
      "Imputing row 14001/15983 with 0 missing, elapsed time: 144.646\n",
      "Imputing row 14101/15983 with 0 missing, elapsed time: 144.748\n",
      "Imputing row 14201/15983 with 0 missing, elapsed time: 144.786\n",
      "Imputing row 14301/15983 with 0 missing, elapsed time: 144.957\n",
      "Imputing row 14401/15983 with 0 missing, elapsed time: 145.625\n",
      "Imputing row 14501/15983 with 0 missing, elapsed time: 146.692\n",
      "Imputing row 14601/15983 with 0 missing, elapsed time: 147.111\n",
      "Imputing row 14701/15983 with 0 missing, elapsed time: 147.293\n",
      "Imputing row 14801/15983 with 1 missing, elapsed time: 147.370\n",
      "Imputing row 14901/15983 with 0 missing, elapsed time: 148.155\n",
      "Imputing row 15001/15983 with 0 missing, elapsed time: 148.190\n",
      "Imputing row 15101/15983 with 0 missing, elapsed time: 148.215\n",
      "Imputing row 15201/15983 with 0 missing, elapsed time: 148.242\n",
      "Imputing row 15301/15983 with 0 missing, elapsed time: 148.258\n",
      "Imputing row 15401/15983 with 0 missing, elapsed time: 148.295\n",
      "Imputing row 15501/15983 with 0 missing, elapsed time: 148.314\n",
      "Imputing row 15601/15983 with 0 missing, elapsed time: 148.329\n",
      "Imputing row 15701/15983 with 1 missing, elapsed time: 148.349\n",
      "Imputing row 15801/15983 with 0 missing, elapsed time: 148.376\n",
      "Imputing row 15901/15983 with 0 missing, elapsed time: 148.403\n"
     ]
    }
   ],
   "source": [
    "columns=['fare_amount', 'pickup_longitude', 'pickup_latitude','dropoff_longitude', 'dropoff_latitude', 'passenger_count','year','month','day_of_week','hours','geodesic']\n",
    "train_cab = pd.DataFrame(KNN(k = 5).fit_transform(train_cab.drop('pickup_datetime',axis = 1)),columns = columns, index = train_cab.index);"
   ]
  },
  {
   "cell_type": "code",
   "execution_count": 54,
   "metadata": {},
   "outputs": [
    {
     "data": {
      "text/html": [
       "<div>\n",
       "<style scoped>\n",
       "    .dataframe tbody tr th:only-of-type {\n",
       "        vertical-align: middle;\n",
       "    }\n",
       "\n",
       "    .dataframe tbody tr th {\n",
       "        vertical-align: top;\n",
       "    }\n",
       "\n",
       "    .dataframe thead th {\n",
       "        text-align: right;\n",
       "    }\n",
       "</style>\n",
       "<table border=\"1\" class=\"dataframe\">\n",
       "  <thead>\n",
       "    <tr style=\"text-align: right;\">\n",
       "      <th></th>\n",
       "      <th>fare_amount</th>\n",
       "      <th>pickup_longitude</th>\n",
       "      <th>pickup_latitude</th>\n",
       "      <th>dropoff_longitude</th>\n",
       "      <th>dropoff_latitude</th>\n",
       "      <th>passenger_count</th>\n",
       "      <th>year</th>\n",
       "      <th>month</th>\n",
       "      <th>day_of_week</th>\n",
       "      <th>hours</th>\n",
       "      <th>geodesic</th>\n",
       "    </tr>\n",
       "  </thead>\n",
       "  <tbody>\n",
       "    <tr>\n",
       "      <th>0</th>\n",
       "      <td>4.5</td>\n",
       "      <td>-73.844311</td>\n",
       "      <td>40.721319</td>\n",
       "      <td>-73.841610</td>\n",
       "      <td>40.712278</td>\n",
       "      <td>1.0</td>\n",
       "      <td>2009.0</td>\n",
       "      <td>6.0</td>\n",
       "      <td>0.0</td>\n",
       "      <td>17.0</td>\n",
       "      <td>1.029601</td>\n",
       "    </tr>\n",
       "    <tr>\n",
       "      <th>1</th>\n",
       "      <td>16.9</td>\n",
       "      <td>-74.016048</td>\n",
       "      <td>40.711303</td>\n",
       "      <td>-73.979268</td>\n",
       "      <td>40.782004</td>\n",
       "      <td>1.0</td>\n",
       "      <td>2010.0</td>\n",
       "      <td>1.0</td>\n",
       "      <td>1.0</td>\n",
       "      <td>16.0</td>\n",
       "      <td>4.137196</td>\n",
       "    </tr>\n",
       "    <tr>\n",
       "      <th>2</th>\n",
       "      <td>5.7</td>\n",
       "      <td>-73.982738</td>\n",
       "      <td>40.761270</td>\n",
       "      <td>-73.991242</td>\n",
       "      <td>40.750562</td>\n",
       "      <td>2.0</td>\n",
       "      <td>2011.0</td>\n",
       "      <td>8.0</td>\n",
       "      <td>3.0</td>\n",
       "      <td>0.0</td>\n",
       "      <td>1.389132</td>\n",
       "    </tr>\n",
       "    <tr>\n",
       "      <th>3</th>\n",
       "      <td>7.7</td>\n",
       "      <td>-73.987130</td>\n",
       "      <td>40.733143</td>\n",
       "      <td>-73.991567</td>\n",
       "      <td>40.758092</td>\n",
       "      <td>1.0</td>\n",
       "      <td>2012.0</td>\n",
       "      <td>4.0</td>\n",
       "      <td>5.0</td>\n",
       "      <td>4.0</td>\n",
       "      <td>2.795790</td>\n",
       "    </tr>\n",
       "    <tr>\n",
       "      <th>4</th>\n",
       "      <td>5.3</td>\n",
       "      <td>-73.968095</td>\n",
       "      <td>40.768008</td>\n",
       "      <td>-73.956655</td>\n",
       "      <td>40.783762</td>\n",
       "      <td>1.0</td>\n",
       "      <td>2010.0</td>\n",
       "      <td>3.0</td>\n",
       "      <td>1.0</td>\n",
       "      <td>7.0</td>\n",
       "      <td>1.998338</td>\n",
       "    </tr>\n",
       "  </tbody>\n",
       "</table>\n",
       "</div>"
      ],
      "text/plain": [
       "   fare_amount  pickup_longitude  pickup_latitude  dropoff_longitude  \\\n",
       "0          4.5        -73.844311        40.721319         -73.841610   \n",
       "1         16.9        -74.016048        40.711303         -73.979268   \n",
       "2          5.7        -73.982738        40.761270         -73.991242   \n",
       "3          7.7        -73.987130        40.733143         -73.991567   \n",
       "4          5.3        -73.968095        40.768008         -73.956655   \n",
       "\n",
       "   dropoff_latitude  passenger_count    year  month  day_of_week  hours  \\\n",
       "0         40.712278              1.0  2009.0    6.0          0.0   17.0   \n",
       "1         40.782004              1.0  2010.0    1.0          1.0   16.0   \n",
       "2         40.750562              2.0  2011.0    8.0          3.0    0.0   \n",
       "3         40.758092              1.0  2012.0    4.0          5.0    4.0   \n",
       "4         40.783762              1.0  2010.0    3.0          1.0    7.0   \n",
       "\n",
       "   geodesic  \n",
       "0  1.029601  \n",
       "1  4.137196  \n",
       "2  1.389132  \n",
       "3  2.795790  \n",
       "4  1.998338  "
      ]
     },
     "execution_count": 54,
     "metadata": {},
     "output_type": "execute_result"
    }
   ],
   "source": [
    "train_cab.head()"
   ]
  },
  {
   "cell_type": "markdown",
   "metadata": {},
   "source": [
    "# Data Visulization"
   ]
  },
  {
   "cell_type": "code",
   "execution_count": 1,
   "metadata": {},
   "outputs": [],
   "source": [
    "def groupandplot(data,groupby_key,value,aggregate='mean'):\n",
    "    plt.figure(figsize=(20,10))\n",
    "    agg_data=data.groupby([groupby_key])[value].agg(aggregate).reset_index().rename(columns={value:aggregate+'_'+value})\n",
    "    plt.subplot(1,2,1)\n",
    "    count_data=data.groupby([groupby_key])['fare_amount'].count().reset_index().rename(columns={'fare_amount':'Num_Trips'})\n",
    "    sns.barplot(x=groupby_key,y='Num_Trips',data=count_data).set_title(\"Number of Trips vs \"+groupby_key)\n",
    "\n",
    "    plt.subplot(1,2,2)\n",
    "    sns.barplot(x=groupby_key,y=aggregate+'_'+value,data=agg_data).set_title(aggregate+'_'+value+\" vs \"+groupby_key)"
   ]
  },
  {
   "cell_type": "code",
   "execution_count": 2,
   "metadata": {},
   "outputs": [
    {
     "ename": "NameError",
     "evalue": "name 'train_cab' is not defined",
     "output_type": "error",
     "traceback": [
      "\u001b[0;31m---------------------------------------------------------------------------\u001b[0m",
      "\u001b[0;31mNameError\u001b[0m                                 Traceback (most recent call last)",
      "\u001b[0;32m<ipython-input-2-3ec3e6c40c69>\u001b[0m in \u001b[0;36m<module>\u001b[0;34m\u001b[0m\n\u001b[0;32m----> 1\u001b[0;31m \u001b[0mprint\u001b[0m\u001b[0;34m(\u001b[0m\u001b[0mgroupandplot\u001b[0m\u001b[0;34m(\u001b[0m\u001b[0mtrain_cab\u001b[0m\u001b[0;34m,\u001b[0m\u001b[0;34m'hours'\u001b[0m\u001b[0;34m,\u001b[0m\u001b[0;34m'fare_amount'\u001b[0m\u001b[0;34m)\u001b[0m\u001b[0;34m)\u001b[0m\u001b[0;34m\u001b[0m\u001b[0;34m\u001b[0m\u001b[0m\n\u001b[0m\u001b[1;32m      2\u001b[0m \u001b[0mprint\u001b[0m\u001b[0;34m(\u001b[0m\u001b[0mgroupandplot\u001b[0m\u001b[0;34m(\u001b[0m\u001b[0mtrain_cab\u001b[0m\u001b[0;34m,\u001b[0m\u001b[0;34m'month'\u001b[0m\u001b[0;34m,\u001b[0m\u001b[0;34m'fare_amount'\u001b[0m\u001b[0;34m)\u001b[0m\u001b[0;34m)\u001b[0m\u001b[0;34m\u001b[0m\u001b[0;34m\u001b[0m\u001b[0m\n\u001b[1;32m      3\u001b[0m \u001b[0mprint\u001b[0m\u001b[0;34m(\u001b[0m\u001b[0mgroupandplot\u001b[0m\u001b[0;34m(\u001b[0m\u001b[0mtrain_cab\u001b[0m\u001b[0;34m,\u001b[0m\u001b[0;34m'year'\u001b[0m\u001b[0;34m,\u001b[0m\u001b[0;34m'fare_amount'\u001b[0m\u001b[0;34m)\u001b[0m\u001b[0;34m)\u001b[0m\u001b[0;34m\u001b[0m\u001b[0;34m\u001b[0m\u001b[0m\n\u001b[1;32m      4\u001b[0m \u001b[0mprint\u001b[0m\u001b[0;34m(\u001b[0m\u001b[0mgroupandplot\u001b[0m\u001b[0;34m(\u001b[0m\u001b[0mtrain_cab\u001b[0m\u001b[0;34m,\u001b[0m\u001b[0;34m'day_of_week'\u001b[0m\u001b[0;34m,\u001b[0m\u001b[0;34m'fare_amount'\u001b[0m\u001b[0;34m)\u001b[0m\u001b[0;34m)\u001b[0m\u001b[0;34m\u001b[0m\u001b[0;34m\u001b[0m\u001b[0m\n\u001b[1;32m      5\u001b[0m \u001b[0mprint\u001b[0m\u001b[0;34m(\u001b[0m\u001b[0mgroupandplot\u001b[0m\u001b[0;34m(\u001b[0m\u001b[0mtrain_cab\u001b[0m\u001b[0;34m,\u001b[0m\u001b[0;34m'passenger_count'\u001b[0m\u001b[0;34m,\u001b[0m\u001b[0;34m'fare_amount'\u001b[0m\u001b[0;34m)\u001b[0m\u001b[0;34m)\u001b[0m\u001b[0;34m\u001b[0m\u001b[0;34m\u001b[0m\u001b[0m\n",
      "\u001b[0;31mNameError\u001b[0m: name 'train_cab' is not defined"
     ]
    }
   ],
   "source": [
    "print(groupandplot(train_cab,'hours','fare_amount'))\n",
    "print(groupandplot(train_cab,'month','fare_amount'))\n",
    "print(groupandplot(train_cab,'year','fare_amount'))\n",
    "print(groupandplot(train_cab,'day_of_week','fare_amount'))\n",
    "print(groupandplot(train_cab,'passenger_count','fare_amount'))"
   ]
  },
  {
   "cell_type": "markdown",
   "metadata": {},
   "source": [
    "Avg Fare amount has been increasing over the years."
   ]
  },
  {
   "cell_type": "markdown",
   "metadata": {},
   "source": [
    "Fares across months are fairly constant, though number of trips are lower from june to decemeber"
   ]
  },
  {
   "cell_type": "markdown",
   "metadata": {},
   "source": [
    "Average fare amount is higher at 4 and highest pickup during 18 to 20 hours."
   ]
  },
  {
   "cell_type": "markdown",
   "metadata": {},
   "source": [
    "average fare amount is same for all passerger counts.\n",
    "Single passenger travels maximum."
   ]
  },
  {
   "cell_type": "markdown",
   "metadata": {},
   "source": [
    "# Feature Selection"
   ]
  },
  {
   "cell_type": "code",
   "execution_count": 57,
   "metadata": {},
   "outputs": [
    {
     "data": {
      "text/html": [
       "<div>\n",
       "<style scoped>\n",
       "    .dataframe tbody tr th:only-of-type {\n",
       "        vertical-align: middle;\n",
       "    }\n",
       "\n",
       "    .dataframe tbody tr th {\n",
       "        vertical-align: top;\n",
       "    }\n",
       "\n",
       "    .dataframe thead th {\n",
       "        text-align: right;\n",
       "    }\n",
       "</style>\n",
       "<table border=\"1\" class=\"dataframe\">\n",
       "  <thead>\n",
       "    <tr style=\"text-align: right;\">\n",
       "      <th></th>\n",
       "      <th>fare_amount</th>\n",
       "      <th>geodesic</th>\n",
       "    </tr>\n",
       "  </thead>\n",
       "  <tbody>\n",
       "    <tr>\n",
       "      <th>fare_amount</th>\n",
       "      <td>1.000000</td>\n",
       "      <td>0.818848</td>\n",
       "    </tr>\n",
       "    <tr>\n",
       "      <th>geodesic</th>\n",
       "      <td>0.818848</td>\n",
       "      <td>1.000000</td>\n",
       "    </tr>\n",
       "  </tbody>\n",
       "</table>\n",
       "</div>"
      ],
      "text/plain": [
       "             fare_amount  geodesic\n",
       "fare_amount     1.000000  0.818848\n",
       "geodesic        0.818848  1.000000"
      ]
     },
     "execution_count": 57,
     "metadata": {},
     "output_type": "execute_result"
    }
   ],
   "source": [
    "#Select continuous variable for correlaiton analysis\n",
    "conti_vari_train_cab = train_cab[['fare_amount','geodesic']]\n",
    "corr_train_cab = conti_vari_train_cab.corr()\n",
    "corr_train_cab"
   ]
  },
  {
   "cell_type": "code",
   "execution_count": 58,
   "metadata": {},
   "outputs": [
    {
     "data": {
      "text/plain": [
       "<matplotlib.axes._subplots.AxesSubplot at 0x1c3307eeb8>"
      ]
     },
     "execution_count": 58,
     "metadata": {},
     "output_type": "execute_result"
    },
    {
     "data": {
      "image/png": "[encoded data removed]",
      "text/plain": [
       "<Figure size 432x288 with 2 Axes>"
      ]
     },
     "metadata": {
      "needs_background": "light"
     },
     "output_type": "display_data"
    }
   ],
   "source": [
    "sns.heatmap(corr_train_cab, annot=True)"
   ]
  },
  {
   "cell_type": "code",
   "execution_count": 59,
   "metadata": {
    "scrolled": true
   },
   "outputs": [
    {
     "data": {
      "image/png": "[encoded data removed]",
      "text/plain": [
       "<Figure size 432x432 with 3 Axes>"
      ]
     },
     "metadata": {
      "needs_background": "light"
     },
     "output_type": "display_data"
    }
   ],
   "source": [
    "sns.jointplot(x='fare_amount',y='geodesic',data=train_cab,kind = 'reg')\n",
    "plt.show()"
   ]
  },
  {
   "cell_type": "code",
   "execution_count": 60,
   "metadata": {},
   "outputs": [
    {
     "data": {
      "text/html": [
       "<div>\n",
       "<style scoped>\n",
       "    .dataframe tbody tr th:only-of-type {\n",
       "        vertical-align: middle;\n",
       "    }\n",
       "\n",
       "    .dataframe tbody tr th {\n",
       "        vertical-align: top;\n",
       "    }\n",
       "\n",
       "    .dataframe thead th {\n",
       "        text-align: right;\n",
       "    }\n",
       "</style>\n",
       "<table border=\"1\" class=\"dataframe\">\n",
       "  <thead>\n",
       "    <tr style=\"text-align: right;\">\n",
       "      <th></th>\n",
       "      <th>fare_amount</th>\n",
       "      <th>pickup_longitude</th>\n",
       "      <th>pickup_latitude</th>\n",
       "      <th>dropoff_longitude</th>\n",
       "      <th>dropoff_latitude</th>\n",
       "      <th>passenger_count</th>\n",
       "      <th>year</th>\n",
       "      <th>month</th>\n",
       "      <th>day_of_week</th>\n",
       "      <th>hours</th>\n",
       "      <th>geodesic</th>\n",
       "    </tr>\n",
       "  </thead>\n",
       "  <tbody>\n",
       "    <tr>\n",
       "      <th>count</th>\n",
       "      <td>15983.000000</td>\n",
       "      <td>15983.000000</td>\n",
       "      <td>15983.000000</td>\n",
       "      <td>15983.000000</td>\n",
       "      <td>15983.000000</td>\n",
       "      <td>15983.000000</td>\n",
       "      <td>15983.000000</td>\n",
       "      <td>15983.000000</td>\n",
       "      <td>15983.000000</td>\n",
       "      <td>15983.000000</td>\n",
       "      <td>15983.000000</td>\n",
       "    </tr>\n",
       "    <tr>\n",
       "      <th>mean</th>\n",
       "      <td>9.318769</td>\n",
       "      <td>-72.473361</td>\n",
       "      <td>39.898011</td>\n",
       "      <td>-72.463649</td>\n",
       "      <td>39.898540</td>\n",
       "      <td>1.650441</td>\n",
       "      <td>2011.732779</td>\n",
       "      <td>6.262154</td>\n",
       "      <td>3.033035</td>\n",
       "      <td>13.494588</td>\n",
       "      <td>2.560572</td>\n",
       "    </tr>\n",
       "    <tr>\n",
       "      <th>std</th>\n",
       "      <td>4.293613</td>\n",
       "      <td>10.543464</td>\n",
       "      <td>6.187321</td>\n",
       "      <td>10.571230</td>\n",
       "      <td>6.186948</td>\n",
       "      <td>1.265426</td>\n",
       "      <td>1.867124</td>\n",
       "      <td>3.447368</td>\n",
       "      <td>1.968920</td>\n",
       "      <td>6.520768</td>\n",
       "      <td>1.765262</td>\n",
       "    </tr>\n",
       "    <tr>\n",
       "      <th>min</th>\n",
       "      <td>0.010000</td>\n",
       "      <td>-74.438233</td>\n",
       "      <td>-74.006893</td>\n",
       "      <td>-74.429332</td>\n",
       "      <td>-74.006377</td>\n",
       "      <td>1.000000</td>\n",
       "      <td>2009.000000</td>\n",
       "      <td>1.000000</td>\n",
       "      <td>0.000000</td>\n",
       "      <td>0.000000</td>\n",
       "      <td>0.000000</td>\n",
       "    </tr>\n",
       "    <tr>\n",
       "      <th>25%</th>\n",
       "      <td>6.000000</td>\n",
       "      <td>-73.992157</td>\n",
       "      <td>40.734943</td>\n",
       "      <td>-73.991182</td>\n",
       "      <td>40.734708</td>\n",
       "      <td>1.000000</td>\n",
       "      <td>2010.000000</td>\n",
       "      <td>3.000000</td>\n",
       "      <td>1.000000</td>\n",
       "      <td>9.000000</td>\n",
       "      <td>1.212696</td>\n",
       "    </tr>\n",
       "    <tr>\n",
       "      <th>50%</th>\n",
       "      <td>8.500000</td>\n",
       "      <td>-73.981696</td>\n",
       "      <td>40.752633</td>\n",
       "      <td>-73.980165</td>\n",
       "      <td>40.753582</td>\n",
       "      <td>1.000000</td>\n",
       "      <td>2012.000000</td>\n",
       "      <td>6.000000</td>\n",
       "      <td>3.000000</td>\n",
       "      <td>14.000000</td>\n",
       "      <td>2.101870</td>\n",
       "    </tr>\n",
       "    <tr>\n",
       "      <th>75%</th>\n",
       "      <td>12.000000</td>\n",
       "      <td>-73.966834</td>\n",
       "      <td>40.767398</td>\n",
       "      <td>-73.963643</td>\n",
       "      <td>40.768027</td>\n",
       "      <td>2.000000</td>\n",
       "      <td>2013.000000</td>\n",
       "      <td>9.000000</td>\n",
       "      <td>5.000000</td>\n",
       "      <td>19.000000</td>\n",
       "      <td>3.588726</td>\n",
       "    </tr>\n",
       "    <tr>\n",
       "      <th>max</th>\n",
       "      <td>22.100000</td>\n",
       "      <td>40.766125</td>\n",
       "      <td>41.366138</td>\n",
       "      <td>40.802437</td>\n",
       "      <td>41.366138</td>\n",
       "      <td>6.000000</td>\n",
       "      <td>2015.000000</td>\n",
       "      <td>12.000000</td>\n",
       "      <td>6.000000</td>\n",
       "      <td>23.000000</td>\n",
       "      <td>7.819169</td>\n",
       "    </tr>\n",
       "  </tbody>\n",
       "</table>\n",
       "</div>"
      ],
      "text/plain": [
       "        fare_amount  pickup_longitude  pickup_latitude  dropoff_longitude  \\\n",
       "count  15983.000000      15983.000000     15983.000000       15983.000000   \n",
       "mean       9.318769        -72.473361        39.898011         -72.463649   \n",
       "std        4.293613         10.543464         6.187321          10.571230   \n",
       "min        0.010000        -74.438233       -74.006893         -74.429332   \n",
       "25%        6.000000        -73.992157        40.734943         -73.991182   \n",
       "50%        8.500000        -73.981696        40.752633         -73.980165   \n",
       "75%       12.000000        -73.966834        40.767398         -73.963643   \n",
       "max       22.100000         40.766125        41.366138          40.802437   \n",
       "\n",
       "       dropoff_latitude  passenger_count          year         month  \\\n",
       "count      15983.000000     15983.000000  15983.000000  15983.000000   \n",
       "mean          39.898540         1.650441   2011.732779      6.262154   \n",
       "std            6.186948         1.265426      1.867124      3.447368   \n",
       "min          -74.006377         1.000000   2009.000000      1.000000   \n",
       "25%           40.734708         1.000000   2010.000000      3.000000   \n",
       "50%           40.753582         1.000000   2012.000000      6.000000   \n",
       "75%           40.768027         2.000000   2013.000000      9.000000   \n",
       "max           41.366138         6.000000   2015.000000     12.000000   \n",
       "\n",
       "        day_of_week         hours      geodesic  \n",
       "count  15983.000000  15983.000000  15983.000000  \n",
       "mean       3.033035     13.494588      2.560572  \n",
       "std        1.968920      6.520768      1.765262  \n",
       "min        0.000000      0.000000      0.000000  \n",
       "25%        1.000000      9.000000      1.212696  \n",
       "50%        3.000000     14.000000      2.101870  \n",
       "75%        5.000000     19.000000      3.588726  \n",
       "max        6.000000     23.000000      7.819169  "
      ]
     },
     "execution_count": 60,
     "metadata": {},
     "output_type": "execute_result"
    }
   ],
   "source": [
    "train_cab.describe()"
   ]
  },
  {
   "cell_type": "code",
   "execution_count": 61,
   "metadata": {},
   "outputs": [],
   "source": [
    "train_cab = train_cab.drop(['pickup_longitude','pickup_latitude'],axis=1)"
   ]
  },
  {
   "cell_type": "code",
   "execution_count": 62,
   "metadata": {},
   "outputs": [],
   "source": [
    "train_cab = train_cab.drop(['dropoff_longitude','dropoff_latitude'],axis=1)"
   ]
  },
  {
   "cell_type": "code",
   "execution_count": 63,
   "metadata": {},
   "outputs": [],
   "source": [
    "test_cab = test_cab.drop(['pickup_longitude','pickup_latitude','dropoff_longitude','dropoff_latitude'],axis = 1)"
   ]
  },
  {
   "cell_type": "code",
   "execution_count": 64,
   "metadata": {},
   "outputs": [],
   "source": [
    "model_name = ols('fare_amount ~ passenger_count + hours + day_of_week + month + year', data=train_cab).fit()"
   ]
  },
  {
   "cell_type": "code",
   "execution_count": 65,
   "metadata": {},
   "outputs": [
    {
     "data": {
      "text/html": [
       "<table class=\"simpletable\">\n",
       "<caption>OLS Regression Results</caption>\n",
       "<tr>\n",
       "  <th>Dep. Variable:</th>       <td>fare_amount</td>   <th>  R-squared:         </th> <td>   0.026</td> \n",
       "</tr>\n",
       "<tr>\n",
       "  <th>Model:</th>                   <td>OLS</td>       <th>  Adj. R-squared:    </th> <td>   0.025</td> \n",
       "</tr>\n",
       "<tr>\n",
       "  <th>Method:</th>             <td>Least Squares</td>  <th>  F-statistic:       </th> <td>   84.42</td> \n",
       "</tr>\n",
       "<tr>\n",
       "  <th>Date:</th>             <td>Sun, 22 Dec 2019</td> <th>  Prob (F-statistic):</th> <td>7.60e-88</td> \n",
       "</tr>\n",
       "<tr>\n",
       "  <th>Time:</th>                 <td>02:26:34</td>     <th>  Log-Likelihood:    </th> <td> -45759.</td> \n",
       "</tr>\n",
       "<tr>\n",
       "  <th>No. Observations:</th>      <td> 15983</td>      <th>  AIC:               </th> <td>9.153e+04</td>\n",
       "</tr>\n",
       "<tr>\n",
       "  <th>Df Residuals:</th>          <td> 15977</td>      <th>  BIC:               </th> <td>9.158e+04</td>\n",
       "</tr>\n",
       "<tr>\n",
       "  <th>Df Model:</th>              <td>     5</td>      <th>                     </th>     <td> </td>    \n",
       "</tr>\n",
       "<tr>\n",
       "  <th>Covariance Type:</th>      <td>nonrobust</td>    <th>                     </th>     <td> </td>    \n",
       "</tr>\n",
       "</table>\n",
       "<table class=\"simpletable\">\n",
       "<tr>\n",
       "         <td></td>            <th>coef</th>     <th>std err</th>      <th>t</th>      <th>P>|t|</th>  <th>[0.025</th>    <th>0.975]</th>  \n",
       "</tr>\n",
       "<tr>\n",
       "  <th>Intercept</th>       <td> -702.5938</td> <td>   36.383</td> <td>  -19.311</td> <td> 0.000</td> <td> -773.908</td> <td> -631.279</td>\n",
       "</tr>\n",
       "<tr>\n",
       "  <th>passenger_count</th> <td>   -0.0315</td> <td>    0.027</td> <td>   -1.189</td> <td> 0.235</td> <td>   -0.084</td> <td>    0.020</td>\n",
       "</tr>\n",
       "<tr>\n",
       "  <th>hours</th>           <td>   -0.0194</td> <td>    0.005</td> <td>   -3.753</td> <td> 0.000</td> <td>   -0.029</td> <td>   -0.009</td>\n",
       "</tr>\n",
       "<tr>\n",
       "  <th>day_of_week</th>     <td>    0.0395</td> <td>    0.017</td> <td>    2.311</td> <td> 0.021</td> <td>    0.006</td> <td>    0.073</td>\n",
       "</tr>\n",
       "<tr>\n",
       "  <th>month</th>           <td>    0.0612</td> <td>    0.010</td> <td>    6.252</td> <td> 0.000</td> <td>    0.042</td> <td>    0.080</td>\n",
       "</tr>\n",
       "<tr>\n",
       "  <th>year</th>            <td>    0.3538</td> <td>    0.018</td> <td>   19.566</td> <td> 0.000</td> <td>    0.318</td> <td>    0.389</td>\n",
       "</tr>\n",
       "</table>\n",
       "<table class=\"simpletable\">\n",
       "<tr>\n",
       "  <th>Omnibus:</th>       <td>1387.890</td> <th>  Durbin-Watson:     </th> <td>   2.015</td>\n",
       "</tr>\n",
       "<tr>\n",
       "  <th>Prob(Omnibus):</th>  <td> 0.000</td>  <th>  Jarque-Bera (JB):  </th> <td>1786.545</td>\n",
       "</tr>\n",
       "<tr>\n",
       "  <th>Skew:</th>           <td> 0.819</td>  <th>  Prob(JB):          </th> <td>    0.00</td>\n",
       "</tr>\n",
       "<tr>\n",
       "  <th>Kurtosis:</th>       <td> 3.007</td>  <th>  Cond. No.          </th> <td>2.18e+06</td>\n",
       "</tr>\n",
       "</table><br/><br/>Warnings:<br/>[1] Standard Errors assume that the covariance matrix of the errors is correctly specified.<br/>[2] The condition number is large, 2.18e+06. This might indicate that there are<br/>strong multicollinearity or other numerical problems."
      ],
      "text/plain": [
       "<class 'statsmodels.iolib.summary.Summary'>\n",
       "\"\"\"\n",
       "                            OLS Regression Results                            \n",
       "==============================================================================\n",
       "Dep. Variable:            fare_amount   R-squared:                       0.026\n",
       "Model:                            OLS   Adj. R-squared:                  0.025\n",
       "Method:                 Least Squares   F-statistic:                     84.42\n",
       "Date:                Sun, 22 Dec 2019   Prob (F-statistic):           7.60e-88\n",
       "Time:                        02:26:34   Log-Likelihood:                -45759.\n",
       "No. Observations:               15983   AIC:                         9.153e+04\n",
       "Df Residuals:                   15977   BIC:                         9.158e+04\n",
       "Df Model:                           5                                         \n",
       "Covariance Type:            nonrobust                                         \n",
       "===================================================================================\n",
       "                      coef    std err          t      P>|t|      [0.025      0.975]\n",
       "-----------------------------------------------------------------------------------\n",
       "Intercept        -702.5938     36.383    -19.311      0.000    -773.908    -631.279\n",
       "passenger_count    -0.0315      0.027     -1.189      0.235      -0.084       0.020\n",
       "hours              -0.0194      0.005     -3.753      0.000      -0.029      -0.009\n",
       "day_of_week         0.0395      0.017      2.311      0.021       0.006       0.073\n",
       "month               0.0612      0.010      6.252      0.000       0.042       0.080\n",
       "year                0.3538      0.018     19.566      0.000       0.318       0.389\n",
       "==============================================================================\n",
       "Omnibus:                     1387.890   Durbin-Watson:                   2.015\n",
       "Prob(Omnibus):                  0.000   Jarque-Bera (JB):             1786.545\n",
       "Skew:                           0.819   Prob(JB):                         0.00\n",
       "Kurtosis:                       3.007   Cond. No.                     2.18e+06\n",
       "==============================================================================\n",
       "\n",
       "Warnings:\n",
       "[1] Standard Errors assume that the covariance matrix of the errors is correctly specified.\n",
       "[2] The condition number is large, 2.18e+06. This might indicate that there are\n",
       "strong multicollinearity or other numerical problems.\n",
       "\"\"\""
      ]
     },
     "execution_count": 65,
     "metadata": {},
     "output_type": "execute_result"
    }
   ],
   "source": [
    "model_name.summary()"
   ]
  },
  {
   "cell_type": "code",
   "execution_count": 66,
   "metadata": {},
   "outputs": [
    {
     "data": {
      "text/html": [
       "<div>\n",
       "<style scoped>\n",
       "    .dataframe tbody tr th:only-of-type {\n",
       "        vertical-align: middle;\n",
       "    }\n",
       "\n",
       "    .dataframe tbody tr th {\n",
       "        vertical-align: top;\n",
       "    }\n",
       "\n",
       "    .dataframe thead th {\n",
       "        text-align: right;\n",
       "    }\n",
       "</style>\n",
       "<table border=\"1\" class=\"dataframe\">\n",
       "  <thead>\n",
       "    <tr style=\"text-align: right;\">\n",
       "      <th></th>\n",
       "      <th>df</th>\n",
       "      <th>sum_sq</th>\n",
       "      <th>mean_sq</th>\n",
       "      <th>F</th>\n",
       "      <th>PR(&gt;F)</th>\n",
       "    </tr>\n",
       "  </thead>\n",
       "  <tbody>\n",
       "    <tr>\n",
       "      <th>passenger_count</th>\n",
       "      <td>1.0</td>\n",
       "      <td>19.336470</td>\n",
       "      <td>19.336470</td>\n",
       "      <td>1.076268</td>\n",
       "      <td>2.995497e-01</td>\n",
       "    </tr>\n",
       "    <tr>\n",
       "      <th>hours</th>\n",
       "      <td>1.0</td>\n",
       "      <td>301.449555</td>\n",
       "      <td>301.449555</td>\n",
       "      <td>16.778680</td>\n",
       "      <td>4.220957e-05</td>\n",
       "    </tr>\n",
       "    <tr>\n",
       "      <th>day_of_week</th>\n",
       "      <td>1.0</td>\n",
       "      <td>98.156205</td>\n",
       "      <td>98.156205</td>\n",
       "      <td>5.463374</td>\n",
       "      <td>1.943140e-02</td>\n",
       "    </tr>\n",
       "    <tr>\n",
       "      <th>month</th>\n",
       "      <td>1.0</td>\n",
       "      <td>286.632034</td>\n",
       "      <td>286.632034</td>\n",
       "      <td>15.953937</td>\n",
       "      <td>6.519333e-05</td>\n",
       "    </tr>\n",
       "    <tr>\n",
       "      <th>year</th>\n",
       "      <td>1.0</td>\n",
       "      <td>6877.980111</td>\n",
       "      <td>6877.980111</td>\n",
       "      <td>382.828331</td>\n",
       "      <td>2.915080e-84</td>\n",
       "    </tr>\n",
       "    <tr>\n",
       "      <th>Residual</th>\n",
       "      <td>15977.0</td>\n",
       "      <td>287046.384249</td>\n",
       "      <td>17.966225</td>\n",
       "      <td>NaN</td>\n",
       "      <td>NaN</td>\n",
       "    </tr>\n",
       "  </tbody>\n",
       "</table>\n",
       "</div>"
      ],
      "text/plain": [
       "                      df         sum_sq      mean_sq           F        PR(>F)\n",
       "passenger_count      1.0      19.336470    19.336470    1.076268  2.995497e-01\n",
       "hours                1.0     301.449555   301.449555   16.778680  4.220957e-05\n",
       "day_of_week          1.0      98.156205    98.156205    5.463374  1.943140e-02\n",
       "month                1.0     286.632034   286.632034   15.953937  6.519333e-05\n",
       "year                 1.0    6877.980111  6877.980111  382.828331  2.915080e-84\n",
       "Residual         15977.0  287046.384249    17.966225         NaN           NaN"
      ]
     },
     "execution_count": 66,
     "metadata": {},
     "output_type": "execute_result"
    }
   ],
   "source": [
    "aov_table = sm.stats.anova_lm(model_name,type = 1)\n",
    "aov_table"
   ]
  },
  {
   "cell_type": "markdown",
   "metadata": {},
   "source": [
    "# Feature Scaling"
   ]
  },
  {
   "cell_type": "code",
   "execution_count": 67,
   "metadata": {},
   "outputs": [
    {
     "data": {
      "text/plain": [
       "<matplotlib.axes._subplots.AxesSubplot at 0x1c34ad3da0>"
      ]
     },
     "execution_count": 67,
     "metadata": {},
     "output_type": "execute_result"
    },
    {
     "data": {
      "image/png": "[encoded data removed]",
      "text/plain": [
       "<Figure size 432x288 with 1 Axes>"
      ]
     },
     "metadata": {
      "needs_background": "light"
     },
     "output_type": "display_data"
    }
   ],
   "source": [
    "#Feature Scaling Check with or without normalization of standarscalar\n",
    "sns.distplot(train_cab['geodesic'],bins=50)"
   ]
  },
  {
   "cell_type": "code",
   "execution_count": 68,
   "metadata": {},
   "outputs": [
    {
     "data": {
      "text/plain": [
       "((array([-3.92498908, -3.70603239, -3.58609907, ...,  3.58609907,\n",
       "          3.70603239,  3.92498908]),\n",
       "  array([0.        , 0.        , 0.        , ..., 7.80656665, 7.81277497,\n",
       "         7.81916854])),\n",
       " (1.7005159796649065, 2.5605722594341924, 0.9631270020406412))"
      ]
     },
     "execution_count": 68,
     "metadata": {},
     "output_type": "execute_result"
    },
    {
     "data": {
      "image/png": "[encoded data removed]",
      "text/plain": [
       "<Figure size 432x288 with 1 Axes>"
      ]
     },
     "metadata": {
      "needs_background": "light"
     },
     "output_type": "display_data"
    }
   ],
   "source": [
    "plt.figure()\n",
    "stats.probplot(train_cab['geodesic'], dist='norm', fit=True,plot=plt)"
   ]
  },
  {
   "cell_type": "code",
   "execution_count": 69,
   "metadata": {},
   "outputs": [],
   "source": [
    "#Normalization\n",
    "train_cab['geodesic'] = (train_cab['geodesic'] - min(train_cab['geodesic']))/(max(train_cab['geodesic']) - min(train_cab['geodesic']))\n",
    "#test.csv['geodesic'] = (test['geodesic'] - min(test['geodesic']))/(max(test['geodesic']) - min(test['geodesic']))"
   ]
  },
  {
   "cell_type": "code",
   "execution_count": 70,
   "metadata": {},
   "outputs": [
    {
     "data": {
      "text/plain": [
       "<matplotlib.axes._subplots.AxesSubplot at 0x1c34d557b8>"
      ]
     },
     "execution_count": 70,
     "metadata": {},
     "output_type": "execute_result"
    },
    {
     "data": {
      "image/png": "[encoded data removed]",
      "text/plain": [
       "<Figure size 432x288 with 1 Axes>"
      ]
     },
     "metadata": {
      "needs_background": "light"
     },
     "output_type": "display_data"
    }
   ],
   "source": [
    "sns.distplot(train_cab['geodesic'],bins=50)"
   ]
  },
  {
   "cell_type": "code",
   "execution_count": 71,
   "metadata": {
    "scrolled": true
   },
   "outputs": [
    {
     "data": {
      "text/plain": [
       "((array([-3.92498908, -3.70603239, -3.58609907, ...,  3.58609907,\n",
       "          3.70603239,  3.92498908]),\n",
       "  array([0.        , 0.        , 0.        , ..., 0.99838833, 0.99918232,\n",
       "         1.        ])),\n",
       " (0.21748041006237573, 0.3274737265837552, 0.9631270020406413))"
      ]
     },
     "execution_count": 71,
     "metadata": {},
     "output_type": "execute_result"
    },
    {
     "data": {
      "image/png": "[encoded data removed]",
      "text/plain": [
       "<Figure size 432x288 with 1 Axes>"
      ]
     },
     "metadata": {
      "needs_background": "light"
     },
     "output_type": "display_data"
    }
   ],
   "source": [
    "stats.probplot(train_cab['geodesic'], dist='norm', fit=True,plot=plt)"
   ]
  },
  {
   "cell_type": "markdown",
   "metadata": {},
   "source": [
    "\n",
    "# Splitting train and Validation Dataset"
   ]
  },
  {
   "cell_type": "code",
   "execution_count": 72,
   "metadata": {},
   "outputs": [
    {
     "name": "stdout",
     "output_type": "stream",
     "text": [
      "(15983, 7) (12786, 6) (3197, 6) (12786,) (3197,)\n"
     ]
    }
   ],
   "source": [
    "#Splitting Data into train and validation subsets\n",
    "X = train_cab.drop('fare_amount',axis=1).values\n",
    "y = train_cab['fare_amount'].values\n",
    "X_train_cab, X_test_cab, y_train_cab, y_test_cab = train_test_split(X, y, test_size = 0.20, random_state=42)\n",
    "print(train_cab.shape, X_train_cab.shape, X_test_cab.shape,y_train_cab.shape,y_test_cab.shape)"
   ]
  },
  {
   "cell_type": "markdown",
   "metadata": {},
   "source": [
    "## Model Development "
   ]
  },
  {
   "cell_type": "markdown",
   "metadata": {},
   "source": [
    "# Linear Regression Model"
   ]
  },
  {
   "cell_type": "code",
   "execution_count": 73,
   "metadata": {},
   "outputs": [],
   "source": [
    "def get_score(model, X_train_cab, X_test_cab, y_train_cab, y_test_cab):\n",
    "    model.fit(X_train_cab, y_train_cab)\n",
    "    return model.score(X_test_cab,y_test_cab)"
   ]
  },
  {
   "cell_type": "code",
   "execution_count": 74,
   "metadata": {},
   "outputs": [
    {
     "name": "stdout",
     "output_type": "stream",
     "text": [
      "Linear Regression 0.6840788779220737\n",
      "DecisionTreeRegressor 0.42861216886189146\n"
     ]
    },
    {
     "name": "stderr",
     "output_type": "stream",
     "text": [
      "/Users/divyanggor/anaconda3/lib/python3.7/site-packages/sklearn/ensemble/forest.py:245: FutureWarning: The default value of n_estimators will change from 10 in version 0.20 to 100 in 0.22.\n",
      "  \"10 in version 0.20 to 100 in 0.22.\", FutureWarning)\n"
     ]
    },
    {
     "name": "stdout",
     "output_type": "stream",
     "text": [
      "RandomForestRegressor 0.6759340271885907\n",
      "[02:26:38] WARNING: src/objective/regression_obj.cu:152: reg:linear is now deprecated in favor of reg:squarederror.\n",
      "XGBRegressor 0.7319002257126387\n"
     ]
    }
   ],
   "source": [
    "print('Linear Regression',get_score(LinearRegression(), X_train_cab, X_test_cab, y_train_cab, y_test_cab))\n",
    "print('DecisionTreeRegressor',get_score(DecisionTreeRegressor(), X_train_cab, X_test_cab, y_train_cab, y_test_cab))\n",
    "print('RandomForestRegressor',get_score(RandomForestRegressor(), X_train_cab, X_test_cab, y_train_cab, y_test_cab))\n",
    "print('XGBRegressor',get_score(XGBRegressor(), X_train_cab, X_test_cab, y_train_cab, y_test_cab))"
   ]
  },
  {
   "cell_type": "code",
   "execution_count": 75,
   "metadata": {},
   "outputs": [],
   "source": [
    "def RMSE(model, X_train, X_test, y_train, y_test):\n",
    "    model.fit(X_train, y_train)\n",
    "    y_pred = model.predict(X_test)\n",
    "    y_pred_train = model.predict(X_train)\n",
    "    print(model)\n",
    "    print('RMSE_test', np.sqrt(mean_squared_error(y_test, y_pred)))\n",
    "    print('RMSE_train', np.sqrt(mean_squared_error(y_train, y_pred_train)))"
   ]
  },
  {
   "cell_type": "code",
   "execution_count": 76,
   "metadata": {
    "scrolled": true
   },
   "outputs": [
    {
     "name": "stdout",
     "output_type": "stream",
     "text": [
      "LinearRegression(copy_X=True, fit_intercept=True, n_jobs=None, normalize=False)\n",
      "RMSE_test 2.3763761075113545\n",
      "RMSE_train 2.387846886144272\n",
      "Linear Regression None\n",
      "DecisionTreeRegressor(criterion='mse', max_depth=None, max_features=None,\n",
      "                      max_leaf_nodes=None, min_impurity_decrease=0.0,\n",
      "                      min_impurity_split=None, min_samples_leaf=1,\n",
      "                      min_samples_split=2, min_weight_fraction_leaf=0.0,\n",
      "                      presort=False, random_state=None, splitter='best')\n",
      "RMSE_test 3.2113913355286003\n",
      "RMSE_train 0.013964479679398043\n",
      "DecisionTreeRegressor None\n"
     ]
    },
    {
     "name": "stderr",
     "output_type": "stream",
     "text": [
      "/Users/divyanggor/anaconda3/lib/python3.7/site-packages/sklearn/ensemble/forest.py:245: FutureWarning: The default value of n_estimators will change from 10 in version 0.20 to 100 in 0.22.\n",
      "  \"10 in version 0.20 to 100 in 0.22.\", FutureWarning)\n"
     ]
    },
    {
     "name": "stdout",
     "output_type": "stream",
     "text": [
      "RandomForestRegressor(bootstrap=True, criterion='mse', max_depth=None,\n",
      "                      max_features='auto', max_leaf_nodes=None,\n",
      "                      min_impurity_decrease=0.0, min_impurity_split=None,\n",
      "                      min_samples_leaf=1, min_samples_split=2,\n",
      "                      min_weight_fraction_leaf=0.0, n_estimators=10,\n",
      "                      n_jobs=None, oob_score=False, random_state=None,\n",
      "                      verbose=0, warm_start=False)\n",
      "RMSE_test 2.391778634430006\n",
      "RMSE_train 1.0193118114278026\n",
      "RandomForestRegressor None\n",
      "[02:26:40] WARNING: src/objective/regression_obj.cu:152: reg:linear is now deprecated in favor of reg:squarederror.\n",
      "XGBRegressor(base_score=0.5, booster='gbtree', colsample_bylevel=1,\n",
      "             colsample_bynode=1, colsample_bytree=1, gamma=0,\n",
      "             importance_type='gain', learning_rate=0.1, max_delta_step=0,\n",
      "             max_depth=3, min_child_weight=1, missing=None, n_estimators=100,\n",
      "             n_jobs=1, nthread=None, objective='reg:linear', random_state=0,\n",
      "             reg_alpha=0, reg_lambda=1, scale_pos_weight=1, seed=None,\n",
      "             silent=None, subsample=1, verbosity=1)\n",
      "RMSE_test 2.1891426883468053\n",
      "RMSE_train 2.1234972646489703\n",
      "XGBRegressor None\n"
     ]
    }
   ],
   "source": [
    "print('Linear Regression',RMSE(LinearRegression(), X_train_cab, X_test_cab, y_train_cab, y_test_cab))\n",
    "print('DecisionTreeRegressor',RMSE(DecisionTreeRegressor(), X_train_cab, X_test_cab, y_train_cab, y_test_cab))\n",
    "print('RandomForestRegressor',RMSE(RandomForestRegressor(), X_train_cab, X_test_cab, y_train_cab, y_test_cab))\n",
    "print('XGBRegressor',RMSE(XGBRegressor(), X_train_cab, X_test_cab, y_train_cab, y_test_cab))"
   ]
  },
  {
   "cell_type": "markdown",
   "metadata": {},
   "source": [
    "# KFold"
   ]
  },
  {
   "cell_type": "code",
   "execution_count": 77,
   "metadata": {},
   "outputs": [],
   "source": [
    "folds = StratifiedKFold(n_splits=10)"
   ]
  },
  {
   "cell_type": "code",
   "execution_count": 78,
   "metadata": {},
   "outputs": [
    {
     "name": "stdout",
     "output_type": "stream",
     "text": [
      "LinearRegression_CV [0.69105989 0.67923199 0.70507178 0.70816572 0.66963886]\n",
      "LinearRegression_CV_mean 0.6906336465836012\n"
     ]
    }
   ],
   "source": [
    "print('LinearRegression_CV', cross_val_score(LinearRegression(), X, y,cv=5))\n",
    "print('LinearRegression_CV_mean', cross_val_score(LinearRegression(), X, y,cv=5).mean())"
   ]
  },
  {
   "cell_type": "code",
   "execution_count": 79,
   "metadata": {},
   "outputs": [
    {
     "name": "stdout",
     "output_type": "stream",
     "text": [
      "DecisionTreeRegressor_CV [0.41473104 0.43785047 0.42314935 0.48969521 0.44285117]\n",
      "DecisionTreeRegressor_CV_mean 0.44390272408573656\n"
     ]
    }
   ],
   "source": [
    "print('DecisionTreeRegressor_CV', cross_val_score(DecisionTreeRegressor(), X, y,cv=5))\n",
    "print('DecisionTreeRegressor_CV_mean', cross_val_score(DecisionTreeRegressor(), X, y,cv=5).mean())"
   ]
  },
  {
   "cell_type": "code",
   "execution_count": 80,
   "metadata": {},
   "outputs": [
    {
     "name": "stderr",
     "output_type": "stream",
     "text": [
      "/Users/divyanggor/anaconda3/lib/python3.7/site-packages/sklearn/ensemble/forest.py:245: FutureWarning: The default value of n_estimators will change from 10 in version 0.20 to 100 in 0.22.\n",
      "  \"10 in version 0.20 to 100 in 0.22.\", FutureWarning)\n",
      "/Users/divyanggor/anaconda3/lib/python3.7/site-packages/sklearn/ensemble/forest.py:245: FutureWarning: The default value of n_estimators will change from 10 in version 0.20 to 100 in 0.22.\n",
      "  \"10 in version 0.20 to 100 in 0.22.\", FutureWarning)\n",
      "/Users/divyanggor/anaconda3/lib/python3.7/site-packages/sklearn/ensemble/forest.py:245: FutureWarning: The default value of n_estimators will change from 10 in version 0.20 to 100 in 0.22.\n",
      "  \"10 in version 0.20 to 100 in 0.22.\", FutureWarning)\n",
      "/Users/divyanggor/anaconda3/lib/python3.7/site-packages/sklearn/ensemble/forest.py:245: FutureWarning: The default value of n_estimators will change from 10 in version 0.20 to 100 in 0.22.\n",
      "  \"10 in version 0.20 to 100 in 0.22.\", FutureWarning)\n",
      "/Users/divyanggor/anaconda3/lib/python3.7/site-packages/sklearn/ensemble/forest.py:245: FutureWarning: The default value of n_estimators will change from 10 in version 0.20 to 100 in 0.22.\n",
      "  \"10 in version 0.20 to 100 in 0.22.\", FutureWarning)\n"
     ]
    },
    {
     "name": "stdout",
     "output_type": "stream",
     "text": [
      "RandomForestRegressor_CV [0.68871075 0.69794725 0.68758802 0.71056422 0.68626248]\n"
     ]
    },
    {
     "name": "stderr",
     "output_type": "stream",
     "text": [
      "/Users/divyanggor/anaconda3/lib/python3.7/site-packages/sklearn/ensemble/forest.py:245: FutureWarning: The default value of n_estimators will change from 10 in version 0.20 to 100 in 0.22.\n",
      "  \"10 in version 0.20 to 100 in 0.22.\", FutureWarning)\n",
      "/Users/divyanggor/anaconda3/lib/python3.7/site-packages/sklearn/ensemble/forest.py:245: FutureWarning: The default value of n_estimators will change from 10 in version 0.20 to 100 in 0.22.\n",
      "  \"10 in version 0.20 to 100 in 0.22.\", FutureWarning)\n",
      "/Users/divyanggor/anaconda3/lib/python3.7/site-packages/sklearn/ensemble/forest.py:245: FutureWarning: The default value of n_estimators will change from 10 in version 0.20 to 100 in 0.22.\n",
      "  \"10 in version 0.20 to 100 in 0.22.\", FutureWarning)\n",
      "/Users/divyanggor/anaconda3/lib/python3.7/site-packages/sklearn/ensemble/forest.py:245: FutureWarning: The default value of n_estimators will change from 10 in version 0.20 to 100 in 0.22.\n",
      "  \"10 in version 0.20 to 100 in 0.22.\", FutureWarning)\n",
      "/Users/divyanggor/anaconda3/lib/python3.7/site-packages/sklearn/ensemble/forest.py:245: FutureWarning: The default value of n_estimators will change from 10 in version 0.20 to 100 in 0.22.\n",
      "  \"10 in version 0.20 to 100 in 0.22.\", FutureWarning)\n"
     ]
    },
    {
     "name": "stdout",
     "output_type": "stream",
     "text": [
      "RandomForestRegressor_CV_mean 0.6929728424247361\n"
     ]
    }
   ],
   "source": [
    "print('RandomForestRegressor_CV', cross_val_score(RandomForestRegressor(), X, y,cv=5))\n",
    "print('RandomForestRegressor_CV_mean', cross_val_score(RandomForestRegressor(), X, y,cv=5).mean())"
   ]
  },
  {
   "cell_type": "code",
   "execution_count": 81,
   "metadata": {},
   "outputs": [
    {
     "name": "stdout",
     "output_type": "stream",
     "text": [
      "[02:26:46] WARNING: src/objective/regression_obj.cu:152: reg:linear is now deprecated in favor of reg:squarederror.\n",
      "[02:26:47] WARNING: src/objective/regression_obj.cu:152: reg:linear is now deprecated in favor of reg:squarederror.\n",
      "[02:26:48] WARNING: src/objective/regression_obj.cu:152: reg:linear is now deprecated in favor of reg:squarederror.\n",
      "[02:26:49] WARNING: src/objective/regression_obj.cu:152: reg:linear is now deprecated in favor of reg:squarederror.\n",
      "[02:26:50] WARNING: src/objective/regression_obj.cu:152: reg:linear is now deprecated in favor of reg:squarederror.\n",
      "XGBRegressor_CV [0.74321283 0.73612606 0.74348742 0.75401336 0.73133161]\n",
      "[02:26:50] WARNING: src/objective/regression_obj.cu:152: reg:linear is now deprecated in favor of reg:squarederror.\n",
      "[02:26:51] WARNING: src/objective/regression_obj.cu:152: reg:linear is now deprecated in favor of reg:squarederror.\n",
      "[02:26:52] WARNING: src/objective/regression_obj.cu:152: reg:linear is now deprecated in favor of reg:squarederror.\n",
      "[02:26:53] WARNING: src/objective/regression_obj.cu:152: reg:linear is now deprecated in favor of reg:squarederror.\n",
      "[02:26:54] WARNING: src/objective/regression_obj.cu:152: reg:linear is now deprecated in favor of reg:squarederror.\n",
      "XGBRegressor_CV_mean 0.7416342551819691\n"
     ]
    }
   ],
   "source": [
    "print('XGBRegressor_CV', cross_val_score(XGBRegressor(), X, y,cv=5))\n",
    "print('XGBRegressor_CV_mean', cross_val_score(XGBRegressor(), X, y,cv=5).mean())"
   ]
  },
  {
   "cell_type": "code",
   "execution_count": 86,
   "metadata": {},
   "outputs": [],
   "source": [
    "test_cab_1 = test_cab.drop(['pickup_datetime'],axis =1)"
   ]
  },
  {
   "cell_type": "code",
   "execution_count": 87,
   "metadata": {},
   "outputs": [],
   "source": [
    "def plot_regression(model,X_train, y_train):\n",
    "    reg_coef_m = model.fit(X_train,y_train).coef_\n",
    "    print(reg_coef_m)\n",
    "    # Plot the coefficients\n",
    "    plt.figure(figsize=(15,5))\n",
    "    plt.plot(range(len(test_cab_1.columns)), reg_coef_m)\n",
    "    plt.xticks(range(len(test_cab_1.columns)), test_cab_1.columns.values, rotation=60)\n",
    "    plt.margins(0.02)   \n",
    "    plt.show()\n"
   ]
  },
  {
   "cell_type": "code",
   "execution_count": 88,
   "metadata": {},
   "outputs": [
    {
     "name": "stdout",
     "output_type": "stream",
     "text": [
      "[ 1.30126170e-02  3.21479595e-01  4.98992784e-02 -1.44821150e-02\n",
      "  4.30247742e-03  1.56315774e+01]\n"
     ]
    },
    {
     "data": {
      "image/png": "[encoded data removed]",
      "text/plain": [
       "<Figure size 1080x360 with 1 Axes>"
      ]
     },
     "metadata": {
      "needs_background": "light"
     },
     "output_type": "display_data"
    },
    {
     "name": "stdout",
     "output_type": "stream",
     "text": [
      "Linear Regression Coefficient Plot None\n"
     ]
    }
   ],
   "source": [
    "print('Linear Regression Coefficient Plot', plot_regression(LinearRegression(),X_train_cab,y_train_cab))"
   ]
  },
  {
   "cell_type": "code",
   "execution_count": 89,
   "metadata": {},
   "outputs": [],
   "source": [
    "def plot_importance(model, X_train_cab, y_train_cab):\n",
    "    # Creating plot\n",
    "    fig = plt.figure(figsize=(20,10))\n",
    "    plt.title(model)\n",
    "    tree_features = model.fit(X_train_cab,y_train_cab).feature_importances_\n",
    "    print(tree_features)\n",
    "    indices = np.argsort(tree_features)[::1]\n",
    "    names = [test_cab_1.columns[i] for i in indices]\n",
    "    # Add horizontal bars\n",
    "    plt.barh(range(pd.DataFrame(X_train_cab).shape[1]),tree_features[indices],align = 'center')\n",
    "    plt.yticks(range(pd.DataFrame(X_train_cab).shape[1]), names)\n",
    "    plt.show()"
   ]
  },
  {
   "cell_type": "code",
   "execution_count": 91,
   "metadata": {
    "scrolled": false
   },
   "outputs": [
    {
     "name": "stdout",
     "output_type": "stream",
     "text": [
      "[0.01658948 0.04754824 0.04305918 0.03886508 0.05897136 0.79496666]\n"
     ]
    },
    {
     "data": {
      "image/png": "[encoded data removed]",
      "text/plain": [
       "<Figure size 1440x720 with 1 Axes>"
      ]
     },
     "metadata": {
      "needs_background": "light"
     },
     "output_type": "display_data"
    },
    {
     "name": "stdout",
     "output_type": "stream",
     "text": [
      "DecisionTreeRegressor None\n"
     ]
    },
    {
     "name": "stderr",
     "output_type": "stream",
     "text": [
      "/Users/divyanggor/anaconda3/lib/python3.7/site-packages/sklearn/ensemble/forest.py:245: FutureWarning: The default value of n_estimators will change from 10 in version 0.20 to 100 in 0.22.\n",
      "  \"10 in version 0.20 to 100 in 0.22.\", FutureWarning)\n"
     ]
    },
    {
     "name": "stdout",
     "output_type": "stream",
     "text": [
      "[0.01841511 0.04776641 0.04370657 0.0352596  0.0605814  0.7942709 ]\n"
     ]
    },
    {
     "data": {
      "image/png": "[encoded data removed]",
      "text/plain": [
       "<Figure size 1440x720 with 1 Axes>"
      ]
     },
     "metadata": {
      "needs_background": "light"
     },
     "output_type": "display_data"
    },
    {
     "name": "stdout",
     "output_type": "stream",
     "text": [
      "RandomForestRegressor None\n",
      "[02:30:27] WARNING: src/objective/regression_obj.cu:152: reg:linear is now deprecated in favor of reg:squarederror.\n",
      "[0.01021647 0.09171061 0.0174886  0.01477069 0.03021676 0.83559686]\n"
     ]
    },
    {
     "data": {
      "image/png": "[encoded data removed]",
      "text/plain": [
       "<Figure size 1440x720 with 1 Axes>"
      ]
     },
     "metadata": {
      "needs_background": "light"
     },
     "output_type": "display_data"
    },
    {
     "name": "stdout",
     "output_type": "stream",
     "text": [
      "XGBRegressor None\n"
     ]
    }
   ],
   "source": [
    "print('DecisionTreeRegressor',plot_importance(DecisionTreeRegressor(),X_train_cab,y_train_cab))\n",
    "print('RandomForestRegressor',plot_importance(RandomForestRegressor(),X_train_cab,y_train_cab))\n",
    "print('XGBRegressor',plot_importance(XGBRegressor(),X_train_cab,y_train_cab))"
   ]
  },
  {
   "cell_type": "code",
   "execution_count": 92,
   "metadata": {},
   "outputs": [
    {
     "name": "stderr",
     "output_type": "stream",
     "text": [
      "/Users/divyanggor/anaconda3/lib/python3.7/site-packages/xgboost/core.py:613: UserWarning: Use subset (sliced data) of np.ndarray is not recommended because it will generate extra copies and increase memory consumption\n",
      "  warnings.warn(\"Use subset (sliced data) of np.ndarray is not recommended \" +\n"
     ]
    }
   ],
   "source": [
    "#Improve Accuraccy Using XGBOOST\n",
    "data_dmatrix = xgb.DMatrix(data=X,label=y)\n",
    "dtrain = xgb.DMatrix(X_train_cab, label=y_train_cab)\n",
    "dtest = xgb.DMatrix(X_test_cab)"
   ]
  },
  {
   "cell_type": "code",
   "execution_count": 93,
   "metadata": {},
   "outputs": [
    {
     "data": {
      "text/plain": [
       "(<xgboost.core.DMatrix at 0x1c33a16e10>,\n",
       " <xgboost.core.DMatrix at 0x1c35547400>,\n",
       " <xgboost.core.DMatrix at 0x1c33a16dd8>)"
      ]
     },
     "execution_count": 93,
     "metadata": {},
     "output_type": "execute_result"
    }
   ],
   "source": [
    "dtrain,dtest,data_dmatrix"
   ]
  },
  {
   "cell_type": "code",
   "execution_count": 94,
   "metadata": {},
   "outputs": [
    {
     "name": "stdout",
     "output_type": "stream",
     "text": [
      "[02:30:29] WARNING: src/objective/regression_obj.cu:152: reg:linear is now deprecated in favor of reg:squarederror.\n",
      "[02:30:29] WARNING: src/objective/regression_obj.cu:152: reg:linear is now deprecated in favor of reg:squarederror.\n",
      "[02:30:29] WARNING: src/objective/regression_obj.cu:152: reg:linear is now deprecated in favor of reg:squarederror.\n"
     ]
    },
    {
     "data": {
      "text/html": [
       "<div>\n",
       "<style scoped>\n",
       "    .dataframe tbody tr th:only-of-type {\n",
       "        vertical-align: middle;\n",
       "    }\n",
       "\n",
       "    .dataframe tbody tr th {\n",
       "        vertical-align: top;\n",
       "    }\n",
       "\n",
       "    .dataframe thead th {\n",
       "        text-align: right;\n",
       "    }\n",
       "</style>\n",
       "<table border=\"1\" class=\"dataframe\">\n",
       "  <thead>\n",
       "    <tr style=\"text-align: right;\">\n",
       "      <th></th>\n",
       "      <th>train-rmse-mean</th>\n",
       "      <th>train-rmse-std</th>\n",
       "      <th>test-rmse-mean</th>\n",
       "      <th>test-rmse-std</th>\n",
       "    </tr>\n",
       "  </thead>\n",
       "  <tbody>\n",
       "    <tr>\n",
       "      <th>0</th>\n",
       "      <td>8.889331</td>\n",
       "      <td>0.008423</td>\n",
       "      <td>8.890325</td>\n",
       "      <td>0.022603</td>\n",
       "    </tr>\n",
       "    <tr>\n",
       "      <th>1</th>\n",
       "      <td>8.186906</td>\n",
       "      <td>0.009896</td>\n",
       "      <td>8.187250</td>\n",
       "      <td>0.021307</td>\n",
       "    </tr>\n",
       "    <tr>\n",
       "      <th>2</th>\n",
       "      <td>7.527914</td>\n",
       "      <td>0.070565</td>\n",
       "      <td>7.528080</td>\n",
       "      <td>0.043130</td>\n",
       "    </tr>\n",
       "    <tr>\n",
       "      <th>3</th>\n",
       "      <td>6.984367</td>\n",
       "      <td>0.074100</td>\n",
       "      <td>6.984897</td>\n",
       "      <td>0.046028</td>\n",
       "    </tr>\n",
       "    <tr>\n",
       "      <th>4</th>\n",
       "      <td>6.470686</td>\n",
       "      <td>0.136828</td>\n",
       "      <td>6.471538</td>\n",
       "      <td>0.108298</td>\n",
       "    </tr>\n",
       "  </tbody>\n",
       "</table>\n",
       "</div>"
      ],
      "text/plain": [
       "   train-rmse-mean  train-rmse-std  test-rmse-mean  test-rmse-std\n",
       "0         8.889331        0.008423        8.890325       0.022603\n",
       "1         8.186906        0.009896        8.187250       0.021307\n",
       "2         7.527914        0.070565        7.528080       0.043130\n",
       "3         6.984367        0.074100        6.984897       0.046028\n",
       "4         6.470686        0.136828        6.471538       0.108298"
      ]
     },
     "execution_count": 94,
     "metadata": {},
     "output_type": "execute_result"
    }
   ],
   "source": [
    "params = {\"objective\":\"reg:linear\",'colsample_bytree': 0.3,'learning_rate': 0.1,\n",
    "                'max_depth': 5, 'alpha': 10}\n",
    "\n",
    "cv_results = xgb.cv(dtrain=data_dmatrix, params=params, nfold=3,\n",
    "                    num_boost_round=100,early_stopping_rounds=10,metrics=\"rmse\", as_pandas=True, seed=123)\n",
    "cv_results.head()"
   ]
  },
  {
   "cell_type": "code",
   "execution_count": 95,
   "metadata": {},
   "outputs": [
    {
     "name": "stdout",
     "output_type": "stream",
     "text": [
      "99    2.297692\n",
      "Name: test-rmse-mean, dtype: float64\n"
     ]
    }
   ],
   "source": [
    "# the final boosting round metric\n",
    "print((cv_results[\"test-rmse-mean\"]).tail(1))"
   ]
  },
  {
   "cell_type": "code",
   "execution_count": 96,
   "metadata": {},
   "outputs": [],
   "source": [
    "a=pd.read_csv('test.csv')"
   ]
  },
  {
   "cell_type": "code",
   "execution_count": 97,
   "metadata": {},
   "outputs": [],
   "source": [
    "test_pickup_datetime=a['pickup_datetime']"
   ]
  },
  {
   "cell_type": "code",
   "execution_count": 98,
   "metadata": {
    "scrolled": false
   },
   "outputs": [
    {
     "name": "stdout",
     "output_type": "stream",
     "text": [
      "[02:30:32] WARNING: src/objective/regression_obj.cu:152: reg:linear is now deprecated in favor of reg:squarederror.\n"
     ]
    },
    {
     "name": "stderr",
     "output_type": "stream",
     "text": [
      "/Users/divyanggor/anaconda3/lib/python3.7/site-packages/xgboost/core.py:613: UserWarning: Use subset (sliced data) of np.ndarray is not recommended because it will generate extra copies and increase memory consumption\n",
      "  warnings.warn(\"Use subset (sliced data) of np.ndarray is not recommended \" +\n"
     ]
    },
    {
     "name": "stdout",
     "output_type": "stream",
     "text": [
      "[0.0475603  0.09103161 0.0546175  0.04950772 0.06555132 0.6917316 ]\n"
     ]
    },
    {
     "data": {
      "image/png": "[encoded data removed]",
      "text/plain": [
       "<Figure size 1440x720 with 1 Axes>"
      ]
     },
     "metadata": {
      "needs_background": "light"
     },
     "output_type": "display_data"
    },
    {
     "name": "stdout",
     "output_type": "stream",
     "text": [
      "[02:30:37] WARNING: src/objective/regression_obj.cu:152: reg:linear is now deprecated in favor of reg:squarederror.\n",
      "XGBRegressor(base_score=0.5, booster='gbtree',\n",
      "             colsample_bylevel=0.9000000000000001,\n",
      "             colsample_bynode=0.7000000000000001,\n",
      "             colsample_bytree=0.7000000000000001, gamma=0,\n",
      "             importance_type='gain', learning_rate=0.05, max_delta_step=0,\n",
      "             max_depth=3, min_child_weight=1, missing=None, n_estimators=500,\n",
      "             n_jobs=1, nthread=None, objective='reg:linear', random_state=0,\n",
      "             reg_alpha=0.08685113737513521, reg_lambda=1, scale_pos_weight=1,\n",
      "             seed=None, silent=None, subsample=0.1, verbosity=1)\n",
      "RMSE_test 2.1955516894225844\n",
      "RMSE_train 2.113705445258577\n",
      "[02:30:41] WARNING: src/objective/regression_obj.cu:152: reg:linear is now deprecated in favor of reg:squarederror.\n",
      "Linear Regression 0.7303281336291445\n",
      "[02:30:44] WARNING: src/objective/regression_obj.cu:152: reg:linear is now deprecated in favor of reg:squarederror.\n",
      "[02:30:47] WARNING: src/objective/regression_obj.cu:152: reg:linear is now deprecated in favor of reg:squarederror.\n",
      "[02:30:50] WARNING: src/objective/regression_obj.cu:152: reg:linear is now deprecated in favor of reg:squarederror.\n",
      "[02:30:53] WARNING: src/objective/regression_obj.cu:152: reg:linear is now deprecated in favor of reg:squarederror.\n",
      "[02:30:57] WARNING: src/objective/regression_obj.cu:152: reg:linear is now deprecated in favor of reg:squarederror.\n",
      "XGBRegressor_CV [0.73939928 0.73612642 0.74056747 0.75161693 0.73141872]\n",
      "[02:30:59] WARNING: src/objective/regression_obj.cu:152: reg:linear is now deprecated in favor of reg:squarederror.\n",
      "[02:31:02] WARNING: src/objective/regression_obj.cu:152: reg:linear is now deprecated in favor of reg:squarederror.\n",
      "[02:31:05] WARNING: src/objective/regression_obj.cu:152: reg:linear is now deprecated in favor of reg:squarederror.\n",
      "[02:31:08] WARNING: src/objective/regression_obj.cu:152: reg:linear is now deprecated in favor of reg:squarederror.\n",
      "[02:31:11] WARNING: src/objective/regression_obj.cu:152: reg:linear is now deprecated in favor of reg:squarederror.\n",
      "XGBRegressor_CV_mean 0.7398257636872658\n"
     ]
    }
   ],
   "source": [
    "# Instantiate a xgb regressor: xgb\n",
    "Xgb = XGBRegressor(subsample= 0.1, reg_alpha= 0.08685113737513521, n_estimators= 500, max_depth= 3, learning_rate=0.05, colsample_bytree= 0.7000000000000001, colsample_bynode=0.7000000000000001, colsample_bylevel=0.9000000000000001)\n",
    "\n",
    "# Fit the regressor to the data\n",
    "Xgb.fit(X,y)\n",
    "\n",
    "# Compute and print the coefficients\n",
    "xgb_features = Xgb.feature_importances_\n",
    "print(xgb_features)\n",
    "\n",
    "# Sort feature importances in descending order\n",
    "indices = np.argsort(xgb_features)[::1]\n",
    "\n",
    "# Rearrange feature names so they match the sorted feature importances\n",
    "names = [test_cab_1.columns[i] for i in indices]\n",
    "\n",
    "# Creating plot\n",
    "fig = plt.figure(figsize=(20,10))\n",
    "plt.title(\"Feature Importance\")\n",
    "\n",
    "# Add horizontal bars\n",
    "plt.barh(range(pd.DataFrame(X_train_cab).shape[1]),xgb_features[indices],align = 'center')\n",
    "plt.yticks(range(pd.DataFrame(X_train_cab).shape[1]), names)\n",
    "plt.savefig(' xgb1 feature importance')\n",
    "plt.show()\n",
    "RMSE(Xgb,X_train_cab,X_test_cab,y_train_cab,y_test_cab)\n",
    "print('Linear Regression',get_score(Xgb, X_train_cab, X_test_cab, y_train_cab, y_test_cab))\n",
    "print('XGBRegressor_CV', cross_val_score(Xgb, X, y,cv=5))\n",
    "print('XGBRegressor_CV_mean', cross_val_score(Xgb, X, y,cv=5).mean())\n",
    "\n",
    "# Predictions\n",
    "pred = Xgb.predict(test_cab_1.values)\n",
    "pred_results_wrt_date = pd.DataFrame({\"pickup_datetime\":test_pickup_datetime,\"fare_amount\" : pred})\n",
    "pred_results_wrt_date.to_csv(\"predictions_xgboost.csv\",index=False)"
   ]
  },
  {
   "cell_type": "code",
   "execution_count": 99,
   "metadata": {
    "scrolled": false
   },
   "outputs": [
    {
     "data": {
      "text/html": [
       "<div>\n",
       "<style scoped>\n",
       "    .dataframe tbody tr th:only-of-type {\n",
       "        vertical-align: middle;\n",
       "    }\n",
       "\n",
       "    .dataframe tbody tr th {\n",
       "        vertical-align: top;\n",
       "    }\n",
       "\n",
       "    .dataframe thead th {\n",
       "        text-align: right;\n",
       "    }\n",
       "</style>\n",
       "<table border=\"1\" class=\"dataframe\">\n",
       "  <thead>\n",
       "    <tr style=\"text-align: right;\">\n",
       "      <th></th>\n",
       "      <th>pickup_datetime</th>\n",
       "      <th>fare_amount</th>\n",
       "    </tr>\n",
       "  </thead>\n",
       "  <tbody>\n",
       "    <tr>\n",
       "      <th>0</th>\n",
       "      <td>2015-01-27 13:08:24 UTC</td>\n",
       "      <td>19.113100</td>\n",
       "    </tr>\n",
       "    <tr>\n",
       "      <th>1</th>\n",
       "      <td>2015-01-27 13:08:24 UTC</td>\n",
       "      <td>19.113100</td>\n",
       "    </tr>\n",
       "    <tr>\n",
       "      <th>2</th>\n",
       "      <td>2011-10-08 11:53:44 UTC</td>\n",
       "      <td>14.126828</td>\n",
       "    </tr>\n",
       "    <tr>\n",
       "      <th>3</th>\n",
       "      <td>2012-12-01 21:12:12 UTC</td>\n",
       "      <td>15.965385</td>\n",
       "    </tr>\n",
       "    <tr>\n",
       "      <th>4</th>\n",
       "      <td>2012-12-01 21:12:12 UTC</td>\n",
       "      <td>15.965385</td>\n",
       "    </tr>\n",
       "    <tr>\n",
       "      <th>5</th>\n",
       "      <td>2012-12-01 21:12:12 UTC</td>\n",
       "      <td>15.965385</td>\n",
       "    </tr>\n",
       "    <tr>\n",
       "      <th>6</th>\n",
       "      <td>2011-10-06 12:10:20 UTC</td>\n",
       "      <td>16.668480</td>\n",
       "    </tr>\n",
       "    <tr>\n",
       "      <th>7</th>\n",
       "      <td>2011-10-06 12:10:20 UTC</td>\n",
       "      <td>17.171066</td>\n",
       "    </tr>\n",
       "    <tr>\n",
       "      <th>8</th>\n",
       "      <td>2011-10-06 12:10:20 UTC</td>\n",
       "      <td>17.171066</td>\n",
       "    </tr>\n",
       "    <tr>\n",
       "      <th>9</th>\n",
       "      <td>2014-02-18 15:22:20 UTC</td>\n",
       "      <td>19.465405</td>\n",
       "    </tr>\n",
       "    <tr>\n",
       "      <th>10</th>\n",
       "      <td>2014-02-18 15:22:20 UTC</td>\n",
       "      <td>19.465405</td>\n",
       "    </tr>\n",
       "    <tr>\n",
       "      <th>11</th>\n",
       "      <td>2014-02-18 15:22:20 UTC</td>\n",
       "      <td>19.465405</td>\n",
       "    </tr>\n",
       "    <tr>\n",
       "      <th>12</th>\n",
       "      <td>2010-03-29 20:20:32 UTC</td>\n",
       "      <td>14.961793</td>\n",
       "    </tr>\n",
       "    <tr>\n",
       "      <th>13</th>\n",
       "      <td>2010-03-29 20:20:32 UTC</td>\n",
       "      <td>18.169594</td>\n",
       "    </tr>\n",
       "    <tr>\n",
       "      <th>14</th>\n",
       "      <td>2011-10-06 03:59:12 UTC</td>\n",
       "      <td>17.422100</td>\n",
       "    </tr>\n",
       "    <tr>\n",
       "      <th>15</th>\n",
       "      <td>2011-10-06 03:59:12 UTC</td>\n",
       "      <td>17.422100</td>\n",
       "    </tr>\n",
       "    <tr>\n",
       "      <th>16</th>\n",
       "      <td>2012-07-15 16:45:04 UTC</td>\n",
       "      <td>8.477461</td>\n",
       "    </tr>\n",
       "    <tr>\n",
       "      <th>17</th>\n",
       "      <td>2012-07-15 16:45:04 UTC</td>\n",
       "      <td>16.721313</td>\n",
       "    </tr>\n",
       "    <tr>\n",
       "      <th>18</th>\n",
       "      <td>2012-07-15 16:45:04 UTC</td>\n",
       "      <td>16.600811</td>\n",
       "    </tr>\n",
       "    <tr>\n",
       "      <th>19</th>\n",
       "      <td>2012-07-15 16:45:04 UTC</td>\n",
       "      <td>10.946189</td>\n",
       "    </tr>\n",
       "    <tr>\n",
       "      <th>20</th>\n",
       "      <td>2014-10-29 02:09:56 UTC</td>\n",
       "      <td>18.854158</td>\n",
       "    </tr>\n",
       "    <tr>\n",
       "      <th>21</th>\n",
       "      <td>2014-06-14 13:39:00 UTC</td>\n",
       "      <td>18.494307</td>\n",
       "    </tr>\n",
       "    <tr>\n",
       "      <th>22</th>\n",
       "      <td>2014-06-14 13:39:00 UTC</td>\n",
       "      <td>18.494307</td>\n",
       "    </tr>\n",
       "    <tr>\n",
       "      <th>23</th>\n",
       "      <td>2014-06-14 13:39:00 UTC</td>\n",
       "      <td>18.494307</td>\n",
       "    </tr>\n",
       "    <tr>\n",
       "      <th>24</th>\n",
       "      <td>2014-06-14 13:39:00 UTC</td>\n",
       "      <td>18.494307</td>\n",
       "    </tr>\n",
       "    <tr>\n",
       "      <th>25</th>\n",
       "      <td>2014-06-14 13:39:00 UTC</td>\n",
       "      <td>18.494307</td>\n",
       "    </tr>\n",
       "    <tr>\n",
       "      <th>26</th>\n",
       "      <td>2014-06-14 13:39:00 UTC</td>\n",
       "      <td>18.494307</td>\n",
       "    </tr>\n",
       "    <tr>\n",
       "      <th>27</th>\n",
       "      <td>2014-06-14 13:39:00 UTC</td>\n",
       "      <td>18.494307</td>\n",
       "    </tr>\n",
       "    <tr>\n",
       "      <th>28</th>\n",
       "      <td>2014-06-14 13:39:00 UTC</td>\n",
       "      <td>18.494307</td>\n",
       "    </tr>\n",
       "    <tr>\n",
       "      <th>29</th>\n",
       "      <td>2014-06-14 13:39:00 UTC</td>\n",
       "      <td>18.494307</td>\n",
       "    </tr>\n",
       "    <tr>\n",
       "      <th>...</th>\n",
       "      <td>...</td>\n",
       "      <td>...</td>\n",
       "    </tr>\n",
       "    <tr>\n",
       "      <th>9884</th>\n",
       "      <td>2013-09-25 22:00:00 UTC</td>\n",
       "      <td>18.488867</td>\n",
       "    </tr>\n",
       "    <tr>\n",
       "      <th>9885</th>\n",
       "      <td>2013-09-25 22:00:00 UTC</td>\n",
       "      <td>18.488867</td>\n",
       "    </tr>\n",
       "    <tr>\n",
       "      <th>9886</th>\n",
       "      <td>2013-09-25 22:00:00 UTC</td>\n",
       "      <td>18.488867</td>\n",
       "    </tr>\n",
       "    <tr>\n",
       "      <th>9887</th>\n",
       "      <td>2013-09-25 22:00:00 UTC</td>\n",
       "      <td>18.488867</td>\n",
       "    </tr>\n",
       "    <tr>\n",
       "      <th>9888</th>\n",
       "      <td>2013-09-25 22:00:00 UTC</td>\n",
       "      <td>7.236052</td>\n",
       "    </tr>\n",
       "    <tr>\n",
       "      <th>9889</th>\n",
       "      <td>2013-09-25 22:00:00 UTC</td>\n",
       "      <td>18.488867</td>\n",
       "    </tr>\n",
       "    <tr>\n",
       "      <th>9890</th>\n",
       "      <td>2013-09-25 22:00:00 UTC</td>\n",
       "      <td>18.488867</td>\n",
       "    </tr>\n",
       "    <tr>\n",
       "      <th>9891</th>\n",
       "      <td>2013-09-25 22:00:00 UTC</td>\n",
       "      <td>18.488867</td>\n",
       "    </tr>\n",
       "    <tr>\n",
       "      <th>9892</th>\n",
       "      <td>2013-09-25 22:00:00 UTC</td>\n",
       "      <td>18.488867</td>\n",
       "    </tr>\n",
       "    <tr>\n",
       "      <th>9893</th>\n",
       "      <td>2013-09-25 22:00:00 UTC</td>\n",
       "      <td>18.488867</td>\n",
       "    </tr>\n",
       "    <tr>\n",
       "      <th>9894</th>\n",
       "      <td>2013-09-25 22:00:00 UTC</td>\n",
       "      <td>18.488867</td>\n",
       "    </tr>\n",
       "    <tr>\n",
       "      <th>9895</th>\n",
       "      <td>2013-09-25 22:00:00 UTC</td>\n",
       "      <td>18.488867</td>\n",
       "    </tr>\n",
       "    <tr>\n",
       "      <th>9896</th>\n",
       "      <td>2013-09-25 22:00:00 UTC</td>\n",
       "      <td>18.488867</td>\n",
       "    </tr>\n",
       "    <tr>\n",
       "      <th>9897</th>\n",
       "      <td>2015-02-20 11:08:29 UTC</td>\n",
       "      <td>18.428986</td>\n",
       "    </tr>\n",
       "    <tr>\n",
       "      <th>9898</th>\n",
       "      <td>2015-01-12 15:36:37 UTC</td>\n",
       "      <td>15.065166</td>\n",
       "    </tr>\n",
       "    <tr>\n",
       "      <th>9899</th>\n",
       "      <td>2015-06-07 00:38:14 UTC</td>\n",
       "      <td>17.044289</td>\n",
       "    </tr>\n",
       "    <tr>\n",
       "      <th>9900</th>\n",
       "      <td>2015-04-12 21:56:22 UTC</td>\n",
       "      <td>18.066681</td>\n",
       "    </tr>\n",
       "    <tr>\n",
       "      <th>9901</th>\n",
       "      <td>2015-04-10 11:56:54 UTC</td>\n",
       "      <td>18.597801</td>\n",
       "    </tr>\n",
       "    <tr>\n",
       "      <th>9902</th>\n",
       "      <td>2015-06-25 01:01:46 UTC</td>\n",
       "      <td>17.482792</td>\n",
       "    </tr>\n",
       "    <tr>\n",
       "      <th>9903</th>\n",
       "      <td>2015-05-29 10:02:42 UTC</td>\n",
       "      <td>17.984968</td>\n",
       "    </tr>\n",
       "    <tr>\n",
       "      <th>9904</th>\n",
       "      <td>2015-06-30 20:03:50 UTC</td>\n",
       "      <td>18.161488</td>\n",
       "    </tr>\n",
       "    <tr>\n",
       "      <th>9905</th>\n",
       "      <td>2015-02-27 19:36:02 UTC</td>\n",
       "      <td>18.241913</td>\n",
       "    </tr>\n",
       "    <tr>\n",
       "      <th>9906</th>\n",
       "      <td>2015-06-15 01:00:06 UTC</td>\n",
       "      <td>11.740735</td>\n",
       "    </tr>\n",
       "    <tr>\n",
       "      <th>9907</th>\n",
       "      <td>2015-02-03 09:00:58 UTC</td>\n",
       "      <td>18.890184</td>\n",
       "    </tr>\n",
       "    <tr>\n",
       "      <th>9908</th>\n",
       "      <td>2015-05-19 13:58:11 UTC</td>\n",
       "      <td>18.568415</td>\n",
       "    </tr>\n",
       "    <tr>\n",
       "      <th>9909</th>\n",
       "      <td>2015-05-10 12:37:51 UTC</td>\n",
       "      <td>17.762606</td>\n",
       "    </tr>\n",
       "    <tr>\n",
       "      <th>9910</th>\n",
       "      <td>2015-01-12 17:05:51 UTC</td>\n",
       "      <td>18.445150</td>\n",
       "    </tr>\n",
       "    <tr>\n",
       "      <th>9911</th>\n",
       "      <td>2015-04-19 20:44:15 UTC</td>\n",
       "      <td>18.095823</td>\n",
       "    </tr>\n",
       "    <tr>\n",
       "      <th>9912</th>\n",
       "      <td>2015-01-31 01:05:19 UTC</td>\n",
       "      <td>17.406979</td>\n",
       "    </tr>\n",
       "    <tr>\n",
       "      <th>9913</th>\n",
       "      <td>2015-01-18 14:06:23 UTC</td>\n",
       "      <td>17.102240</td>\n",
       "    </tr>\n",
       "  </tbody>\n",
       "</table>\n",
       "<p>9914 rows × 2 columns</p>\n",
       "</div>"
      ],
      "text/plain": [
       "              pickup_datetime  fare_amount\n",
       "0     2015-01-27 13:08:24 UTC    19.113100\n",
       "1     2015-01-27 13:08:24 UTC    19.113100\n",
       "2     2011-10-08 11:53:44 UTC    14.126828\n",
       "3     2012-12-01 21:12:12 UTC    15.965385\n",
       "4     2012-12-01 21:12:12 UTC    15.965385\n",
       "5     2012-12-01 21:12:12 UTC    15.965385\n",
       "6     2011-10-06 12:10:20 UTC    16.668480\n",
       "7     2011-10-06 12:10:20 UTC    17.171066\n",
       "8     2011-10-06 12:10:20 UTC    17.171066\n",
       "9     2014-02-18 15:22:20 UTC    19.465405\n",
       "10    2014-02-18 15:22:20 UTC    19.465405\n",
       "11    2014-02-18 15:22:20 UTC    19.465405\n",
       "12    2010-03-29 20:20:32 UTC    14.961793\n",
       "13    2010-03-29 20:20:32 UTC    18.169594\n",
       "14    2011-10-06 03:59:12 UTC    17.422100\n",
       "15    2011-10-06 03:59:12 UTC    17.422100\n",
       "16    2012-07-15 16:45:04 UTC     8.477461\n",
       "17    2012-07-15 16:45:04 UTC    16.721313\n",
       "18    2012-07-15 16:45:04 UTC    16.600811\n",
       "19    2012-07-15 16:45:04 UTC    10.946189\n",
       "20    2014-10-29 02:09:56 UTC    18.854158\n",
       "21    2014-06-14 13:39:00 UTC    18.494307\n",
       "22    2014-06-14 13:39:00 UTC    18.494307\n",
       "23    2014-06-14 13:39:00 UTC    18.494307\n",
       "24    2014-06-14 13:39:00 UTC    18.494307\n",
       "25    2014-06-14 13:39:00 UTC    18.494307\n",
       "26    2014-06-14 13:39:00 UTC    18.494307\n",
       "27    2014-06-14 13:39:00 UTC    18.494307\n",
       "28    2014-06-14 13:39:00 UTC    18.494307\n",
       "29    2014-06-14 13:39:00 UTC    18.494307\n",
       "...                       ...          ...\n",
       "9884  2013-09-25 22:00:00 UTC    18.488867\n",
       "9885  2013-09-25 22:00:00 UTC    18.488867\n",
       "9886  2013-09-25 22:00:00 UTC    18.488867\n",
       "9887  2013-09-25 22:00:00 UTC    18.488867\n",
       "9888  2013-09-25 22:00:00 UTC     7.236052\n",
       "9889  2013-09-25 22:00:00 UTC    18.488867\n",
       "9890  2013-09-25 22:00:00 UTC    18.488867\n",
       "9891  2013-09-25 22:00:00 UTC    18.488867\n",
       "9892  2013-09-25 22:00:00 UTC    18.488867\n",
       "9893  2013-09-25 22:00:00 UTC    18.488867\n",
       "9894  2013-09-25 22:00:00 UTC    18.488867\n",
       "9895  2013-09-25 22:00:00 UTC    18.488867\n",
       "9896  2013-09-25 22:00:00 UTC    18.488867\n",
       "9897  2015-02-20 11:08:29 UTC    18.428986\n",
       "9898  2015-01-12 15:36:37 UTC    15.065166\n",
       "9899  2015-06-07 00:38:14 UTC    17.044289\n",
       "9900  2015-04-12 21:56:22 UTC    18.066681\n",
       "9901  2015-04-10 11:56:54 UTC    18.597801\n",
       "9902  2015-06-25 01:01:46 UTC    17.482792\n",
       "9903  2015-05-29 10:02:42 UTC    17.984968\n",
       "9904  2015-06-30 20:03:50 UTC    18.161488\n",
       "9905  2015-02-27 19:36:02 UTC    18.241913\n",
       "9906  2015-06-15 01:00:06 UTC    11.740735\n",
       "9907  2015-02-03 09:00:58 UTC    18.890184\n",
       "9908  2015-05-19 13:58:11 UTC    18.568415\n",
       "9909  2015-05-10 12:37:51 UTC    17.762606\n",
       "9910  2015-01-12 17:05:51 UTC    18.445150\n",
       "9911  2015-04-19 20:44:15 UTC    18.095823\n",
       "9912  2015-01-31 01:05:19 UTC    17.406979\n",
       "9913  2015-01-18 14:06:23 UTC    17.102240\n",
       "\n",
       "[9914 rows x 2 columns]"
      ]
     },
     "execution_count": 99,
     "metadata": {},
     "output_type": "execute_result"
    }
   ],
   "source": [
    "pred_results_wrt_date"
   ]
  },
  {
   "cell_type": "code",
   "execution_count": null,
   "metadata": {},
   "outputs": [],
   "source": []
  }
 ],
 "metadata": {
  "colab": {
   "name": "cab_fare_dug.ipynb",
   "provenance": []
  },
  "kernelspec": {
   "display_name": "Python 3",
   "language": "python",
   "name": "python3"
  },
  "language_info": {
   "codemirror_mode": {
    "name": "ipython",
    "version": 3
   },
   "file_extension": ".py",
   "mimetype": "text/x-python",
   "name": "python",
   "nbconvert_exporter": "python",
   "pygments_lexer": "ipython3",
   "version": "3.7.3"
  }
 },
 "nbformat": 4,
 "nbformat_minor": 1
}
